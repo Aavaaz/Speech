{
 "cells": [
  {
   "cell_type": "code",
   "execution_count": 1,
   "metadata": {},
   "outputs": [],
   "source": [
    "import warnings\n",
    "warnings.filterwarnings('ignore')"
   ]
  },
  {
   "cell_type": "code",
   "execution_count": 1,
   "metadata": {},
   "outputs": [],
   "source": [
    "import os\n",
    "from tqdm.notebook import tqdm"
   ]
  },
  {
   "cell_type": "code",
   "execution_count": 2,
   "metadata": {},
   "outputs": [],
   "source": [
    "from azure_asr import recognize_from_microphone, transcribe_audio_to_text\n",
    "import pymodel\n",
    "\n",
    "# IMPORTANT:\n",
    "\n",
    "# change default language in azure_asr.py"
   ]
  },
  {
   "cell_type": "code",
   "execution_count": 5,
   "metadata": {},
   "outputs": [],
   "source": [
    "model_name = 'google/flan-t5-small-finetuned-asr_correction-hindi'\n",
    "\n",
    "_model, _tokenizer = pymodel.load_model(model_name)"
   ]
  },
  {
   "cell_type": "code",
   "execution_count": 6,
   "metadata": {},
   "outputs": [],
   "source": [
    "def correct_asr(text, model=_model, tokenizer=_tokenizer):\n",
    "    corrected = pymodel.correct(text, model, tokenizer)\n",
    "    return corrected"
   ]
  },
  {
   "cell_type": "code",
   "execution_count": 8,
   "metadata": {},
   "outputs": [],
   "source": [
    "import re\n",
    "\n",
    "def remove_characters(line):\n",
    "    return re.sub('[.,]', '', line)\n",
    "\n",
    "def find_diff_words(str1, str2):\n",
    "    str1 =remove_characters(str1)\n",
    "    str2 =remove_characters(str2)\n",
    "\n",
    "    words1 = str1.split()\n",
    "    words2 = str2.split()\n",
    "    diff_words = []\n",
    "    for i in range(min((len(words1), len(words2)))):\n",
    "        if words1[i].lower() != words2[i].lower():\n",
    "            # print(words1[i], words2[i])\n",
    "            diffs = [i, words1[i], words2[i]]\n",
    "            diff_words.append(diffs)\n",
    "    return diff_words"
   ]
  },
  {
   "cell_type": "code",
   "execution_count": 10,
   "metadata": {},
   "outputs": [
    {
     "data": {
      "text/plain": [
       "['hin_audio_6347.wav',\n",
       " 'hin_audio_6355.wav',\n",
       " 'hin_audio_6396.wav',\n",
       " 'hin_audio_6408.wav',\n",
       " 'hin_audio_6438.wav',\n",
       " 'hin_audio_6479.wav',\n",
       " 'hin_audio_6486.wav',\n",
       " 'hin_audio_6493.wav',\n",
       " 'train']"
      ]
     },
     "execution_count": 10,
     "metadata": {},
     "output_type": "execute_result"
    }
   ],
   "source": [
    "files = os.listdir('../data/audios/hindi/test')\n",
    "files"
   ]
  },
  {
   "cell_type": "code",
   "execution_count": 15,
   "metadata": {},
   "outputs": [
    {
     "data": {
      "application/vnd.jupyter.widget-view+json": {
       "model_id": "793f1f212e3f457f9908ed3b2948844b",
       "version_major": 2,
       "version_minor": 0
      },
      "text/plain": [
       "  0%|          | 0/9 [00:00<?, ?it/s]"
      ]
     },
     "metadata": {},
     "output_type": "display_data"
    },
    {
     "name": "stdout",
     "output_type": "stream",
     "text": [
      "hello\n",
      "converting\n"
     ]
    },
    {
     "name": "stderr",
     "output_type": "stream",
     "text": [
      "C:\\Users\\Hanish\\AppData\\Roaming\\Python\\Python311\\site-packages\\transformers\\generation\\utils.py:1249: UserWarning: Using the model-agnostic default `max_length` (=20) to control the generation length. We recommend setting `max_new_tokens` to control the maximum length of the generation.\n",
      "  warnings.warn(\n"
     ]
    },
    {
     "name": "stdout",
     "output_type": "stream",
     "text": [
      "hello\n",
      "converting\n",
      "hello\n",
      "converting\n",
      "hello\n",
      "converting\n",
      "hello\n",
      "converting\n",
      "hello\n",
      "converting\n",
      "hello\n",
      "converting\n",
      "hello\n",
      "converting\n"
     ]
    }
   ],
   "source": [
    "df = []\n",
    "for file in tqdm(files):\n",
    "    if file.endswith('.wav'):\n",
    "        audio_file_path = '../data/audios/hindi/test/' + file\n",
    "        if os.path.exists(audio_file_path):\n",
    "            print('converting')\n",
    "            try:\n",
    "                transcription = transcribe_audio_to_text(audio_file_path)\n",
    "                corrected_transcription = correct_asr(transcription)\n",
    "            except:\n",
    "                print('error')\n",
    "\n",
    "            df.append([audio_file_path, transcription, corrected_transcription])"
   ]
  },
  {
   "cell_type": "code",
   "execution_count": 16,
   "metadata": {},
   "outputs": [
    {
     "data": {
      "text/html": [
       "<div>\n",
       "<style scoped>\n",
       "    .dataframe tbody tr th:only-of-type {\n",
       "        vertical-align: middle;\n",
       "    }\n",
       "\n",
       "    .dataframe tbody tr th {\n",
       "        vertical-align: top;\n",
       "    }\n",
       "\n",
       "    .dataframe thead th {\n",
       "        text-align: right;\n",
       "    }\n",
       "</style>\n",
       "<table border=\"1\" class=\"dataframe\">\n",
       "  <thead>\n",
       "    <tr style=\"text-align: right;\">\n",
       "      <th></th>\n",
       "      <th>file</th>\n",
       "      <th>azure_transcription</th>\n",
       "      <th>corrected_transcription</th>\n",
       "    </tr>\n",
       "  </thead>\n",
       "  <tbody>\n",
       "    <tr>\n",
       "      <th>0</th>\n",
       "      <td>../data/audios/hindi/test/hin_audio_6347.wav</td>\n",
       "      <td>Speech Recognition canceled: CancellationReaso...</td>\n",
       "      <td>Speech Recognition canceled: CancellationReaso...</td>\n",
       "    </tr>\n",
       "    <tr>\n",
       "      <th>1</th>\n",
       "      <td>../data/audios/hindi/test/hin_audio_6355.wav</td>\n",
       "      <td>मुझमें वो काम करने की ऊर्जा नहीं है जो मैं पहल...</td>\n",
       "      <td></td>\n",
       "    </tr>\n",
       "    <tr>\n",
       "      <th>2</th>\n",
       "      <td>../data/audios/hindi/test/hin_audio_6396.wav</td>\n",
       "      <td>टेनिस खेलने के बाद मुझे अपनी गर्दन के पास एक त...</td>\n",
       "      <td></td>\n",
       "    </tr>\n",
       "    <tr>\n",
       "      <th>3</th>\n",
       "      <td>../data/audios/hindi/test/hin_audio_6408.wav</td>\n",
       "      <td>मैं कई हफ्तों से सर्दी से परेशान हूँ, लेकिन फि...</td>\n",
       "      <td></td>\n",
       "    </tr>\n",
       "    <tr>\n",
       "      <th>4</th>\n",
       "      <td>../data/audios/hindi/test/hin_audio_6438.wav</td>\n",
       "      <td>जब मैं जिम में था, तब से मेरे पेक की मांसपेशिय...</td>\n",
       "      <td></td>\n",
       "    </tr>\n",
       "  </tbody>\n",
       "</table>\n",
       "</div>"
      ],
      "text/plain": [
       "                                           file  \\\n",
       "0  ../data/audios/hindi/test/hin_audio_6347.wav   \n",
       "1  ../data/audios/hindi/test/hin_audio_6355.wav   \n",
       "2  ../data/audios/hindi/test/hin_audio_6396.wav   \n",
       "3  ../data/audios/hindi/test/hin_audio_6408.wav   \n",
       "4  ../data/audios/hindi/test/hin_audio_6438.wav   \n",
       "\n",
       "                                 azure_transcription  \\\n",
       "0  Speech Recognition canceled: CancellationReaso...   \n",
       "1  मुझमें वो काम करने की ऊर्जा नहीं है जो मैं पहल...   \n",
       "2  टेनिस खेलने के बाद मुझे अपनी गर्दन के पास एक त...   \n",
       "3  मैं कई हफ्तों से सर्दी से परेशान हूँ, लेकिन फि...   \n",
       "4  जब मैं जिम में था, तब से मेरे पेक की मांसपेशिय...   \n",
       "\n",
       "                             corrected_transcription  \n",
       "0  Speech Recognition canceled: CancellationReaso...  \n",
       "1                                                     \n",
       "2                                                     \n",
       "3                                                     \n",
       "4                                                     "
      ]
     },
     "execution_count": 16,
     "metadata": {},
     "output_type": "execute_result"
    }
   ],
   "source": [
    "import pandas as pd\n",
    "\n",
    "df = pd.DataFrame(df, columns=['file', 'azure_transcription', 'corrected_transcription'])\n",
    "\n",
    "df.head()"
   ]
  },
  {
   "cell_type": "code",
   "execution_count": 19,
   "metadata": {},
   "outputs": [
    {
     "data": {
      "text/html": [
       "<div>\n",
       "<style scoped>\n",
       "    .dataframe tbody tr th:only-of-type {\n",
       "        vertical-align: middle;\n",
       "    }\n",
       "\n",
       "    .dataframe tbody tr th {\n",
       "        vertical-align: top;\n",
       "    }\n",
       "\n",
       "    .dataframe thead th {\n",
       "        text-align: right;\n",
       "    }\n",
       "</style>\n",
       "<table border=\"1\" class=\"dataframe\">\n",
       "  <thead>\n",
       "    <tr style=\"text-align: right;\">\n",
       "      <th></th>\n",
       "      <th>og_transcription</th>\n",
       "    </tr>\n",
       "    <tr>\n",
       "      <th>file_name</th>\n",
       "      <th></th>\n",
       "    </tr>\n",
       "  </thead>\n",
       "  <tbody>\n",
       "    <tr>\n",
       "      <th>hin_audio_0.wav</th>\n",
       "      <td>जब भी मैं उसे याद करता हूं तो मैं उदास हो जाता...</td>\n",
       "    </tr>\n",
       "    <tr>\n",
       "      <th>hin_audio_1.wav</th>\n",
       "      <td>जब मैं भारी चीजें उठाता हूं तो मुझे ऐसा लगता ह...</td>\n",
       "    </tr>\n",
       "    <tr>\n",
       "      <th>hin_audio_2.wav</th>\n",
       "      <td>जब मैं अपना हाथ हिलाता हूं तो बहुत अधिक दर्द ह...</td>\n",
       "    </tr>\n",
       "    <tr>\n",
       "      <th>hin_audio_3.wav</th>\n",
       "      <td>मेरे बेटे के होंठ में छेद हो गया था और वह सूज ...</td>\n",
       "    </tr>\n",
       "    <tr>\n",
       "      <th>hin_audio_4.wav</th>\n",
       "      <td>मेरी पीठ के निचले हिस्से की मांसपेशियाँ दर्द क...</td>\n",
       "    </tr>\n",
       "  </tbody>\n",
       "</table>\n",
       "</div>"
      ],
      "text/plain": [
       "                                                  og_transcription\n",
       "file_name                                                         \n",
       "hin_audio_0.wav  जब भी मैं उसे याद करता हूं तो मैं उदास हो जाता...\n",
       "hin_audio_1.wav  जब मैं भारी चीजें उठाता हूं तो मुझे ऐसा लगता ह...\n",
       "hin_audio_2.wav  जब मैं अपना हाथ हिलाता हूं तो बहुत अधिक दर्द ह...\n",
       "hin_audio_3.wav  मेरे बेटे के होंठ में छेद हो गया था और वह सूज ...\n",
       "hin_audio_4.wav  मेरी पीठ के निचले हिस्से की मांसपेशियाँ दर्द क..."
      ]
     },
     "execution_count": 19,
     "metadata": {},
     "output_type": "execute_result"
    }
   ],
   "source": [
    "recording = pd.read_csv('../data/audios/hindi/audio_file_info.csv', index_col='file_name')\n",
    "# recording.index = recording['file']\n",
    "recording.head()"
   ]
  },
  {
   "cell_type": "code",
   "execution_count": 21,
   "metadata": {},
   "outputs": [],
   "source": [
    "correct = []\n",
    "for file in df['file']:\n",
    "    file = file.split('/')[-1] \n",
    "\n",
    "    if file in recording.index.to_list():\n",
    "        correct.append(recording.loc[file]['og_transcription'])\n",
    "    else:\n",
    "        correct.append('NO LABEL EXISTS')\n",
    "\n",
    "df['og_transcript'] = correct\n"
   ]
  },
  {
   "cell_type": "code",
   "execution_count": 22,
   "metadata": {},
   "outputs": [],
   "source": [
    "differnces = []\n",
    "for lin1, lin2 in zip(df['corrected_transcription'], df['og_transcript']):\n",
    "    differnces.append(find_diff_words(lin1, lin2))"
   ]
  },
  {
   "cell_type": "code",
   "execution_count": 23,
   "metadata": {},
   "outputs": [],
   "source": [
    "df['differences'] = differnces"
   ]
  },
  {
   "cell_type": "code",
   "execution_count": 25,
   "metadata": {},
   "outputs": [
    {
     "data": {
      "text/html": [
       "<div>\n",
       "<style scoped>\n",
       "    .dataframe tbody tr th:only-of-type {\n",
       "        vertical-align: middle;\n",
       "    }\n",
       "\n",
       "    .dataframe tbody tr th {\n",
       "        vertical-align: top;\n",
       "    }\n",
       "\n",
       "    .dataframe thead th {\n",
       "        text-align: right;\n",
       "    }\n",
       "</style>\n",
       "<table border=\"1\" class=\"dataframe\">\n",
       "  <thead>\n",
       "    <tr style=\"text-align: right;\">\n",
       "      <th></th>\n",
       "      <th>file</th>\n",
       "      <th>azure_transcription</th>\n",
       "      <th>corrected_transcription</th>\n",
       "      <th>og_transcript</th>\n",
       "      <th>differences</th>\n",
       "    </tr>\n",
       "  </thead>\n",
       "  <tbody>\n",
       "    <tr>\n",
       "      <th>0</th>\n",
       "      <td>../data/audios/hindi/test/hin_audio_6347.wav</td>\n",
       "      <td>Speech Recognition canceled: CancellationReaso...</td>\n",
       "      <td>Speech Recognition canceled: CancellationReaso...</td>\n",
       "      <td>जब मैं इसे छूता हूं तो मेरे कान में दर्द होता है।</td>\n",
       "      <td>[[0, Speech, जब], [1, Recognition, मैं], [2, c...</td>\n",
       "    </tr>\n",
       "    <tr>\n",
       "      <th>1</th>\n",
       "      <td>../data/audios/hindi/test/hin_audio_6355.wav</td>\n",
       "      <td>मुझमें वो काम करने की ऊर्जा नहीं है जो मैं पहल...</td>\n",
       "      <td></td>\n",
       "      <td>मुझमें वह काम करने की ऊर्जा नहीं है जो मैं पहल...</td>\n",
       "      <td>[]</td>\n",
       "    </tr>\n",
       "    <tr>\n",
       "      <th>2</th>\n",
       "      <td>../data/audios/hindi/test/hin_audio_6396.wav</td>\n",
       "      <td>टेनिस खेलने के बाद मुझे अपनी गर्दन के पास एक त...</td>\n",
       "      <td></td>\n",
       "      <td>टेनिस खेलने के बाद मुझे अपनी गर्दन के पास एक त...</td>\n",
       "      <td>[]</td>\n",
       "    </tr>\n",
       "    <tr>\n",
       "      <th>3</th>\n",
       "      <td>../data/audios/hindi/test/hin_audio_6408.wav</td>\n",
       "      <td>मैं कई हफ्तों से सर्दी से परेशान हूँ, लेकिन फि...</td>\n",
       "      <td></td>\n",
       "      <td>मैं कई हफ्तों से सर्दी से परेशान हूं लेकिन फिर...</td>\n",
       "      <td>[]</td>\n",
       "    </tr>\n",
       "    <tr>\n",
       "      <th>4</th>\n",
       "      <td>../data/audios/hindi/test/hin_audio_6438.wav</td>\n",
       "      <td>जब मैं जिम में था, तब से मेरे पेक की मांसपेशिय...</td>\n",
       "      <td></td>\n",
       "      <td>जब मैं जिम में था तब से मेरे पेट की मांसपेशियो...</td>\n",
       "      <td>[]</td>\n",
       "    </tr>\n",
       "    <tr>\n",
       "      <th>5</th>\n",
       "      <td>../data/audios/hindi/test/hin_audio_6479.wav</td>\n",
       "      <td>जब मैं काफी दूर तक दौड़ा तो मुझे लगा कि मेरा द...</td>\n",
       "      <td></td>\n",
       "      <td>जब मैं काफी दूर तक दौड़ा तो मुझे लगा कि मेरा द...</td>\n",
       "      <td>[]</td>\n",
       "    </tr>\n",
       "    <tr>\n",
       "      <th>6</th>\n",
       "      <td>../data/audios/hindi/test/hin_audio_6486.wav</td>\n",
       "      <td>मैंने अधिक स्पष्ट देखने के लिए अपना चश्मा लगान...</td>\n",
       "      <td></td>\n",
       "      <td>मैंने अधिक स्पष्ट देखने के लिए अपना चश्मा लगान...</td>\n",
       "      <td>[]</td>\n",
       "    </tr>\n",
       "    <tr>\n",
       "      <th>7</th>\n",
       "      <td>../data/audios/hindi/test/hin_audio_6493.wav</td>\n",
       "      <td>मैं कल एक भारी बैग ले गया था और आज जब मैं उठा ...</td>\n",
       "      <td></td>\n",
       "      <td>मैं कल एक भारी बैग ले गया था और आज जब मैं उठा ...</td>\n",
       "      <td>[]</td>\n",
       "    </tr>\n",
       "  </tbody>\n",
       "</table>\n",
       "</div>"
      ],
      "text/plain": [
       "                                           file  \\\n",
       "0  ../data/audios/hindi/test/hin_audio_6347.wav   \n",
       "1  ../data/audios/hindi/test/hin_audio_6355.wav   \n",
       "2  ../data/audios/hindi/test/hin_audio_6396.wav   \n",
       "3  ../data/audios/hindi/test/hin_audio_6408.wav   \n",
       "4  ../data/audios/hindi/test/hin_audio_6438.wav   \n",
       "5  ../data/audios/hindi/test/hin_audio_6479.wav   \n",
       "6  ../data/audios/hindi/test/hin_audio_6486.wav   \n",
       "7  ../data/audios/hindi/test/hin_audio_6493.wav   \n",
       "\n",
       "                                 azure_transcription  \\\n",
       "0  Speech Recognition canceled: CancellationReaso...   \n",
       "1  मुझमें वो काम करने की ऊर्जा नहीं है जो मैं पहल...   \n",
       "2  टेनिस खेलने के बाद मुझे अपनी गर्दन के पास एक त...   \n",
       "3  मैं कई हफ्तों से सर्दी से परेशान हूँ, लेकिन फि...   \n",
       "4  जब मैं जिम में था, तब से मेरे पेक की मांसपेशिय...   \n",
       "5  जब मैं काफी दूर तक दौड़ा तो मुझे लगा कि मेरा द...   \n",
       "6  मैंने अधिक स्पष्ट देखने के लिए अपना चश्मा लगान...   \n",
       "7  मैं कल एक भारी बैग ले गया था और आज जब मैं उठा ...   \n",
       "\n",
       "                             corrected_transcription  \\\n",
       "0  Speech Recognition canceled: CancellationReaso...   \n",
       "1                                                      \n",
       "2                                                      \n",
       "3                                                      \n",
       "4                                                      \n",
       "5                                                      \n",
       "6                                                      \n",
       "7                                                      \n",
       "\n",
       "                                       og_transcript  \\\n",
       "0  जब मैं इसे छूता हूं तो मेरे कान में दर्द होता है।   \n",
       "1  मुझमें वह काम करने की ऊर्जा नहीं है जो मैं पहल...   \n",
       "2  टेनिस खेलने के बाद मुझे अपनी गर्दन के पास एक त...   \n",
       "3  मैं कई हफ्तों से सर्दी से परेशान हूं लेकिन फिर...   \n",
       "4  जब मैं जिम में था तब से मेरे पेट की मांसपेशियो...   \n",
       "5  जब मैं काफी दूर तक दौड़ा तो मुझे लगा कि मेरा द...   \n",
       "6  मैंने अधिक स्पष्ट देखने के लिए अपना चश्मा लगान...   \n",
       "7  मैं कल एक भारी बैग ले गया था और आज जब मैं उठा ...   \n",
       "\n",
       "                                         differences  \n",
       "0  [[0, Speech, जब], [1, Recognition, मैं], [2, c...  \n",
       "1                                                 []  \n",
       "2                                                 []  \n",
       "3                                                 []  \n",
       "4                                                 []  \n",
       "5                                                 []  \n",
       "6                                                 []  \n",
       "7                                                 []  "
      ]
     },
     "execution_count": 25,
     "metadata": {},
     "output_type": "execute_result"
    }
   ],
   "source": [
    "df"
   ]
  },
  {
   "cell_type": "code",
   "execution_count": 26,
   "metadata": {},
   "outputs": [],
   "source": [
    "df.to_csv('./tests/tested_hindi.csv', index=False)"
   ]
  }
 ],
 "metadata": {
  "kernelspec": {
   "display_name": "base",
   "language": "python",
   "name": "python3"
  },
  "language_info": {
   "codemirror_mode": {
    "name": "ipython",
    "version": 3
   },
   "file_extension": ".py",
   "mimetype": "text/x-python",
   "name": "python",
   "nbconvert_exporter": "python",
   "pygments_lexer": "ipython3",
   "version": "3.11.7"
  }
 },
 "nbformat": 4,
 "nbformat_minor": 2
}
