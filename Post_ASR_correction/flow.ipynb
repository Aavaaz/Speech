{
 "cells": [
  {
   "cell_type": "code",
   "execution_count": 44,
   "metadata": {},
   "outputs": [],
   "source": [
    "import warnings\n",
    "warnings.filterwarnings('ignore')"
   ]
  },
  {
   "cell_type": "code",
   "execution_count": 61,
   "metadata": {},
   "outputs": [],
   "source": [
    "from azure_asr import recognize_from_microphone, transcribe_audio_to_text\n",
    "import pymodel\n",
    "import os\n",
    "from tqdm.notebook import tqdm"
   ]
  },
  {
   "cell_type": "code",
   "execution_count": 48,
   "metadata": {},
   "outputs": [],
   "source": [
    "_model, _tokenizer = pymodel.load_model()"
   ]
  },
  {
   "cell_type": "code",
   "execution_count": 53,
   "metadata": {},
   "outputs": [],
   "source": [
    "def correct_asr(text, model=_model, tokenizer=_tokenizer):\n",
    "    corrected = pymodel.correct(text, model, tokenizer)\n",
    "    return corrected"
   ]
  },
  {
   "cell_type": "code",
   "execution_count": 50,
   "metadata": {},
   "outputs": [],
   "source": [
    "import re\n",
    "\n",
    "def remove_characters(line):\n",
    "    return re.sub('[!@#$.,]', '', line)\n",
    "\n",
    "def find_diff_words(str1, str2):\n",
    "    str1 =remove_characters(str1)\n",
    "    str2 =remove_characters(str2)\n",
    "\n",
    "    words1 = str1.split()\n",
    "    words2 = str2.split()\n",
    "    diff_words = []\n",
    "    for i in range(min((len(words1), len(words2)))):\n",
    "        if words1[i].lower() != words2[i].lower():\n",
    "            # print(words1[i], words2[i])\n",
    "            diffs = [i, words1[i], words2[i]]\n",
    "            diff_words.append(diffs)\n",
    "    return diff_words"
   ]
  },
  {
   "cell_type": "code",
   "execution_count": 62,
   "metadata": {},
   "outputs": [
    {
     "data": {
      "application/vnd.jupyter.widget-view+json": {
       "model_id": "3e60a691f7644230abe2502c7969d190",
       "version_major": 2,
       "version_minor": 0
      },
      "text/plain": [
       "  0%|          | 0/382 [00:00<?, ?it/s]"
      ]
     },
     "metadata": {},
     "output_type": "display_data"
    }
   ],
   "source": [
    "files = os.listdir('./data/audios/test')\n",
    "\n",
    "df = []\n",
    "for file in tqdm(files):\n",
    "    audio_file_path = './data/audios/test/' + file\n",
    "    if os.path.exists(audio_file_path):\n",
    "        transcription = transcribe_audio_to_text(audio_file_path)\n",
    "        corrected_transcription = correct_asr(transcription)\n",
    "\n",
    "        df.append([audio_file_path, transcription, corrected_transcription])"
   ]
  },
  {
   "cell_type": "code",
   "execution_count": null,
   "metadata": {},
   "outputs": [
    {
     "data": {
      "text/plain": [
       "['1249120_44142156_100535941.wav',\n",
       " '1249120_44142156_102100267.wav',\n",
       " '1249120_44142156_102691000.wav',\n",
       " '1249120_44142156_103207247.wav']"
      ]
     },
     "execution_count": 58,
     "metadata": {},
     "output_type": "execute_result"
    }
   ],
   "source": [
    "import pandas as pd\n",
    "\n",
    "df = pd.DataFrame(df)\n",
    "\n",
    "df"
   ]
  },
  {
   "cell_type": "code",
   "execution_count": null,
   "metadata": {},
   "outputs": [],
   "source": [
    "mic = recognize_from_microphone()"
   ]
  }
 ],
 "metadata": {
  "kernelspec": {
   "display_name": "base",
   "language": "python",
   "name": "python3"
  },
  "language_info": {
   "codemirror_mode": {
    "name": "ipython",
    "version": 3
   },
   "file_extension": ".py",
   "mimetype": "text/x-python",
   "name": "python",
   "nbconvert_exporter": "python",
   "pygments_lexer": "ipython3",
   "version": "3.11.7"
  }
 },
 "nbformat": 4,
 "nbformat_minor": 2
}
