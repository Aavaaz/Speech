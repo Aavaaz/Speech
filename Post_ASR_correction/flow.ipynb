{
 "cells": [
  {
   "cell_type": "code",
   "execution_count": 1,
   "metadata": {},
   "outputs": [],
   "source": [
    "import warnings\n",
    "warnings.filterwarnings('ignore')"
   ]
  },
  {
   "cell_type": "code",
   "execution_count": 2,
   "metadata": {},
   "outputs": [],
   "source": [
    "from azure_asr import recognize_from_microphone, transcribe_audio_to_text\n",
    "import pymodel\n",
    "import os\n",
    "from tqdm.notebook import tqdm"
   ]
  },
  {
   "cell_type": "code",
   "execution_count": 3,
   "metadata": {},
   "outputs": [],
   "source": [
    "_model, _tokenizer = pymodel.load_model()"
   ]
  },
  {
   "cell_type": "code",
   "execution_count": 4,
   "metadata": {},
   "outputs": [],
   "source": [
    "def correct_asr(text, model=_model, tokenizer=_tokenizer):\n",
    "    corrected = pymodel.correct(text, model, tokenizer)\n",
    "    return corrected"
   ]
  },
  {
   "cell_type": "code",
   "execution_count": 5,
   "metadata": {},
   "outputs": [],
   "source": [
    "import re\n",
    "\n",
    "def remove_characters(line):\n",
    "    return re.sub('[!@#$.,]', '', line)\n",
    "\n",
    "def find_diff_words(str1, str2):\n",
    "    str1 =remove_characters(str1)\n",
    "    str2 =remove_characters(str2)\n",
    "\n",
    "    words1 = str1.split()\n",
    "    words2 = str2.split()\n",
    "    diff_words = []\n",
    "    for i in range(min((len(words1), len(words2)))):\n",
    "        if words1[i].lower() != words2[i].lower():\n",
    "            # print(words1[i], words2[i])\n",
    "            diffs = [i, words1[i], words2[i]]\n",
    "            diff_words.append(diffs)\n",
    "    return diff_words"
   ]
  },
  {
   "cell_type": "code",
   "execution_count": 6,
   "metadata": {},
   "outputs": [
    {
     "data": {
      "application/vnd.jupyter.widget-view+json": {
       "model_id": "7e438d2cf81d4af681928dca72361b70",
       "version_major": 2,
       "version_minor": 0
      },
      "text/plain": [
       "  0%|          | 0/382 [00:00<?, ?it/s]"
      ]
     },
     "metadata": {},
     "output_type": "display_data"
    },
    {
     "name": "stdout",
     "output_type": "stream",
     "text": [
      "error\n"
     ]
    }
   ],
   "source": [
    "files = os.listdir('./data/audios/test')\n",
    "\n",
    "df = []\n",
    "for file in tqdm(files):\n",
    "    audio_file_path = './data/audios/test/' + file\n",
    "    if os.path.exists(audio_file_path):\n",
    "        try:\n",
    "            transcription = transcribe_audio_to_text(audio_file_path)\n",
    "            corrected_transcription = correct_asr(transcription)\n",
    "        except:\n",
    "            print('error')\n",
    "\n",
    "        df.append([audio_file_path, transcription, corrected_transcription])"
   ]
  },
  {
   "cell_type": "code",
   "execution_count": 8,
   "metadata": {},
   "outputs": [
    {
     "data": {
      "text/html": [
       "<div>\n",
       "<style scoped>\n",
       "    .dataframe tbody tr th:only-of-type {\n",
       "        vertical-align: middle;\n",
       "    }\n",
       "\n",
       "    .dataframe tbody tr th {\n",
       "        vertical-align: top;\n",
       "    }\n",
       "\n",
       "    .dataframe thead th {\n",
       "        text-align: right;\n",
       "    }\n",
       "</style>\n",
       "<table border=\"1\" class=\"dataframe\">\n",
       "  <thead>\n",
       "    <tr style=\"text-align: right;\">\n",
       "      <th></th>\n",
       "      <th>file</th>\n",
       "      <th>azure_transcription</th>\n",
       "      <th>corrected_transcription</th>\n",
       "    </tr>\n",
       "  </thead>\n",
       "  <tbody>\n",
       "    <tr>\n",
       "      <th>0</th>\n",
       "      <td>./data/audios/test/1249120_44142156_100535941.wav</td>\n",
       "      <td>I have some terrible problems when I'm breathi...</td>\n",
       "      <td>I have some terrible problems when i'm breathi...</td>\n",
       "    </tr>\n",
       "    <tr>\n",
       "      <th>1</th>\n",
       "      <td>./data/audios/test/1249120_44142156_102100267.wav</td>\n",
       "      <td>I feel really sad all the time.</td>\n",
       "      <td>I feel really sad all the time.</td>\n",
       "    </tr>\n",
       "    <tr>\n",
       "      <th>2</th>\n",
       "      <td>./data/audios/test/1249120_44142156_102691000.wav</td>\n",
       "      <td>My knee feels weak and it gave away the other ...</td>\n",
       "      <td>My knee feels weak and it gave way the other d...</td>\n",
       "    </tr>\n",
       "    <tr>\n",
       "      <th>3</th>\n",
       "      <td>./data/audios/test/1249120_44142156_103207247.wav</td>\n",
       "      <td>Jismi cut infected or just healing?</td>\n",
       "      <td>i have a cut infected or just healing?</td>\n",
       "    </tr>\n",
       "    <tr>\n",
       "      <th>4</th>\n",
       "      <td>./data/audios/test/1249120_44142156_104815781.wav</td>\n",
       "      <td>What's the symptoms of appendicitis?</td>\n",
       "      <td>What's the symptoms of appendicitis?</td>\n",
       "    </tr>\n",
       "  </tbody>\n",
       "</table>\n",
       "</div>"
      ],
      "text/plain": [
       "                                                file  \\\n",
       "0  ./data/audios/test/1249120_44142156_100535941.wav   \n",
       "1  ./data/audios/test/1249120_44142156_102100267.wav   \n",
       "2  ./data/audios/test/1249120_44142156_102691000.wav   \n",
       "3  ./data/audios/test/1249120_44142156_103207247.wav   \n",
       "4  ./data/audios/test/1249120_44142156_104815781.wav   \n",
       "\n",
       "                                 azure_transcription  \\\n",
       "0  I have some terrible problems when I'm breathi...   \n",
       "1                    I feel really sad all the time.   \n",
       "2  My knee feels weak and it gave away the other ...   \n",
       "3                Jismi cut infected or just healing?   \n",
       "4               What's the symptoms of appendicitis?   \n",
       "\n",
       "                             corrected_transcription  \n",
       "0  I have some terrible problems when i'm breathi...  \n",
       "1                    I feel really sad all the time.  \n",
       "2  My knee feels weak and it gave way the other d...  \n",
       "3             i have a cut infected or just healing?  \n",
       "4               What's the symptoms of appendicitis?  "
      ]
     },
     "execution_count": 8,
     "metadata": {},
     "output_type": "execute_result"
    }
   ],
   "source": [
    "import pandas as pd\n",
    "\n",
    "df = pd.DataFrame(df, columns=['file', 'azure_transcription', 'corrected_transcription'])\n",
    "\n",
    "df.head()"
   ]
  },
  {
   "cell_type": "code",
   "execution_count": 45,
   "metadata": {},
   "outputs": [
    {
     "data": {
      "text/html": [
       "<div>\n",
       "<style scoped>\n",
       "    .dataframe tbody tr th:only-of-type {\n",
       "        vertical-align: middle;\n",
       "    }\n",
       "\n",
       "    .dataframe tbody tr th {\n",
       "        vertical-align: top;\n",
       "    }\n",
       "\n",
       "    .dataframe thead th {\n",
       "        text-align: right;\n",
       "    }\n",
       "</style>\n",
       "<table border=\"1\" class=\"dataframe\">\n",
       "  <thead>\n",
       "    <tr style=\"text-align: right;\">\n",
       "      <th></th>\n",
       "      <th>phrase</th>\n",
       "      <th>prompt</th>\n",
       "    </tr>\n",
       "    <tr>\n",
       "      <th>file_name</th>\n",
       "      <th></th>\n",
       "      <th></th>\n",
       "    </tr>\n",
       "  </thead>\n",
       "  <tbody>\n",
       "    <tr>\n",
       "      <th>1249120_43453425_58166571.wav</th>\n",
       "      <td>When I remember her I feel down</td>\n",
       "      <td>Emotional pain</td>\n",
       "    </tr>\n",
       "    <tr>\n",
       "      <th>1249120_43719934_43347848.wav</th>\n",
       "      <td>When I carry heavy things I feel like breaking...</td>\n",
       "      <td>Hair falling out</td>\n",
       "    </tr>\n",
       "    <tr>\n",
       "      <th>1249120_43719934_53187202.wav</th>\n",
       "      <td>there is too much pain when i move my arm</td>\n",
       "      <td>Heart hurts</td>\n",
       "    </tr>\n",
       "    <tr>\n",
       "      <th>1249120_31349958_55816195.wav</th>\n",
       "      <td>My son had his lip pierced and it is swollen a...</td>\n",
       "      <td>Infected wound</td>\n",
       "    </tr>\n",
       "    <tr>\n",
       "      <th>1249120_43719934_82524191.wav</th>\n",
       "      <td>My muscles in my lower back are aching</td>\n",
       "      <td>Infected wound</td>\n",
       "    </tr>\n",
       "  </tbody>\n",
       "</table>\n",
       "</div>"
      ],
      "text/plain": [
       "                                                                          phrase  \\\n",
       "file_name                                                                          \n",
       "1249120_43453425_58166571.wav                    When I remember her I feel down   \n",
       "1249120_43719934_43347848.wav  When I carry heavy things I feel like breaking...   \n",
       "1249120_43719934_53187202.wav          there is too much pain when i move my arm   \n",
       "1249120_31349958_55816195.wav  My son had his lip pierced and it is swollen a...   \n",
       "1249120_43719934_82524191.wav             My muscles in my lower back are aching   \n",
       "\n",
       "                                         prompt  \n",
       "file_name                                        \n",
       "1249120_43453425_58166571.wav    Emotional pain  \n",
       "1249120_43719934_43347848.wav  Hair falling out  \n",
       "1249120_43719934_53187202.wav       Heart hurts  \n",
       "1249120_31349958_55816195.wav    Infected wound  \n",
       "1249120_43719934_82524191.wav    Infected wound  "
      ]
     },
     "execution_count": 45,
     "metadata": {},
     "output_type": "execute_result"
    }
   ],
   "source": [
    "recording = pd.read_csv('data/audios/recordings_info.csv', index_col='file_name')\n",
    "# recording.index = recording['file']\n",
    "recording.head()"
   ]
  },
  {
   "cell_type": "code",
   "execution_count": 46,
   "metadata": {},
   "outputs": [],
   "source": [
    "correct = []\n",
    "for file in df['file']:\n",
    "    file = file.split('/')[-1] \n",
    "\n",
    "    if file in recording.index.to_list():\n",
    "        correct.append(recording.loc[file]['phrase'])\n",
    "    else:\n",
    "        correct.append('NO LABEL EXISTS')\n",
    "\n",
    "df['og_transcript'] = correct\n"
   ]
  },
  {
   "cell_type": "code",
   "execution_count": 50,
   "metadata": {},
   "outputs": [],
   "source": [
    "import re\n",
    "\n",
    "def remove_characters(line):\n",
    "    return re.sub('[!@#$.,]', '', line)\n",
    "\n",
    "def find_diff_words(str1, str2):\n",
    "    str1 =remove_characters(str1)\n",
    "    str2 =remove_characters(str2)\n",
    "\n",
    "    words1 = str1.split()\n",
    "    words2 = str2.split()\n",
    "    diff_words = []\n",
    "    for i in range(min((len(words1), len(words2)))):\n",
    "        if words1[i].lower() != words2[i].lower():\n",
    "            # print(words1[i], words2[i])\n",
    "            diffs = [i, words1[i], words2[i]]\n",
    "            diff_words.append(diffs)\n",
    "    return diff_words"
   ]
  },
  {
   "cell_type": "code",
   "execution_count": 51,
   "metadata": {},
   "outputs": [],
   "source": [
    "differnces = []\n",
    "for lin1, lin2 in zip(df['corrected_transcription'], df['og_transcript']):\n",
    "    differnces.append(find_diff_words(lin1, lin2))"
   ]
  },
  {
   "cell_type": "code",
   "execution_count": 52,
   "metadata": {},
   "outputs": [],
   "source": [
    "df['differences'] = differnces"
   ]
  },
  {
   "cell_type": "code",
   "execution_count": 53,
   "metadata": {},
   "outputs": [],
   "source": [
    "df.to_csv('./tests/tested3.csv', index=False)"
   ]
  },
  {
   "cell_type": "code",
   "execution_count": null,
   "metadata": {},
   "outputs": [],
   "source": [
    "mic = recognize_from_microphone()"
   ]
  }
 ],
 "metadata": {
  "kernelspec": {
   "display_name": "base",
   "language": "python",
   "name": "python3"
  },
  "language_info": {
   "codemirror_mode": {
    "name": "ipython",
    "version": 3
   },
   "file_extension": ".py",
   "mimetype": "text/x-python",
   "name": "python",
   "nbconvert_exporter": "python",
   "pygments_lexer": "ipython3",
   "version": "3.11.7"
  }
 },
 "nbformat": 4,
 "nbformat_minor": 2
}
