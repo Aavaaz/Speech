{
  "cells": [
    {
      "cell_type": "code",
      "execution_count": 1,
      "metadata": {
        "gather": {
          "logged": 1719477887572
        },
        "jupyter": {
          "outputs_hidden": false,
          "source_hidden": false
        },
        "nteract": {
          "transient": {
            "deleting": false
          }
        }
      },
      "outputs": [
        {
          "name": "stdout",
          "output_type": "stream",
          "text": [
            "WARNING:tensorflow:From C:\\Users\\Hanish\\AppData\\Roaming\\Python\\Python311\\site-packages\\tf_keras\\src\\losses.py:2976: The name tf.losses.sparse_softmax_cross_entropy is deprecated. Please use tf.compat.v1.losses.sparse_softmax_cross_entropy instead.\n",
            "\n"
          ]
        }
      ],
      "source": [
        "import warnings\n",
        "warnings.filterwarnings('ignore')\n",
        "\n",
        "from datasets import Dataset\n",
        "import pandas as pd\n",
        "# import numpy as np\n",
        "\n",
        "# from tqdm import tqdm\n",
        "import torch\n",
        "\n",
        "from transformers import AutoTokenizer, AutoModelForSeq2SeqLM, AutoModel\n",
        "from transformers import DataCollatorForSeq2Seq, Seq2SeqTrainingArguments, Seq2SeqTrainer"
      ]
    },
    {
      "cell_type": "code",
      "execution_count": 2,
      "metadata": {
        "gather": {
          "logged": 1719477891160
        }
      },
      "outputs": [],
      "source": [
        "# # from transformers import GPT2LMHeadModel, GPT2TokenizerFast # For GPT-like models\n",
        "\n",
        "# # MODEL_CHECKPOINT = \"Helsinki-NLP/opus-mt-en-hi\"\n",
        "# MODEL_CHECKPOINT = \"google/flan-t5-small\"\n",
        "# # MODEL_CHECKPOINT = \"bert-base-multilingual-uncased\"\n",
        "\n",
        "# # tokenizer = AutoTokenizer.from_pretrained(MODEL_CHECKPOINT, strip_accents=True)\n",
        "# model = AutoModel.from_pretrained(MODEL_CHECKPOINT)\n",
        "\n",
        "# MODEL_CHECKPOINT = \"gpt2\"\n",
        "\n",
        "# tokenizer = GPT2TokenizerFast.from_pretrained(MODEL_CHECKPOINT)\n",
        "# # model = GPT2LMHeadModel.from_pretrained(MODEL_CHECKPOINT)\n",
        "\n",
        "# tokenizer.add_special_tokens({'pad_token': '[PAD]'})"
      ]
    },
    {
      "cell_type": "code",
      "execution_count": 3,
      "metadata": {},
      "outputs": [
        {
          "name": "stderr",
          "output_type": "stream",
          "text": [
            "You are using the default legacy behaviour of the <class 'transformers.models.t5.tokenization_t5.T5Tokenizer'>. This is expected, and simply means that the `legacy` (previous) behavior will be used so nothing changes for you. If you want to use the new behaviour, set `legacy=False`. This should only be set if you understand what it means, and thoroughly read the reason why this was added as explained in https://github.com/huggingface/transformers/pull/24565\n"
          ]
        }
      ],
      "source": [
        "from transformers import AutoTokenizer, AutoModelForSeq2SeqLM\n",
        "# MODEL_CHECKPOINT ='google/flan-t5-small'\n",
        "MODEL_CHECKPOINT =\"google/mt5-base\"\n",
        "\n",
        "tokenizer = AutoTokenizer.from_pretrained(MODEL_CHECKPOINT)\n",
        "model = AutoModelForSeq2SeqLM.from_pretrained(MODEL_CHECKPOINT)"
      ]
    },
    {
      "cell_type": "code",
      "execution_count": 4,
      "metadata": {},
      "outputs": [
        {
          "data": {
            "text/plain": [
              "'दर्जनों सीढ़ियाँ चढ़ने के बाद मेरी साँसें फूल जाती थीं लेकिन अब जब मैं नीचे बैठता हूँ तो भी मुझे साँस लेने में कठिनाई होती है।</s>'"
            ]
          },
          "execution_count": 4,
          "metadata": {},
          "output_type": "execute_result"
        }
      ],
      "source": [
        "encodes = tokenizer.encode('दर्जनों सीढ़ियाँ चढ़ने के बाद मेरी साँसें फूल जाती थीं लेकिन अब जब मैं नीचे बैठता हूँ तो भी मुझे साँस लेने में कठिनाई होती है।')\n",
        "outputs = tokenizer.decode(encodes)\n",
        "outputs\n",
        "# encodes"
      ]
    },
    {
      "cell_type": "code",
      "execution_count": 5,
      "metadata": {},
      "outputs": [
        {
          "data": {
            "text/html": [
              "<div>\n",
              "<style scoped>\n",
              "    .dataframe tbody tr th:only-of-type {\n",
              "        vertical-align: middle;\n",
              "    }\n",
              "\n",
              "    .dataframe tbody tr th {\n",
              "        vertical-align: top;\n",
              "    }\n",
              "\n",
              "    .dataframe thead th {\n",
              "        text-align: right;\n",
              "    }\n",
              "</style>\n",
              "<table border=\"1\" class=\"dataframe\">\n",
              "  <thead>\n",
              "    <tr style=\"text-align: right;\">\n",
              "      <th></th>\n",
              "      <th>file</th>\n",
              "      <th>og_transcription</th>\n",
              "      <th>ms_asr_transcription</th>\n",
              "    </tr>\n",
              "  </thead>\n",
              "  <tbody>\n",
              "    <tr>\n",
              "      <th>0</th>\n",
              "      <td>../data/audios/hindi/train/hin_audio_0.wav</td>\n",
              "      <td>जब भी मैं उसे याद करता हूं तो मैं उदास हो जाता...</td>\n",
              "      <td>जब भी मैं उसे याद करता हूँ।</td>\n",
              "    </tr>\n",
              "    <tr>\n",
              "      <th>1</th>\n",
              "      <td>../data/audios/hindi/train/hin_audio_1.wav</td>\n",
              "      <td>जब मैं भारी चीजें उठाता हूं तो मुझे ऐसा लगता ह...</td>\n",
              "      <td>जब मैं भारी चीजें उठाता हूँ तो मुझे ऐसा लगता ह...</td>\n",
              "    </tr>\n",
              "    <tr>\n",
              "      <th>2</th>\n",
              "      <td>../data/audios/hindi/train/hin_audio_2.wav</td>\n",
              "      <td>जब मैं अपना हाथ हिलाता हूं तो बहुत अधिक दर्द ह...</td>\n",
              "      <td>जब मैं अपना हाथ हिलाता हूँ तो बहुत अधिक दर्द ह...</td>\n",
              "    </tr>\n",
              "    <tr>\n",
              "      <th>3</th>\n",
              "      <td>../data/audios/hindi/train/hin_audio_3.wav</td>\n",
              "      <td>मेरे बेटे के होंठ में छेद हो गया था और वह सूज ...</td>\n",
              "      <td>मेरे बेटे के होम्स में छेद हो गया था और वो सूझ...</td>\n",
              "    </tr>\n",
              "    <tr>\n",
              "      <th>4</th>\n",
              "      <td>../data/audios/hindi/train/hin_audio_4.wav</td>\n",
              "      <td>मेरी पीठ के निचले हिस्से की मांसपेशियाँ दर्द क...</td>\n",
              "      <td>मेरी पीठ के निचले हिस्से की मांसपेशियां दर्द क...</td>\n",
              "    </tr>\n",
              "  </tbody>\n",
              "</table>\n",
              "</div>"
            ],
            "text/plain": [
              "                                         file  \\\n",
              "0  ../data/audios/hindi/train/hin_audio_0.wav   \n",
              "1  ../data/audios/hindi/train/hin_audio_1.wav   \n",
              "2  ../data/audios/hindi/train/hin_audio_2.wav   \n",
              "3  ../data/audios/hindi/train/hin_audio_3.wav   \n",
              "4  ../data/audios/hindi/train/hin_audio_4.wav   \n",
              "\n",
              "                                    og_transcription  \\\n",
              "0  जब भी मैं उसे याद करता हूं तो मैं उदास हो जाता...   \n",
              "1  जब मैं भारी चीजें उठाता हूं तो मुझे ऐसा लगता ह...   \n",
              "2  जब मैं अपना हाथ हिलाता हूं तो बहुत अधिक दर्द ह...   \n",
              "3  मेरे बेटे के होंठ में छेद हो गया था और वह सूज ...   \n",
              "4  मेरी पीठ के निचले हिस्से की मांसपेशियाँ दर्द क...   \n",
              "\n",
              "                                ms_asr_transcription  \n",
              "0                        जब भी मैं उसे याद करता हूँ।  \n",
              "1  जब मैं भारी चीजें उठाता हूँ तो मुझे ऐसा लगता ह...  \n",
              "2  जब मैं अपना हाथ हिलाता हूँ तो बहुत अधिक दर्द ह...  \n",
              "3  मेरे बेटे के होम्स में छेद हो गया था और वो सूझ...  \n",
              "4  मेरी पीठ के निचले हिस्से की मांसपेशियां दर्द क...  "
            ]
          },
          "execution_count": 5,
          "metadata": {},
          "output_type": "execute_result"
        }
      ],
      "source": [
        "df = pd.read_csv('train.csv')\n",
        "df.dropna(inplace=True)\n",
        "df.head()"
      ]
    },
    {
      "cell_type": "code",
      "execution_count": 6,
      "metadata": {},
      "outputs": [],
      "source": [
        "SOURCE = 'ms_asr_transcription'\n",
        "\n",
        "TARGET = 'og_transcription'"
      ]
    },
    {
      "cell_type": "code",
      "execution_count": 7,
      "metadata": {
        "gather": {
          "logged": 1719477376001
        },
        "jupyter": {
          "outputs_hidden": false,
          "source_hidden": false
        },
        "nteract": {
          "transient": {
            "deleting": false
          }
        }
      },
      "outputs": [],
      "source": [
        "from sklearn.model_selection import train_test_split\n",
        "\n",
        "x_train, x_test, y_train, y_test = train_test_split(df[SOURCE], df[TARGET], test_size=0.10,\n",
        "                                                    shuffle=True,\n",
        "                                                    random_state=100)"
      ]
    },
    {
      "cell_type": "code",
      "execution_count": 8,
      "metadata": {
        "gather": {
          "logged": 1719477377905
        },
        "jupyter": {
          "outputs_hidden": false,
          "source_hidden": false
        },
        "nteract": {
          "transient": {
            "deleting": false
          }
        }
      },
      "outputs": [],
      "source": [
        "def prep_data_for_model_fine_tuning(source_lang: list, target_lang: list) -> list:\n",
        "    data_dict = dict()\n",
        "    data_dict['data'] = []\n",
        "\n",
        "    for sr_text, tr_text in zip(source_lang, target_lang):\n",
        "        temp_dict = dict()\n",
        "        temp_dict[SOURCE] = sr_text\n",
        "        temp_dict[TARGET] = tr_text\n",
        "\n",
        "        data_dict['data'].append(temp_dict)\n",
        "\n",
        "    return data_dict"
      ]
    },
    {
      "cell_type": "code",
      "execution_count": 9,
      "metadata": {
        "gather": {
          "logged": 1719477447676
        },
        "jupyter": {
          "outputs_hidden": false,
          "source_hidden": false
        },
        "nteract": {
          "transient": {
            "deleting": false
          }
        }
      },
      "outputs": [],
      "source": [
        "training_data = prep_data_for_model_fine_tuning(x_train.values, y_train.values)\n",
        "testing_data = prep_data_for_model_fine_tuning(x_test.values, y_test.values)"
      ]
    },
    {
      "cell_type": "code",
      "execution_count": 10,
      "metadata": {},
      "outputs": [
        {
          "data": {
            "text/plain": [
              "[{'ms_asr_transcription': 'जब मैं महानसों को छूता हूँ तो मुझे गहरी झुनझुनी महसूस होती है और उसके बाद बुरी अनुती होती है।',\n",
              "  'og_transcription': 'जब मैं मुहांसों को छूता हूं तो मुझे गहरी झुनझुनी महसूस होती है और उसके बाद बुरी अनुभूति होती है'},\n",
              " {'ms_asr_transcription': 'जब भी मैं अपने बालों में कम ही करता हूँ तो मेरी कम ही में बहुत सारे बाल होते हैं।',\n",
              "  'og_transcription': 'जब भी मैं अपने बालों में कंघी करता हूं तो मेरी कंघी में बहुत सारे बाल होते हैं।'},\n",
              " {'ms_asr_transcription': 'जब मैं अचानक हरकत करता हूँ तो मुझे चक्कर आने लगता है।',\n",
              "  'og_transcription': 'जब मैं अचानक हरकत करता हूं तो मुझे चक्कर आने लगता है'},\n",
              " {'ms_asr_transcription': 'मेरी पीक में समस्या है, मैं इसे बढ़ा नहीं सकता था।',\n",
              "  'og_transcription': 'मेरी पीठ में समस्या है मैं इसे बढ़ा नहीं सकता'},\n",
              " {'ms_asr_transcription': 'मैं इस भयानक एहसास को अपने कंधे पर रख कर बर्दाश्त नहीं कर सकता।',\n",
              "  'og_transcription': 'मैं इस भयानक एहसास को अपने कंधे पर रखकर बर्दाश्त नहीं कर सकता'}]"
            ]
          },
          "execution_count": 10,
          "metadata": {},
          "output_type": "execute_result"
        }
      ],
      "source": [
        "training_data['data'][:5]"
      ]
    },
    {
      "cell_type": "code",
      "execution_count": 11,
      "metadata": {
        "gather": {
          "logged": 1719477675472
        },
        "jupyter": {
          "outputs_hidden": false,
          "source_hidden": false
        },
        "nteract": {
          "transient": {
            "deleting": false
          }
        }
      },
      "outputs": [],
      "source": [
        "MAX_INPUT_LENGTH = 128\n",
        "\n",
        "def generate_model_ready_dataset(dataset: list, source: str, target: str, tokenizer: AutoTokenizer):\n",
        "    preped_data = []\n",
        "\n",
        "    for row in dataset:\n",
        "        inputs = row[source]\n",
        "        targets = row[target]\n",
        "\n",
        "        model_inputs = tokenizer(inputs, max_length=MAX_INPUT_LENGTH, truncation=True)#, padding=True)\n",
        "        model_inputs['data'] = row\n",
        "\n",
        "        # setup the tokenizer for targets\n",
        "        with tokenizer.as_target_tokenizer():\n",
        "            labels = tokenizer(targets, max_length=MAX_INPUT_LENGTH,\n",
        "                                 truncation=True, padding=True)\n",
        "            model_inputs['labels'] = labels['input_ids']\n",
        "\n",
        "        preped_data.append(model_inputs)\n",
        "\n",
        "    return preped_data"
      ]
    },
    {
      "cell_type": "code",
      "execution_count": 12,
      "metadata": {
        "gather": {
          "logged": 1719477677780
        },
        "jupyter": {
          "outputs_hidden": false,
          "source_hidden": false
        },
        "nteract": {
          "transient": {
            "deleting": false
          }
        }
      },
      "outputs": [],
      "source": [
        "train_data = generate_model_ready_dataset(dataset=training_data['data'],\n",
        "                                        tokenizer=tokenizer,\n",
        "                                        source=SOURCE,\n",
        "                                        target=TARGET)\n",
        "\n",
        "test_data = generate_model_ready_dataset(dataset=testing_data['data'],\n",
        "                                        tokenizer=tokenizer,\n",
        "                                        source=SOURCE,\n",
        "                                        target=TARGET)"
      ]
    },
    {
      "cell_type": "code",
      "execution_count": 13,
      "metadata": {
        "gather": {
          "logged": 1719477720255
        },
        "jupyter": {
          "outputs_hidden": false,
          "source_hidden": false
        },
        "nteract": {
          "transient": {
            "deleting": false
          }
        }
      },
      "outputs": [
        {
          "name": "stdout",
          "output_type": "stream",
          "text": [
            "<class 'pandas.core.frame.DataFrame'>\n",
            "RangeIndex: 1881 entries, 0 to 1880\n",
            "Data columns (total 4 columns):\n",
            " #   Column          Non-Null Count  Dtype \n",
            "---  ------          --------------  ----- \n",
            " 0   attention_mask  1881 non-null   object\n",
            " 1   data            1881 non-null   object\n",
            " 2   input_ids       1881 non-null   object\n",
            " 3   labels          1881 non-null   object\n",
            "dtypes: object(4)\n",
            "memory usage: 58.9+ KB\n"
          ]
        }
      ],
      "source": [
        "train_df = pd.DataFrame.from_records(train_data)\n",
        "test_df = pd.DataFrame.from_records(test_data)\n",
        "\n",
        "train_df.info()"
      ]
    },
    {
      "cell_type": "code",
      "execution_count": 14,
      "metadata": {
        "gather": {
          "logged": 1719477791094
        },
        "jupyter": {
          "outputs_hidden": false,
          "source_hidden": false
        },
        "nteract": {
          "transient": {
            "deleting": false
          }
        }
      },
      "outputs": [
        {
          "data": {
            "text/plain": [
              "Dataset({\n",
              "    features: ['attention_mask', 'data', 'input_ids', 'labels'],\n",
              "    num_rows: 1881\n",
              "})"
            ]
          },
          "execution_count": 14,
          "metadata": {},
          "output_type": "execute_result"
        }
      ],
      "source": [
        "train_dataset = Dataset.from_pandas(train_df)\n",
        "test_dataset = Dataset.from_pandas(test_df)\n",
        "\n",
        "train_dataset"
      ]
    },
    {
      "cell_type": "code",
      "execution_count": 15,
      "metadata": {
        "jupyter": {
          "outputs_hidden": false,
          "source_hidden": false
        },
        "nteract": {
          "transient": {
            "deleting": false
          }
        }
      },
      "outputs": [],
      "source": [
        "MODEL_INTENT = 'asr_correction'\n",
        "\n",
        "original_model = MODEL_CHECKPOINT.split('/')[-1]\n",
        "lang = 'hindi'\n",
        "trained_model_name = f'{original_model}-finetuned-{MODEL_INTENT}-{lang}'\n",
        "batch_size = 8\n",
        "model_args = Seq2SeqTrainingArguments(\n",
        "    trained_model_name,\n",
        "    # evaluation_strategy='epoch',\n",
        "    learning_rate=2e-4,\n",
        "    per_device_train_batch_size=batch_size,\n",
        "    per_device_eval_batch_size=batch_size,\n",
        "    weight_decay=0.02,\n",
        "    save_total_limit=3,\n",
        "    num_train_epochs=1,\n",
        "    predict_with_generate=True\n",
        ")\n",
        "\n",
        "data_collator = DataCollatorForSeq2Seq(tokenizer, model=model)"
      ]
    },
    {
      "cell_type": "code",
      "execution_count": 16,
      "metadata": {},
      "outputs": [
        {
          "name": "stdout",
          "output_type": "stream",
          "text": [
            "cuda:0\n"
          ]
        }
      ],
      "source": [
        "device = torch.device(\"cuda:0\" if torch.cuda.is_available() else \"cpu\")\n",
        "print(device)\n",
        "torch.cuda.empty_cache()"
      ]
    },
    {
      "cell_type": "code",
      "execution_count": 17,
      "metadata": {
        "jupyter": {
          "outputs_hidden": false,
          "source_hidden": false
        },
        "nteract": {
          "transient": {
            "deleting": false
          }
        }
      },
      "outputs": [
        {
          "data": {
            "application/vnd.jupyter.widget-view+json": {
              "model_id": "20b327726ca14e8e81c9d3e607cb5d94",
              "version_major": 2,
              "version_minor": 0
            },
            "text/plain": [
              "  0%|          | 0/236 [00:00<?, ?it/s]"
            ]
          },
          "metadata": {},
          "output_type": "display_data"
        },
        {
          "name": "stdout",
          "output_type": "stream",
          "text": [
            "{'train_runtime': 3045.1724, 'train_samples_per_second': 0.618, 'train_steps_per_second': 0.077, 'train_loss': 2.243828466383077, 'epoch': 1.0}\n"
          ]
        },
        {
          "data": {
            "text/plain": [
              "TrainOutput(global_step=236, training_loss=2.243828466383077, metrics={'train_runtime': 3045.1724, 'train_samples_per_second': 0.618, 'train_steps_per_second': 0.077, 'total_flos': 203896389565440.0, 'train_loss': 2.243828466383077, 'epoch': 1.0})"
            ]
          },
          "execution_count": 17,
          "metadata": {},
          "output_type": "execute_result"
        }
      ],
      "source": [
        "trainer = Seq2SeqTrainer(\n",
        "    model.to(device),\n",
        "    model_args,\n",
        "    train_dataset=train_dataset,\n",
        "    data_collator=data_collator,\n",
        "    tokenizer=tokenizer,\n",
        ")\n",
        "\n",
        "trainer.train()"
      ]
    },
    {
      "cell_type": "code",
      "execution_count": 23,
      "metadata": {},
      "outputs": [],
      "source": [
        "trainer.save_model(f\"{MODEL_CHECKPOINT}-finetuned-{MODEL_INTENT}-{lang}\")"
      ]
    },
    {
      "cell_type": "code",
      "execution_count": 19,
      "metadata": {},
      "outputs": [],
      "source": [
        "def correct(text, model=model, tokenizer=tokenizer):\n",
        "    device = 'cpu'\n",
        "    model.to(device)\n",
        "    input_ids = tokenizer(text, return_tensors=\"pt\")[\"input_ids\"]\n",
        "    output = model.generate(input_ids)\n",
        "    translated_text = tokenizer.batch_decode(output, skip_special_tokens=False)[0]\n",
        "    return translated_text"
      ]
    },
    {
      "cell_type": "code",
      "execution_count": 20,
      "metadata": {},
      "outputs": [
        {
          "data": {
            "text/plain": [
              "'<pad>  वह काम करने की ऊर्जा नहीं है जो मैं पहले कर'"
            ]
          },
          "execution_count": 20,
          "metadata": {},
          "output_type": "execute_result"
        }
      ],
      "source": [
        "correct('मुझमें वो काम करने की ऊर्जा नहीं है जो मैं पहले करता था।')"
      ]
    },
    {
      "cell_type": "code",
      "execution_count": 21,
      "metadata": {},
      "outputs": [
        {
          "name": "stdout",
          "output_type": "stream",
          "text": [
            "tensor([[ 6742,  6664, 10936,   259, 23978,  8520,  1100,   757,   975,   259,\n",
            "         12136,   996, 78773,  3535,   830,  5903,  9422,  2917,  4510,  1048,\n",
            "          1100,  1114,  3365,   378,     1]])\n"
          ]
        },
        {
          "data": {
            "text/plain": [
              "['मुझमें वो काम करने की ऊर्जा नहीं है जो मैं पहले करता था।</s>']"
            ]
          },
          "execution_count": 21,
          "metadata": {},
          "output_type": "execute_result"
        }
      ],
      "source": [
        "text = 'मुझमें वो काम करने की ऊर्जा नहीं है जो मैं पहले करता था।'\n",
        "encodings = tokenizer(text, return_tensors='pt')['input_ids']\n",
        "print(encodings)\n",
        "\n",
        "decodings = tokenizer.batch_decode(encodings)\n",
        "decodings"
      ]
    },
    {
      "cell_type": "code",
      "execution_count": 22,
      "metadata": {},
      "outputs": [],
      "source": [
        "# MODEL_CHECKPOINT = \"monsoon-nlp/hindi-bert\"\n",
        "# MODEL_CHECKPOINT = \"gpt2\""
      ]
    }
  ],
  "metadata": {
    "kernel_info": {
      "name": "python38-azureml-pt-tf"
    },
    "kernelspec": {
      "display_name": "base",
      "language": "python",
      "name": "python3"
    },
    "language_info": {
      "codemirror_mode": {
        "name": "ipython",
        "version": 3
      },
      "file_extension": ".py",
      "mimetype": "text/x-python",
      "name": "python",
      "nbconvert_exporter": "python",
      "pygments_lexer": "ipython3",
      "version": "3.11.7"
    },
    "microsoft": {
      "host": {
        "AzureML": {
          "notebookHasBeenCompleted": true
        }
      },
      "ms_spell_check": {
        "ms_spell_check_language": "en"
      }
    },
    "nteract": {
      "version": "nteract-front-end@1.0.0"
    }
  },
  "nbformat": 4,
  "nbformat_minor": 2
}
