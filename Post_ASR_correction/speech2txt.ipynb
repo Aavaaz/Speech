{
  "cells": [
    {
      "cell_type": "code",
      "execution_count": 1,
      "metadata": {},
      "outputs": [],
      "source": [
        "import pandas as pd\n",
        "import os\n",
        "from tqdm.auto import tqdm\n",
        "import random"
      ]
    },
    {
      "cell_type": "code",
      "execution_count": 2,
      "metadata": {},
      "outputs": [],
      "source": [
        "import azure_asr as asr\n",
        "# IMP: Change default language in azure_asr.py before running this cell "
      ]
    },
    {
      "cell_type": "code",
      "execution_count": 6,
      "metadata": {
        "id": "2uzqnF6KEwlw"
      },
      "outputs": [],
      "source": [
        "ROOT_DIR = \"../data/audios/hindi/train/\"\n",
        "files = os.listdir(ROOT_DIR)\n",
        "# files"
      ]
    },
    {
      "cell_type": "code",
      "execution_count": 7,
      "metadata": {
        "colab": {
          "base_uri": "https://localhost:8080/"
        },
        "id": "vKnKzSsJ9qrH",
        "outputId": "ef50e1f8-49b9-46d4-f941-452ed2b8d693"
      },
      "outputs": [
        {
          "name": "stdout",
          "output_type": "stream",
          "text": [
            "मुझे सांस लेने में कोई समस्या नहीं है।\n"
          ]
        }
      ],
      "source": [
        "audio_file_path = [ROOT_DIR + file for file in files if file.endswith(\".wav\")][random.randint(0,len(files))]\n",
        "\n",
        "# Transcribe the audio file and print the result\n",
        "print(asr.transcribe_audio_to_text(audio_file_path))\n"
      ]
    },
    {
      "cell_type": "code",
      "execution_count": 12,
      "metadata": {
        "colab": {
          "base_uri": "https://localhost:8080/",
          "height": 206
        },
        "id": "OPBETmTf_HEs",
        "outputId": "870a566d-8053-49db-b3be-2caca06174cf"
      },
      "outputs": [
        {
          "data": {
            "text/html": [
              "<div>\n",
              "<style scoped>\n",
              "    .dataframe tbody tr th:only-of-type {\n",
              "        vertical-align: middle;\n",
              "    }\n",
              "\n",
              "    .dataframe tbody tr th {\n",
              "        vertical-align: top;\n",
              "    }\n",
              "\n",
              "    .dataframe thead th {\n",
              "        text-align: right;\n",
              "    }\n",
              "</style>\n",
              "<table border=\"1\" class=\"dataframe\">\n",
              "  <thead>\n",
              "    <tr style=\"text-align: right;\">\n",
              "      <th></th>\n",
              "      <th>file_name</th>\n",
              "      <th>og_transcription</th>\n",
              "    </tr>\n",
              "  </thead>\n",
              "  <tbody>\n",
              "    <tr>\n",
              "      <th>0</th>\n",
              "      <td>hin_audio_0.wav</td>\n",
              "      <td>जब भी मैं उसे याद करता हूं तो मैं उदास हो जाता...</td>\n",
              "    </tr>\n",
              "    <tr>\n",
              "      <th>1</th>\n",
              "      <td>hin_audio_1.wav</td>\n",
              "      <td>जब मैं भारी चीजें उठाता हूं तो मुझे ऐसा लगता ह...</td>\n",
              "    </tr>\n",
              "    <tr>\n",
              "      <th>2</th>\n",
              "      <td>hin_audio_2.wav</td>\n",
              "      <td>जब मैं अपना हाथ हिलाता हूं तो बहुत अधिक दर्द ह...</td>\n",
              "    </tr>\n",
              "    <tr>\n",
              "      <th>3</th>\n",
              "      <td>hin_audio_3.wav</td>\n",
              "      <td>मेरे बेटे के होंठ में छेद हो गया था और वह सूज ...</td>\n",
              "    </tr>\n",
              "    <tr>\n",
              "      <th>4</th>\n",
              "      <td>hin_audio_4.wav</td>\n",
              "      <td>मेरी पीठ के निचले हिस्से की मांसपेशियाँ दर्द क...</td>\n",
              "    </tr>\n",
              "  </tbody>\n",
              "</table>\n",
              "</div>"
            ],
            "text/plain": [
              "         file_name                                   og_transcription\n",
              "0  hin_audio_0.wav  जब भी मैं उसे याद करता हूं तो मैं उदास हो जाता...\n",
              "1  hin_audio_1.wav  जब मैं भारी चीजें उठाता हूं तो मुझे ऐसा लगता ह...\n",
              "2  hin_audio_2.wav  जब मैं अपना हाथ हिलाता हूं तो बहुत अधिक दर्द ह...\n",
              "3  hin_audio_3.wav  मेरे बेटे के होंठ में छेद हो गया था और वह सूज ...\n",
              "4  hin_audio_4.wav  मेरी पीठ के निचले हिस्से की मांसपेशियाँ दर्द क..."
            ]
          },
          "execution_count": 12,
          "metadata": {},
          "output_type": "execute_result"
        }
      ],
      "source": [
        "df = pd.read_csv('../data/audios/hindi/audio_file_info.csv')\n",
        "df.head()"
      ]
    },
    {
      "cell_type": "code",
      "execution_count": 13,
      "metadata": {
        "colab": {
          "base_uri": "https://localhost:8080/"
        },
        "id": "obw752W2AVCk",
        "outputId": "72af7f8e-b995-4d52-e73a-df1d2e293cfa"
      },
      "outputs": [],
      "source": [
        "# main_df = pd.DataFrame(columns=['file', 'og_transcription', 'ms_asr_transcription'])\n",
        "\n",
        "# print('1249120_1853182_11719913.wav' in df['file_name'].tolist())"
      ]
    },
    {
      "cell_type": "code",
      "execution_count": 14,
      "metadata": {
        "colab": {
          "base_uri": "https://localhost:8080/",
          "height": 49,
          "referenced_widgets": [
            "b6512438f89a45559fa8889a5bd1d1a4",
            "e9627eb6c4a345b0bb7f3f5750d690ee",
            "5123fa679c0f4f0c911c00fe7f2f4f65",
            "0f10fe36fe514d069084a1cb37155ae3",
            "1eac86b4d1794725b4f4aa2edf1cacaa",
            "8b47b3556dd942aeaca07d52f6339db2",
            "c46cd8d0d9d24d848f68ed337effcb1b",
            "6e4d702ad8954e8ca14bc061ecb864e9",
            "44e8e982198241d591ee69a43ac85d3e",
            "38c704c290ab418d8bb7b46e1ef0127d",
            "d726b36e63f84ecbbf9ca823b05c37e8"
          ]
        },
        "id": "nEE4AtnhCUXF",
        "outputId": "6f744b07-1177-4882-c086-cc0d9fc865a2"
      },
      "outputs": [
        {
          "data": {
            "application/vnd.jupyter.widget-view+json": {
              "model_id": "0d70286e78a84fa880be9e2d9cd26bc6",
              "version_major": 2,
              "version_minor": 0
            },
            "text/plain": [
              "  0%|          | 0/6628 [00:00<?, ?it/s]"
            ]
          },
          "metadata": {},
          "output_type": "display_data"
        }
      ],
      "source": [
        "main_df = []\n",
        "\n",
        "for i, data in tqdm(enumerate(zip(df['file_name'], df['og_transcription'])), total=len(df)):\n",
        "    file, transcription = data[0], data[1]\n",
        "    if file in files:\n",
        "        try:\n",
        "            file = ROOT_DIR + file\n",
        "            # print(file)\n",
        "            asr_transcription = asr.transcribe_audio_to_text(file)\n",
        "            main_df.append([file, transcription, asr_transcription])\n",
        "        except Exception as e:\n",
        "            print(e)\n",
        "            \n",
        "    if i%10 ==0:\n",
        "        m_df = pd.DataFrame(main_df, columns=['file', 'og_transcription', 'ms_asr_transcription'])\n",
        "        m_df.to_csv('main_df_test.csv', index=False)"
      ]
    },
    {
      "cell_type": "code",
      "execution_count": null,
      "metadata": {
        "colab": {
          "base_uri": "https://localhost:8080/",
          "height": 206
        },
        "id": "w6qy5MLzCr_b",
        "outputId": "a636b8f8-45ed-48b9-ef7a-699ddb6fe116"
      },
      "outputs": [],
      "source": [
        "main_df = pd.DataFrame(main_df, columns=['file', 'og_transcription', 'ms_asr_transcription'])"
      ]
    },
    {
      "cell_type": "code",
      "execution_count": 74,
      "metadata": {
        "id": "HrRMGPf9E-h5"
      },
      "outputs": [],
      "source": [
        "main_df.to_csv('name_me.csv', index=False)"
      ]
    }
  ],
  "metadata": {
    "colab": {
      "provenance": []
    },
    "kernelspec": {
      "display_name": "Python 3",
      "name": "python3"
    },
    "language_info": {
      "codemirror_mode": {
        "name": "ipython",
        "version": 3
      },
      "file_extension": ".py",
      "mimetype": "text/x-python",
      "name": "python",
      "nbconvert_exporter": "python",
      "pygments_lexer": "ipython3",
      "version": "3.11.7"
    },
    "widgets": {
      "application/vnd.jupyter.widget-state+json": {
        "0f10fe36fe514d069084a1cb37155ae3": {
          "model_module": "@jupyter-widgets/controls",
          "model_module_version": "1.5.0",
          "model_name": "HTMLModel",
          "state": {
            "_dom_classes": [],
            "_model_module": "@jupyter-widgets/controls",
            "_model_module_version": "1.5.0",
            "_model_name": "HTMLModel",
            "_view_count": null,
            "_view_module": "@jupyter-widgets/controls",
            "_view_module_version": "1.5.0",
            "_view_name": "HTMLView",
            "description": "",
            "description_tooltip": null,
            "layout": "IPY_MODEL_38c704c290ab418d8bb7b46e1ef0127d",
            "placeholder": "​",
            "style": "IPY_MODEL_d726b36e63f84ecbbf9ca823b05c37e8",
            "value": " 6661/? [06:10&lt;00:00, 11.82it/s]"
          }
        },
        "1eac86b4d1794725b4f4aa2edf1cacaa": {
          "model_module": "@jupyter-widgets/base",
          "model_module_version": "1.2.0",
          "model_name": "LayoutModel",
          "state": {
            "_model_module": "@jupyter-widgets/base",
            "_model_module_version": "1.2.0",
            "_model_name": "LayoutModel",
            "_view_count": null,
            "_view_module": "@jupyter-widgets/base",
            "_view_module_version": "1.2.0",
            "_view_name": "LayoutView",
            "align_content": null,
            "align_items": null,
            "align_self": null,
            "border": null,
            "bottom": null,
            "display": null,
            "flex": null,
            "flex_flow": null,
            "grid_area": null,
            "grid_auto_columns": null,
            "grid_auto_flow": null,
            "grid_auto_rows": null,
            "grid_column": null,
            "grid_gap": null,
            "grid_row": null,
            "grid_template_areas": null,
            "grid_template_columns": null,
            "grid_template_rows": null,
            "height": null,
            "justify_content": null,
            "justify_items": null,
            "left": null,
            "margin": null,
            "max_height": null,
            "max_width": null,
            "min_height": null,
            "min_width": null,
            "object_fit": null,
            "object_position": null,
            "order": null,
            "overflow": null,
            "overflow_x": null,
            "overflow_y": null,
            "padding": null,
            "right": null,
            "top": null,
            "visibility": null,
            "width": null
          }
        },
        "38c704c290ab418d8bb7b46e1ef0127d": {
          "model_module": "@jupyter-widgets/base",
          "model_module_version": "1.2.0",
          "model_name": "LayoutModel",
          "state": {
            "_model_module": "@jupyter-widgets/base",
            "_model_module_version": "1.2.0",
            "_model_name": "LayoutModel",
            "_view_count": null,
            "_view_module": "@jupyter-widgets/base",
            "_view_module_version": "1.2.0",
            "_view_name": "LayoutView",
            "align_content": null,
            "align_items": null,
            "align_self": null,
            "border": null,
            "bottom": null,
            "display": null,
            "flex": null,
            "flex_flow": null,
            "grid_area": null,
            "grid_auto_columns": null,
            "grid_auto_flow": null,
            "grid_auto_rows": null,
            "grid_column": null,
            "grid_gap": null,
            "grid_row": null,
            "grid_template_areas": null,
            "grid_template_columns": null,
            "grid_template_rows": null,
            "height": null,
            "justify_content": null,
            "justify_items": null,
            "left": null,
            "margin": null,
            "max_height": null,
            "max_width": null,
            "min_height": null,
            "min_width": null,
            "object_fit": null,
            "object_position": null,
            "order": null,
            "overflow": null,
            "overflow_x": null,
            "overflow_y": null,
            "padding": null,
            "right": null,
            "top": null,
            "visibility": null,
            "width": null
          }
        },
        "44e8e982198241d591ee69a43ac85d3e": {
          "model_module": "@jupyter-widgets/controls",
          "model_module_version": "1.5.0",
          "model_name": "ProgressStyleModel",
          "state": {
            "_model_module": "@jupyter-widgets/controls",
            "_model_module_version": "1.5.0",
            "_model_name": "ProgressStyleModel",
            "_view_count": null,
            "_view_module": "@jupyter-widgets/base",
            "_view_module_version": "1.2.0",
            "_view_name": "StyleView",
            "bar_color": null,
            "description_width": ""
          }
        },
        "5123fa679c0f4f0c911c00fe7f2f4f65": {
          "model_module": "@jupyter-widgets/controls",
          "model_module_version": "1.5.0",
          "model_name": "FloatProgressModel",
          "state": {
            "_dom_classes": [],
            "_model_module": "@jupyter-widgets/controls",
            "_model_module_version": "1.5.0",
            "_model_name": "FloatProgressModel",
            "_view_count": null,
            "_view_module": "@jupyter-widgets/controls",
            "_view_module_version": "1.5.0",
            "_view_name": "ProgressView",
            "bar_style": "success",
            "description": "",
            "description_tooltip": null,
            "layout": "IPY_MODEL_6e4d702ad8954e8ca14bc061ecb864e9",
            "max": 1,
            "min": 0,
            "orientation": "horizontal",
            "style": "IPY_MODEL_44e8e982198241d591ee69a43ac85d3e",
            "value": 1
          }
        },
        "6e4d702ad8954e8ca14bc061ecb864e9": {
          "model_module": "@jupyter-widgets/base",
          "model_module_version": "1.2.0",
          "model_name": "LayoutModel",
          "state": {
            "_model_module": "@jupyter-widgets/base",
            "_model_module_version": "1.2.0",
            "_model_name": "LayoutModel",
            "_view_count": null,
            "_view_module": "@jupyter-widgets/base",
            "_view_module_version": "1.2.0",
            "_view_name": "LayoutView",
            "align_content": null,
            "align_items": null,
            "align_self": null,
            "border": null,
            "bottom": null,
            "display": null,
            "flex": null,
            "flex_flow": null,
            "grid_area": null,
            "grid_auto_columns": null,
            "grid_auto_flow": null,
            "grid_auto_rows": null,
            "grid_column": null,
            "grid_gap": null,
            "grid_row": null,
            "grid_template_areas": null,
            "grid_template_columns": null,
            "grid_template_rows": null,
            "height": null,
            "justify_content": null,
            "justify_items": null,
            "left": null,
            "margin": null,
            "max_height": null,
            "max_width": null,
            "min_height": null,
            "min_width": null,
            "object_fit": null,
            "object_position": null,
            "order": null,
            "overflow": null,
            "overflow_x": null,
            "overflow_y": null,
            "padding": null,
            "right": null,
            "top": null,
            "visibility": null,
            "width": "20px"
          }
        },
        "8b47b3556dd942aeaca07d52f6339db2": {
          "model_module": "@jupyter-widgets/base",
          "model_module_version": "1.2.0",
          "model_name": "LayoutModel",
          "state": {
            "_model_module": "@jupyter-widgets/base",
            "_model_module_version": "1.2.0",
            "_model_name": "LayoutModel",
            "_view_count": null,
            "_view_module": "@jupyter-widgets/base",
            "_view_module_version": "1.2.0",
            "_view_name": "LayoutView",
            "align_content": null,
            "align_items": null,
            "align_self": null,
            "border": null,
            "bottom": null,
            "display": null,
            "flex": null,
            "flex_flow": null,
            "grid_area": null,
            "grid_auto_columns": null,
            "grid_auto_flow": null,
            "grid_auto_rows": null,
            "grid_column": null,
            "grid_gap": null,
            "grid_row": null,
            "grid_template_areas": null,
            "grid_template_columns": null,
            "grid_template_rows": null,
            "height": null,
            "justify_content": null,
            "justify_items": null,
            "left": null,
            "margin": null,
            "max_height": null,
            "max_width": null,
            "min_height": null,
            "min_width": null,
            "object_fit": null,
            "object_position": null,
            "order": null,
            "overflow": null,
            "overflow_x": null,
            "overflow_y": null,
            "padding": null,
            "right": null,
            "top": null,
            "visibility": null,
            "width": null
          }
        },
        "b6512438f89a45559fa8889a5bd1d1a4": {
          "model_module": "@jupyter-widgets/controls",
          "model_module_version": "1.5.0",
          "model_name": "HBoxModel",
          "state": {
            "_dom_classes": [],
            "_model_module": "@jupyter-widgets/controls",
            "_model_module_version": "1.5.0",
            "_model_name": "HBoxModel",
            "_view_count": null,
            "_view_module": "@jupyter-widgets/controls",
            "_view_module_version": "1.5.0",
            "_view_name": "HBoxView",
            "box_style": "",
            "children": [
              "IPY_MODEL_e9627eb6c4a345b0bb7f3f5750d690ee",
              "IPY_MODEL_5123fa679c0f4f0c911c00fe7f2f4f65",
              "IPY_MODEL_0f10fe36fe514d069084a1cb37155ae3"
            ],
            "layout": "IPY_MODEL_1eac86b4d1794725b4f4aa2edf1cacaa"
          }
        },
        "c46cd8d0d9d24d848f68ed337effcb1b": {
          "model_module": "@jupyter-widgets/controls",
          "model_module_version": "1.5.0",
          "model_name": "DescriptionStyleModel",
          "state": {
            "_model_module": "@jupyter-widgets/controls",
            "_model_module_version": "1.5.0",
            "_model_name": "DescriptionStyleModel",
            "_view_count": null,
            "_view_module": "@jupyter-widgets/base",
            "_view_module_version": "1.2.0",
            "_view_name": "StyleView",
            "description_width": ""
          }
        },
        "d726b36e63f84ecbbf9ca823b05c37e8": {
          "model_module": "@jupyter-widgets/controls",
          "model_module_version": "1.5.0",
          "model_name": "DescriptionStyleModel",
          "state": {
            "_model_module": "@jupyter-widgets/controls",
            "_model_module_version": "1.5.0",
            "_model_name": "DescriptionStyleModel",
            "_view_count": null,
            "_view_module": "@jupyter-widgets/base",
            "_view_module_version": "1.2.0",
            "_view_name": "StyleView",
            "description_width": ""
          }
        },
        "e9627eb6c4a345b0bb7f3f5750d690ee": {
          "model_module": "@jupyter-widgets/controls",
          "model_module_version": "1.5.0",
          "model_name": "HTMLModel",
          "state": {
            "_dom_classes": [],
            "_model_module": "@jupyter-widgets/controls",
            "_model_module_version": "1.5.0",
            "_model_name": "HTMLModel",
            "_view_count": null,
            "_view_module": "@jupyter-widgets/controls",
            "_view_module_version": "1.5.0",
            "_view_name": "HTMLView",
            "description": "",
            "description_tooltip": null,
            "layout": "IPY_MODEL_8b47b3556dd942aeaca07d52f6339db2",
            "placeholder": "​",
            "style": "IPY_MODEL_c46cd8d0d9d24d848f68ed337effcb1b",
            "value": ""
          }
        }
      }
    }
  },
  "nbformat": 4,
  "nbformat_minor": 0
}
