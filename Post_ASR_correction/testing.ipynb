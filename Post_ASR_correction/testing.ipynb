{
 "cells": [
  {
   "cell_type": "code",
   "execution_count": 44,
   "metadata": {},
   "outputs": [],
   "source": [
    "import pandas as pd\n",
    "from tqdm.notebook import tqdm"
   ]
  },
  {
   "cell_type": "code",
   "execution_count": 2,
   "metadata": {},
   "outputs": [],
   "source": [
    "df = pd.read_csv('data/audios/test.csv')"
   ]
  },
  {
   "cell_type": "code",
   "execution_count": 3,
   "metadata": {},
   "outputs": [],
   "source": [
    "count = 100\n",
    "\n",
    "not_same = []\n",
    "for og, rec in zip(df['og_transcription'], df['ms_asr_transcription']):\n",
    "    if count == 0:\n",
    "        break\n",
    "    \n",
    "    if og != rec:\n",
    "        not_same.append([og, rec])\n",
    "\n",
    "        count -= 1\n"
   ]
  },
  {
   "cell_type": "code",
   "execution_count": 4,
   "metadata": {},
   "outputs": [],
   "source": [
    "df2 = pd.DataFrame(not_same, columns=df.columns[1:])"
   ]
  },
  {
   "cell_type": "code",
   "execution_count": 5,
   "metadata": {},
   "outputs": [
    {
     "data": {
      "text/html": [
       "<div>\n",
       "<style scoped>\n",
       "    .dataframe tbody tr th:only-of-type {\n",
       "        vertical-align: middle;\n",
       "    }\n",
       "\n",
       "    .dataframe tbody tr th {\n",
       "        vertical-align: top;\n",
       "    }\n",
       "\n",
       "    .dataframe thead th {\n",
       "        text-align: right;\n",
       "    }\n",
       "</style>\n",
       "<table border=\"1\" class=\"dataframe\">\n",
       "  <thead>\n",
       "    <tr style=\"text-align: right;\">\n",
       "      <th></th>\n",
       "      <th>og_transcription</th>\n",
       "      <th>ms_asr_transcription</th>\n",
       "    </tr>\n",
       "  </thead>\n",
       "  <tbody>\n",
       "    <tr>\n",
       "      <th>0</th>\n",
       "      <td>I have a sharp pain in my lower stomach.</td>\n",
       "      <td>I have a shopping in my lowest.</td>\n",
       "    </tr>\n",
       "    <tr>\n",
       "      <th>1</th>\n",
       "      <td>Don't cry</td>\n",
       "      <td>Don't try.</td>\n",
       "    </tr>\n",
       "    <tr>\n",
       "      <th>2</th>\n",
       "      <td>When I get out of bed in the morning my body f...</td>\n",
       "      <td>When I get out of bed in the morning, my body ...</td>\n",
       "    </tr>\n",
       "    <tr>\n",
       "      <th>3</th>\n",
       "      <td>i have a great pain in my thorax from heart in...</td>\n",
       "      <td>I have a great pain in my thorax from heart in...</td>\n",
       "    </tr>\n",
       "    <tr>\n",
       "      <th>4</th>\n",
       "      <td>I have a hard muscle pain since i went to the gym</td>\n",
       "      <td>I have a hard muscle pain since I went to the ...</td>\n",
       "    </tr>\n",
       "  </tbody>\n",
       "</table>\n",
       "</div>"
      ],
      "text/plain": [
       "                                    og_transcription  \\\n",
       "0           I have a sharp pain in my lower stomach.   \n",
       "1                                          Don't cry   \n",
       "2  When I get out of bed in the morning my body f...   \n",
       "3  i have a great pain in my thorax from heart in...   \n",
       "4  I have a hard muscle pain since i went to the gym   \n",
       "\n",
       "                                ms_asr_transcription  \n",
       "0                    I have a shopping in my lowest.  \n",
       "1                                         Don't try.  \n",
       "2  When I get out of bed in the morning, my body ...  \n",
       "3  I have a great pain in my thorax from heart in...  \n",
       "4  I have a hard muscle pain since I went to the ...  "
      ]
     },
     "execution_count": 5,
     "metadata": {},
     "output_type": "execute_result"
    }
   ],
   "source": [
    "df2.head()"
   ]
  },
  {
   "cell_type": "code",
   "execution_count": 6,
   "metadata": {},
   "outputs": [],
   "source": [
    "from transformers import AutoTokenizer, AutoModelForSeq2SeqLM"
   ]
  },
  {
   "cell_type": "code",
   "execution_count": 7,
   "metadata": {},
   "outputs": [],
   "source": [
    "MODEL_CHECKPOINT = \"google/flan-t5-small-finetuned-asr_correction\"\n",
    "\n",
    "tokenizer = AutoTokenizer.from_pretrained(MODEL_CHECKPOINT)\n",
    "model = AutoModelForSeq2SeqLM.from_pretrained(MODEL_CHECKPOINT)"
   ]
  },
  {
   "cell_type": "code",
   "execution_count": 8,
   "metadata": {},
   "outputs": [],
   "source": [
    "def correct(text):\n",
    "    input_ids = tokenizer(text, return_tensors=\"pt\")[\"input_ids\"]\n",
    "    output = model.generate(input_ids)\n",
    "    translated_text = tokenizer.batch_decode(output, skip_special_tokens=True)[0]\n",
    "    return translated_text"
   ]
  },
  {
   "cell_type": "code",
   "execution_count": 42,
   "metadata": {},
   "outputs": [],
   "source": [
    "import re\n",
    "\n",
    "def remove_characters(line):\n",
    "    return re.sub('[!@#$.,]', '', line)\n",
    "\n",
    "def find_diff_words(str1, str2):\n",
    "    str1 =remove_characters(str1)\n",
    "    str2 =remove_characters(str2)\n",
    "\n",
    "    words1 = str1.split()\n",
    "    words2 = str2.split()\n",
    "    diff_words = []\n",
    "    for i in range(min((len(words1), len(words2)))):\n",
    "        if words1[i].lower() != words2[i].lower():\n",
    "            # print(words1[i], words2[i])\n",
    "            diffs = [i, words1[i], words2[i]]\n",
    "            diff_words.append(diffs)\n",
    "    return diff_words"
   ]
  },
  {
   "cell_type": "code",
   "execution_count": null,
   "metadata": {},
   "outputs": [],
   "source": [
    "corrected = []\n",
    "diff = []\n",
    "\n",
    "for sent in tqdm(df2['ms_asr_transcription']):\n",
    "    correct_sent = correct(sent)\n",
    "    corrected.append(correct_sent)\n",
    "    diff.append(find_diff_words(sent, correct_sent))\n"
   ]
  },
  {
   "cell_type": "code",
   "execution_count": 45,
   "metadata": {},
   "outputs": [],
   "source": [
    "df2['corrected'] = corrected\n",
    "df2['differences'] = diff"
   ]
  },
  {
   "cell_type": "code",
   "execution_count": 46,
   "metadata": {},
   "outputs": [],
   "source": [
    "df2.to_csv('tested2.csv', index=False)"
   ]
  }
 ],
 "metadata": {
  "kernelspec": {
   "display_name": "base",
   "language": "python",
   "name": "python3"
  },
  "language_info": {
   "codemirror_mode": {
    "name": "ipython",
    "version": 3
   },
   "file_extension": ".py",
   "mimetype": "text/x-python",
   "name": "python",
   "nbconvert_exporter": "python",
   "pygments_lexer": "ipython3",
   "version": "3.11.7"
  }
 },
 "nbformat": 4,
 "nbformat_minor": 2
}
