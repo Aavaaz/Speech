{
  "cells": [
    {
      "cell_type": "code",
      "execution_count": 2,
      "metadata": {
        "gather": {
          "logged": 1719477887572
        },
        "jupyter": {
          "outputs_hidden": false,
          "source_hidden": false
        },
        "nteract": {
          "transient": {
            "deleting": false
          }
        }
      },
      "outputs": [
        {
          "name": "stdout",
          "output_type": "stream",
          "text": [
            "WARNING:tensorflow:From C:\\Users\\Hanish\\AppData\\Roaming\\Python\\Python311\\site-packages\\tf_keras\\src\\losses.py:2976: The name tf.losses.sparse_softmax_cross_entropy is deprecated. Please use tf.compat.v1.losses.sparse_softmax_cross_entropy instead.\n",
            "\n"
          ]
        }
      ],
      "source": [
        "import warnings\n",
        "warnings.filterwarnings('ignore')\n",
        "\n",
        "from datasets import Dataset\n",
        "import pandas as pd\n",
        "# import numpy as np\n",
        "\n",
        "# from tqdm import tqdm\n",
        "import torch\n",
        "\n",
        "from transformers import DataCollatorForSeq2Seq, Seq2SeqTrainingArguments, Seq2SeqTrainer"
      ]
    },
    {
      "cell_type": "code",
      "execution_count": 18,
      "metadata": {},
      "outputs": [],
      "source": [
        "language = 'gujarati'"
      ]
    },
    {
      "cell_type": "code",
      "execution_count": 3,
      "metadata": {},
      "outputs": [
        {
          "name": "stderr",
          "output_type": "stream",
          "text": [
            "You are using the default legacy behaviour of the <class 'transformers.models.t5.tokenization_t5.T5Tokenizer'>. This is expected, and simply means that the `legacy` (previous) behavior will be used so nothing changes for you. If you want to use the new behaviour, set `legacy=False`. This should only be set if you understand what it means, and thoroughly read the reason why this was added as explained in https://github.com/huggingface/transformers/pull/24565\n"
          ]
        }
      ],
      "source": [
        "from transformers import AutoModelForSeq2SeqLM, T5Tokenizer\n",
        "MODEL_CHECKPOINT =\"google/mt5-base\"\n",
        "\n",
        "tokenizer = T5Tokenizer.from_pretrained(MODEL_CHECKPOINT, )\n",
        "model = AutoModelForSeq2SeqLM.from_pretrained(MODEL_CHECKPOINT)"
      ]
    },
    {
      "cell_type": "code",
      "execution_count": 4,
      "metadata": {},
      "outputs": [
        {
          "data": {
            "text/plain": [
              "'મારું આખું શરીર થીજી ગયું છે.</s>'"
            ]
          },
          "execution_count": 4,
          "metadata": {},
          "output_type": "execute_result"
        }
      ],
      "source": [
        "encodes = tokenizer.encode('મારું આખું શરીર થીજી ગયું છે.')\n",
        "outputs = tokenizer.decode(encodes)\n",
        "outputs\n",
        "# encodes"
      ]
    },
    {
      "cell_type": "code",
      "execution_count": 6,
      "metadata": {},
      "outputs": [
        {
          "data": {
            "text/html": [
              "<div>\n",
              "<style scoped>\n",
              "    .dataframe tbody tr th:only-of-type {\n",
              "        vertical-align: middle;\n",
              "    }\n",
              "\n",
              "    .dataframe tbody tr th {\n",
              "        vertical-align: top;\n",
              "    }\n",
              "\n",
              "    .dataframe thead th {\n",
              "        text-align: right;\n",
              "    }\n",
              "</style>\n",
              "<table border=\"1\" class=\"dataframe\">\n",
              "  <thead>\n",
              "    <tr style=\"text-align: right;\">\n",
              "      <th></th>\n",
              "      <th>file</th>\n",
              "      <th>og_transcription</th>\n",
              "      <th>ms_asr_transcription</th>\n",
              "    </tr>\n",
              "  </thead>\n",
              "  <tbody>\n",
              "    <tr>\n",
              "      <th>0</th>\n",
              "      <td>../data/audios/gujarati/train/guj_audio_0.wav</td>\n",
              "      <td>જ્યારે હું તેણીને યાદ કરું છું ત્યારે હું નિરા...</td>\n",
              "      <td>જયારે હું તેણીને યાદ કરું છું ત્યારે હું નિરાશ...</td>\n",
              "    </tr>\n",
              "    <tr>\n",
              "      <th>1</th>\n",
              "      <td>../data/audios/gujarati/train/guj_audio_1.wav</td>\n",
              "      <td>જ્યારે હું ભારે વસ્તુઓ વહન કરું છું ત્યારે મને...</td>\n",
              "      <td>જ્યારે હું ભારે વસ્તુઓબાન કરું છું ત્યારે મને ...</td>\n",
              "    </tr>\n",
              "    <tr>\n",
              "      <th>2</th>\n",
              "      <td>../data/audios/gujarati/train/guj_audio_2.wav</td>\n",
              "      <td>જ્યારે હું મારા હાથને ખસેડું છું ત્યારે ખૂબ પી...</td>\n",
              "      <td>જ્યારે હું મારા હાથને ખસેડું છું ત્યારે ખૂબ પી...</td>\n",
              "    </tr>\n",
              "    <tr>\n",
              "      <th>3</th>\n",
              "      <td>../data/audios/gujarati/train/guj_audio_3.wav</td>\n",
              "      <td>મારા પુત્રએ તેના હોઠને વીંધી નાખ્યું હતું અને ...</td>\n",
              "      <td>મારા પુત્રે તેના હોઠને વીંધી નાખ્યું હતું અને ...</td>\n",
              "    </tr>\n",
              "    <tr>\n",
              "      <th>4</th>\n",
              "      <td>../data/audios/gujarati/train/guj_audio_4.wav</td>\n",
              "      <td>મારી પીઠના નીચેના ભાગમાં સ્નાયુઓમાં દુખાવો થાય છે</td>\n",
              "      <td>મારી પીઠના નીચેના ભાગમાં સ્નાયુઓમાં દુખાવો થાય.</td>\n",
              "    </tr>\n",
              "  </tbody>\n",
              "</table>\n",
              "</div>"
            ],
            "text/plain": [
              "                                            file  \\\n",
              "0  ../data/audios/gujarati/train/guj_audio_0.wav   \n",
              "1  ../data/audios/gujarati/train/guj_audio_1.wav   \n",
              "2  ../data/audios/gujarati/train/guj_audio_2.wav   \n",
              "3  ../data/audios/gujarati/train/guj_audio_3.wav   \n",
              "4  ../data/audios/gujarati/train/guj_audio_4.wav   \n",
              "\n",
              "                                    og_transcription  \\\n",
              "0  જ્યારે હું તેણીને યાદ કરું છું ત્યારે હું નિરા...   \n",
              "1  જ્યારે હું ભારે વસ્તુઓ વહન કરું છું ત્યારે મને...   \n",
              "2  જ્યારે હું મારા હાથને ખસેડું છું ત્યારે ખૂબ પી...   \n",
              "3  મારા પુત્રએ તેના હોઠને વીંધી નાખ્યું હતું અને ...   \n",
              "4  મારી પીઠના નીચેના ભાગમાં સ્નાયુઓમાં દુખાવો થાય છે   \n",
              "\n",
              "                                ms_asr_transcription  \n",
              "0  જયારે હું તેણીને યાદ કરું છું ત્યારે હું નિરાશ...  \n",
              "1  જ્યારે હું ભારે વસ્તુઓબાન કરું છું ત્યારે મને ...  \n",
              "2  જ્યારે હું મારા હાથને ખસેડું છું ત્યારે ખૂબ પી...  \n",
              "3  મારા પુત્રે તેના હોઠને વીંધી નાખ્યું હતું અને ...  \n",
              "4    મારી પીઠના નીચેના ભાગમાં સ્નાયુઓમાં દુખાવો થાય.  "
            ]
          },
          "execution_count": 6,
          "metadata": {},
          "output_type": "execute_result"
        }
      ],
      "source": [
        "df = pd.read_csv('post_asr_datas/pseudo_train_gujarati.csv')\n",
        "df.dropna(inplace=True)\n",
        "df.head()"
      ]
    },
    {
      "cell_type": "code",
      "execution_count": 7,
      "metadata": {},
      "outputs": [],
      "source": [
        "SOURCE = 'ms_asr_transcription'\n",
        "\n",
        "TARGET = 'og_transcription'"
      ]
    },
    {
      "cell_type": "code",
      "execution_count": 8,
      "metadata": {
        "gather": {
          "logged": 1719477376001
        },
        "jupyter": {
          "outputs_hidden": false,
          "source_hidden": false
        },
        "nteract": {
          "transient": {
            "deleting": false
          }
        }
      },
      "outputs": [],
      "source": [
        "from sklearn.model_selection import train_test_split\n",
        "\n",
        "x_train, x_test, y_train, y_test = train_test_split(df[SOURCE], df[TARGET], test_size=0.10,\n",
        "                                                    shuffle=True,\n",
        "                                                    random_state=100)"
      ]
    },
    {
      "cell_type": "code",
      "execution_count": 9,
      "metadata": {
        "gather": {
          "logged": 1719477377905
        },
        "jupyter": {
          "outputs_hidden": false,
          "source_hidden": false
        },
        "nteract": {
          "transient": {
            "deleting": false
          }
        }
      },
      "outputs": [],
      "source": [
        "def prep_data_for_model_fine_tuning(source_lang: list, target_lang: list) -> list:\n",
        "    data_dict = dict()\n",
        "    data_dict['data'] = []\n",
        "\n",
        "    for sr_text, tr_text in zip(source_lang, target_lang):\n",
        "        temp_dict = dict()\n",
        "        temp_dict[SOURCE] = sr_text\n",
        "        temp_dict[TARGET] = tr_text\n",
        "\n",
        "        data_dict['data'].append(temp_dict)\n",
        "\n",
        "    return data_dict"
      ]
    },
    {
      "cell_type": "code",
      "execution_count": 10,
      "metadata": {
        "gather": {
          "logged": 1719477447676
        },
        "jupyter": {
          "outputs_hidden": false,
          "source_hidden": false
        },
        "nteract": {
          "transient": {
            "deleting": false
          }
        }
      },
      "outputs": [],
      "source": [
        "training_data = prep_data_for_model_fine_tuning(x_train.values, y_train.values)\n",
        "testing_data = prep_data_for_model_fine_tuning(x_test.values, y_test.values)"
      ]
    },
    {
      "cell_type": "code",
      "execution_count": 11,
      "metadata": {},
      "outputs": [
        {
          "data": {
            "text/plain": [
              "[{'ms_asr_transcription': 'હું મારા માથા પર ખૂબ જ દબાણ અનુભવું છું.',\n",
              "  'og_transcription': 'હું મારા માથા પર ખૂબ જ દબાણ અનુભવું છું.'},\n",
              " {'ms_asr_transcription': 'ચાલ્યા પછી મને મારા પગ નીચે થોડો દુખાવો થાય છે.',\n",
              "  'og_transcription': 'ચાલ્યા પછી મને મારા પગ નીચે થોડો દુખાવો થાય છે'},\n",
              " {'ms_asr_transcription': 'જ્યારે હું હિલ્સ પહેરું છું ત્યારે મારા પગની કમાન દુખે છે.',\n",
              "  'og_transcription': 'જ્યારે હું હીલ્સ પહેરું છું ત્યારે મારા પગની કમાનો દુખે છે'},\n",
              " {'ms_asr_transcription': 'જયારે હું સવારે જાગું છું ત્યારે મને વિચિત્ર લાગે છે અને ચક્કર આવે છે.',\n",
              "  'og_transcription': 'જ્યારે હું સવારે જાગું છું ત્યારે મને વિચિત્ર લાગે છે અને ચક્કર આવે છે'},\n",
              " {'ms_asr_transcription': 'આપને ઝડપથી મટાડવામાં મદદ કરેં છે.',\n",
              "  'og_transcription': 'કાપને ઝડપથી મટાડવામાં શું મદદ કરે છે?'}]"
            ]
          },
          "execution_count": 11,
          "metadata": {},
          "output_type": "execute_result"
        }
      ],
      "source": [
        "training_data['data'][:5]"
      ]
    },
    {
      "cell_type": "code",
      "execution_count": 13,
      "metadata": {
        "gather": {
          "logged": 1719477675472
        },
        "jupyter": {
          "outputs_hidden": false,
          "source_hidden": false
        },
        "nteract": {
          "transient": {
            "deleting": false
          }
        }
      },
      "outputs": [],
      "source": [
        "MAX_INPUT_LENGTH = 128\n",
        "\n",
        "def generate_model_ready_dataset(dataset: list, source: str, target: str, tokenizer):\n",
        "    preped_data = []\n",
        "\n",
        "    for row in dataset:\n",
        "        inputs = row[source]\n",
        "        targets = row[target]\n",
        "\n",
        "        model_inputs = tokenizer(inputs, max_length=MAX_INPUT_LENGTH, truncation=True)#, padding=True)\n",
        "        model_inputs['data'] = row\n",
        "\n",
        "        # setup the tokenizer for targets\n",
        "        with tokenizer.as_target_tokenizer():\n",
        "            labels = tokenizer(targets, max_length=MAX_INPUT_LENGTH,\n",
        "                                 truncation=True, padding=True)\n",
        "            model_inputs['labels'] = labels['input_ids']\n",
        "\n",
        "        preped_data.append(model_inputs)\n",
        "\n",
        "    return preped_data"
      ]
    },
    {
      "cell_type": "code",
      "execution_count": 14,
      "metadata": {
        "gather": {
          "logged": 1719477677780
        },
        "jupyter": {
          "outputs_hidden": false,
          "source_hidden": false
        },
        "nteract": {
          "transient": {
            "deleting": false
          }
        }
      },
      "outputs": [],
      "source": [
        "train_data = generate_model_ready_dataset(dataset=training_data['data'],\n",
        "                                        tokenizer=tokenizer,\n",
        "                                        source=SOURCE,\n",
        "                                        target=TARGET)\n",
        "\n",
        "test_data = generate_model_ready_dataset(dataset=testing_data['data'],\n",
        "                                        tokenizer=tokenizer,\n",
        "                                        source=SOURCE,\n",
        "                                        target=TARGET)"
      ]
    },
    {
      "cell_type": "code",
      "execution_count": 15,
      "metadata": {
        "gather": {
          "logged": 1719477720255
        },
        "jupyter": {
          "outputs_hidden": false,
          "source_hidden": false
        },
        "nteract": {
          "transient": {
            "deleting": false
          }
        }
      },
      "outputs": [
        {
          "name": "stdout",
          "output_type": "stream",
          "text": [
            "<class 'pandas.core.frame.DataFrame'>\n",
            "RangeIndex: 414 entries, 0 to 413\n",
            "Data columns (total 4 columns):\n",
            " #   Column          Non-Null Count  Dtype \n",
            "---  ------          --------------  ----- \n",
            " 0   attention_mask  414 non-null    object\n",
            " 1   data            414 non-null    object\n",
            " 2   input_ids       414 non-null    object\n",
            " 3   labels          414 non-null    object\n",
            "dtypes: object(4)\n",
            "memory usage: 13.1+ KB\n"
          ]
        }
      ],
      "source": [
        "train_df = pd.DataFrame.from_records(train_data)\n",
        "test_df = pd.DataFrame.from_records(test_data)\n",
        "\n",
        "train_df.info()"
      ]
    },
    {
      "cell_type": "code",
      "execution_count": 16,
      "metadata": {
        "gather": {
          "logged": 1719477791094
        },
        "jupyter": {
          "outputs_hidden": false,
          "source_hidden": false
        },
        "nteract": {
          "transient": {
            "deleting": false
          }
        }
      },
      "outputs": [
        {
          "data": {
            "text/plain": [
              "Dataset({\n",
              "    features: ['attention_mask', 'data', 'input_ids', 'labels'],\n",
              "    num_rows: 414\n",
              "})"
            ]
          },
          "execution_count": 16,
          "metadata": {},
          "output_type": "execute_result"
        }
      ],
      "source": [
        "train_dataset = Dataset.from_pandas(train_df)\n",
        "test_dataset = Dataset.from_pandas(test_df)\n",
        "\n",
        "train_dataset"
      ]
    },
    {
      "cell_type": "code",
      "execution_count": 19,
      "metadata": {
        "jupyter": {
          "outputs_hidden": false,
          "source_hidden": false
        },
        "nteract": {
          "transient": {
            "deleting": false
          }
        }
      },
      "outputs": [],
      "source": [
        "MODEL_INTENT = 'asr_correction'\n",
        "\n",
        "original_model = MODEL_CHECKPOINT.split('/')[-1]\n",
        "trained_model_name = f'{original_model}-finetuned-{MODEL_INTENT}-{language}'\n",
        "batch_size = 8\n",
        "model_args = Seq2SeqTrainingArguments(\n",
        "    trained_model_name,\n",
        "    # evaluation_strategy='epoch',\n",
        "    learning_rate=2e-4,\n",
        "    per_device_train_batch_size=batch_size,\n",
        "    per_device_eval_batch_size=batch_size,\n",
        "    weight_decay=0.02,\n",
        "    save_total_limit=3,\n",
        "    num_train_epochs=1,\n",
        "    predict_with_generate=True\n",
        ")\n",
        "\n",
        "data_collator = DataCollatorForSeq2Seq(tokenizer, model=model)"
      ]
    },
    {
      "cell_type": "code",
      "execution_count": 20,
      "metadata": {},
      "outputs": [
        {
          "name": "stdout",
          "output_type": "stream",
          "text": [
            "cuda:0\n"
          ]
        }
      ],
      "source": [
        "device = torch.device(\"cuda:0\" if torch.cuda.is_available() else \"cpu\")\n",
        "print(device)\n",
        "torch.cuda.empty_cache()"
      ]
    },
    {
      "cell_type": "code",
      "execution_count": 21,
      "metadata": {
        "jupyter": {
          "outputs_hidden": false,
          "source_hidden": false
        },
        "nteract": {
          "transient": {
            "deleting": false
          }
        }
      },
      "outputs": [
        {
          "data": {
            "application/vnd.jupyter.widget-view+json": {
              "model_id": "45d4f750985d4f93a239953e7842fc40",
              "version_major": 2,
              "version_minor": 0
            },
            "text/plain": [
              "  0%|          | 0/52 [00:00<?, ?it/s]"
            ]
          },
          "metadata": {},
          "output_type": "display_data"
        },
        {
          "name": "stdout",
          "output_type": "stream",
          "text": [
            "{'train_runtime': 674.3538, 'train_samples_per_second': 0.614, 'train_steps_per_second': 0.077, 'train_loss': 7.273348294771635, 'epoch': 1.0}\n"
          ]
        },
        {
          "data": {
            "text/plain": [
              "TrainOutput(global_step=52, training_loss=7.273348294771635, metrics={'train_runtime': 674.3538, 'train_samples_per_second': 0.614, 'train_steps_per_second': 0.077, 'total_flos': 44847135590400.0, 'train_loss': 7.273348294771635, 'epoch': 1.0})"
            ]
          },
          "execution_count": 21,
          "metadata": {},
          "output_type": "execute_result"
        }
      ],
      "source": [
        "trainer = Seq2SeqTrainer(\n",
        "    model.to(device),\n",
        "    model_args,\n",
        "    train_dataset=train_dataset,\n",
        "    data_collator=data_collator,\n",
        "    tokenizer=tokenizer,\n",
        ")\n",
        "\n",
        "trainer.train()"
      ]
    },
    {
      "cell_type": "code",
      "execution_count": 22,
      "metadata": {},
      "outputs": [],
      "source": [
        "trainer.save_model(f\"{MODEL_CHECKPOINT}-finetuned-{MODEL_INTENT}-{language}\")"
      ]
    }
  ],
  "metadata": {
    "kernel_info": {
      "name": "python38-azureml-pt-tf"
    },
    "kernelspec": {
      "display_name": "base",
      "language": "python",
      "name": "python3"
    },
    "language_info": {
      "codemirror_mode": {
        "name": "ipython",
        "version": 3
      },
      "file_extension": ".py",
      "mimetype": "text/x-python",
      "name": "python",
      "nbconvert_exporter": "python",
      "pygments_lexer": "ipython3",
      "version": "3.11.7"
    },
    "microsoft": {
      "host": {
        "AzureML": {
          "notebookHasBeenCompleted": true
        }
      },
      "ms_spell_check": {
        "ms_spell_check_language": "en"
      }
    },
    "nteract": {
      "version": "nteract-front-end@1.0.0"
    }
  },
  "nbformat": 4,
  "nbformat_minor": 2
}
