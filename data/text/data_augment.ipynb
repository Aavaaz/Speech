{
 "cells": [
  {
   "cell_type": "code",
   "execution_count": null,
   "metadata": {},
   "outputs": [],
   "source": [
    "def levenshtein_distance(word1, word2):\n",
    "  n = len(word1)\n",
    "  m = len(word2)\n",
    "  dp = [[0 for _ in range(m + 1)] for _ in range(n + 1)]\n",
    "\n",
    "  for i in range(n + 1):\n",
    "    dp[i][0] = i\n",
    "\n",
    "  for j in range(m + 1):\n",
    "    dp[0][j] = j\n",
    "\n",
    "  for i in range(1, n + 1):\n",
    "    for j in range(1, m + 1):\n",
    "      if word1[i - 1] == word2[j - 1]:\n",
    "        cost = 0\n",
    "      else:\n",
    "        cost = 1\n",
    "      dp[i][j] = min(dp[i - 1][j] + 1,  # deletion\n",
    "                    dp[i][j - 1] + 1,  # insertion\n",
    "                    dp[i - 1][j - 1] + cost)  # substitution\n",
    "\n",
    "  return dp[n][m]\n",
    "\n",
    "def find_word_scores(word, dictionary):\n",
    "\n",
    "  scores = {}\n",
    "  for candidate in dictionary:\n",
    "    distance = levenshtein_distance(word, candidate)\n",
    "    scores[candidate] = distance\n",
    "\n",
    "  return scores"
   ]
  }
 ],
 "metadata": {
  "language_info": {
   "name": "python"
  }
 },
 "nbformat": 4,
 "nbformat_minor": 2
}
