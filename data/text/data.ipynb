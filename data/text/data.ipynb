{
 "cells": [
  {
   "cell_type": "code",
   "execution_count": 120,
   "metadata": {},
   "outputs": [
    {
     "name": "stdout",
     "output_type": "stream",
     "text": [
      "length of medical words:  1148\n"
     ]
    }
   ],
   "source": [
    "# load patient doctor conversation and medical words list\n",
    "\n",
    "import pandas as pd\n",
    "\n",
    "df = pd.read_csv(\"./conversational/doctor_patient_communication.csv\")\n",
    "\n",
    "sentences = []\n",
    "for doc, pat in zip(df['Doctor'], df['Patient']):\n",
    "    sentences.append(doc)\n",
    "    sentences.append(pat)\n",
    "\n",
    "with open('medical_Words.txt', 'r') as f:\n",
    "    medical_words = f.read()\n",
    "medical_words = [word.lower() for word in medical_words.split(\",\")]\n",
    "\n",
    "# print(len(medical_words))\n",
    "for word in medical_words:\n",
    "    if ' ' in word:\n",
    "        # print(word)\n",
    "        medical_words += word.split(' ')\n",
    "\n",
    "medical_words += ['ulcers', 'acid', 'medication', 'medicine', 'treatment', 'Omeprazole', 'indigestion', 'gastroesophageal', 'stomach','diarrhea', 'irritation', 'nausea', 'vomiting', 'diagnosis', 'antiinflammatory', 'incision','shoulder', 'nanogram, mammogram', 'mri']\n",
    "medical_words = [word for word in medical_words if word not in ['q', 'of', 'a', 'b', 'c',  'er','pap', 'mal', 'lou', 'lens',  'hay', 'heel', 'history',  'in', 'job', 'knife', 'beta','index', 'capital',  'tunnel','channel', 'system',  'superior','complex', 'study', 'stay', 'stem','device', 'slipped', 'wave', 'disc', 'unit', 'down','adjusted', 'root','eating', 'removal','internal','advance', 'quantitative', 'attack','and','Omeprazole', 'research','year', 'study' 'needle', 'magnetic']]\n",
    "medical_words = [word for word in medical_words if word not in ['(bmi)', '(d&c)', '(dnr)', '(dvt)', '(ecg)', '(ect)', '(eeg)', '(emg)', '(eswl)', '(gerd)', '(hpv)', '(ibs)', '(icu)', '(iud)', '(iv)', '(ivf)', '(mra)', '(mri)', '(mrsa)', '(nicu)', '(nsaid)', '(nsaids)', '(obgyn)', '(ocd)', '(pca)', '(pcos)', '(pcp)', '(pid)', '(pku)', '(ptsd)', '(siadh)', '(sids)', '(sle)', '(std)', '(tmj)']]\n",
    "medical_words = sorted(list(set(medical_words)))\n",
    "print('length of medical words: ',len(medical_words))"
   ]
  },
  {
   "cell_type": "code",
   "execution_count": 121,
   "metadata": {},
   "outputs": [
    {
     "name": "stdout",
     "output_type": "stream",
     "text": [
      "length of filtered sentences:  9818\n",
      "filtered_medical_sentences.csv Genreated with length of  9818\n"
     ]
    }
   ],
   "source": [
    "# # filter_data.py\n",
    "# # filters sentences (from doc-pat conversional dataset) that has medical words (from 749 medical words dataset) \n",
    "\n",
    "# filtered_sentences = []\n",
    "# for sentence in sentences:\n",
    "#     words = [word.lower() for word in sentence.split(' ')]\n",
    "#     # print(words)\n",
    "#     for medical_word in medical_words:\n",
    "#         if medical_word in words:\n",
    "#             filtered_sentences.append(sentence)\n",
    "#             # print(sentence)\n",
    "#             break\n",
    "# print('length of filtered sentences: ', len(filtered_sentences))\n",
    "\n",
    "# df = pd.DataFrame.from_dict({'sentences': filtered_sentences})\n",
    "# df.to_csv('filtered_medical_sentences.csv', index=False)\n",
    "# print('filtered_medical_sentences.csv Genreated with length of ', len(df) )"
   ]
  },
  {
   "cell_type": "code",
   "execution_count": 126,
   "metadata": {},
   "outputs": [],
   "source": [
    "# data_analysis.py\n",
    "# freq count of words in data\n",
    "\n",
    "import pandas as pd\n",
    "import re\n",
    "\n",
    "df = pd.read_csv('filtered_medical_sentences.csv')\n",
    "sentences = df['sentences'].tolist()\n",
    "sentences = ' '.join(sentences)\n",
    "sentences = re.sub('[!@#$,.:;\"$%^&*]', '', sentences)\n",
    "freq_count = {}\n",
    "for word in sentences.split(' '):\n",
    "    if word not in freq_count.keys():\n",
    "        freq_count[word] = 1\n",
    "    else:\n",
    "        freq_count[word] += 1\n",
    "\n",
    "# print(dict(sorted(freq_count.items(), key=lambda item: item[1], reverse=True)))"
   ]
  },
  {
   "cell_type": "code",
   "execution_count": 125,
   "metadata": {},
   "outputs": [
    {
     "name": "stdout",
     "output_type": "stream",
     "text": [
      "{'medication': 3186, 'blood': 1825, 'treatment': 1746, 'pain': 1658, 'test': 1328, 'morning': 1231, 'medical': 1096, 'surgery': 921, 'results': 881, 'monitor': 769, 'medicine': 708, 'body': 666, 'heart': 559, 'therapy': 546, 'infection': 518, 'procedure': 500, 'function': 483, 'pressure': 477, 'inflammation': 450, 'nausea': 401, 'care': 356, 'diagnosis': 355, 'fever': 340, 'scan': 336, 'physical': 331, 'stomach': 290, 'disease': 269, 'hospital': 269, 'ibuprofen': 260, 'skin': 251, 'headache': 246, 'liver': 230, 'diarrhea': 214, 'kidney': 199, 'cancer': 196, 'fatigue': 191, 'vomiting': 189, 'drugs': 179, 'joint': 173, 'brain': 168, 'small': 155, 'antiinflammatory': 151, 'bacteria': 148, 'imaging': 148, 'lead': 142, 'throat': 137, 'drug': 132, 'loss': 132, 'rash': 132, 'diabetes': 123, 'antibiotic': 120, 'anesthesia': 118, 'radiation': 99, 'syndrome': 99, 'disorder': 95, 'injury': 92, 'chronic': 90, 'fluid': 89, 'life': 89, 'nerve': 89, 'cell': 86, 'oral': 86, 'sleep': 85, 'abdomen': 82, 'pulmonary': 81, 'cholesterol': 80, 'biopsy': 79, 'acid': 78, 'oxygen': 74, 'spine': 72, 'bone': 71, 'incision': 71, 'shoulder': 71, 'constipation': 70, 'arthritis': 69, 'anxiety': 68, 'lung': 68, 'nose': 65, 'renal': 63, 'spinal': 63, 'bowel': 62, 'electrocardiogram': 62, 'glucose': 62, 'stress': 61, 'thyroid': 60, 'tumor': 60, 'artery': 59, 'exam': 59, 'echocardiogram': 58, 'electrolyte': 58, 'hearing': 58, 'nonsteroidal': 57, 'stroke': 56, 'chemotherapy': 55, 'head': 54, 'hypertension': 54, 'nasal': 52, 'quality': 52, 'diagnostic': 50, 'endoscopy': 50, 'dehydration': 48, 'irritation': 48, 'neck': 48, 'rheumatoid': 48, 'breast': 46, 'autoimmune': 45, 'clot': 43, 'digestive': 43, 'failure': 43, 'bladder': 41, 'calcium': 40, 'asthma': 39, 'insulin': 39, 'symptom': 39, 'depression': 37, 'speech': 37, 'capsule': 36, 'anemia': 35, 'colonoscopy': 35, 'allergy': 34, 'hormone': 33, 'lipid': 33, 'deep': 32, 'cornea': 31, 'coronary': 31, 'pelvic': 31, 'pharmacist': 31, 'pump': 31, 'respiratory': 31, 'rheumatic': 31, 'serum': 31, 'dental': 30, 'angioplasty': 29, 'canal': 29, 'stones': 29, 'abscess': 28, 'intravenous': 28, 'carcinoma': 27, 'catheter': 27, 'edema': 27, 'pregnancy': 27, 'reflux': 26, 'transplant': 26, 'hair': 25, 'sickness': 25, 'sudden': 25, 'obstruction': 24, 'retinopathy': 24, 'tear': 24, 'anticoagulant': 23, 'cord': 23, 'dialysis': 23, 'hemoglobin': 23, 'pneumonia': 23, 'sinus': 23, 'genetic': 22, 'valve': 22, 'addiction': 21, 'apnea': 21, 'bipolar': 21, 'diabetic': 21, 'echocardiography': 21, 'embolism': 21, 'gallbladder': 21, 'replacement': 21, 'angina': 20, 'blocker': 20, 'dermatitis': 20, 'eczema': 20, 'gastrointestinal': 20, 'herniated': 20, 'osteoporosis': 20, 'rabies': 20, 'rhabdomyolysis': 20, 'seborrheic': 20, 'social': 20, 'acupuncture': 19, 'bile': 19, 'cuff': 19, 'fibrillation': 19, 'refractive': 19, 'rotator': 19, 'sepsis': 19, 'shingles': 19, 'ulcers': 19, 'astigmatism': 18, 'bradycardia': 18, 'chickenpox': 18, 'clinical': 18, 'gum': 18, 'laser': 18, 'lesion': 18, 'mental': 18, 'planing': 18, 'sports': 18, 'atrial': 17, 'density': 17, 'detachment': 17, 'distress': 17, 'factor': 17, 'implant': 17, 'marrow': 17, 'palpitations': 17, 'retinal': 17, 'rubella': 17, 'seizure': 17, 'vein': 17, 'acute': 16, 'immunotherapy': 16, 'prolapse': 16, 'pyogenic': 16, 'strep': 16, 'aneurysm': 15, 'autism': 15, 'celiac': 15, 'inflammatory': 15, 'keratotomy': 15, 'motion': 15, 'multiple': 15, 'organ': 15, 'pigmentosa': 15, 'quinsy': 15, 'rectal': 15, 'retinoblastoma': 15, 'scoliosis': 15, 'stent': 15, 'transmitted': 15, 'antidepressant': 14, 'arrhythmia': 14, 'bypass': 14, 'cardiovascular': 14, 'cochlear': 14, 'conjunctivitis': 14, 'granuloma': 14, 'hip': 14, 'recurrent': 14, 'retinitis': 14, 'sacroiliac': 14, 'septic': 14, 'sexually': 14, 'antifungal': 13, 'colposcopy': 13, 'diuretic': 13, 'immunosuppressant': 13, 'insomnia': 13, 'lymph': 13, 'overnight': 13, 'pyelonephritis': 13, 'radial': 13, 'rectocele': 13, 'rhinitis': 13, 'sickle': 13, 'spondylosis': 13, 'tachycardia': 13, 'acromioclavicular': 12, 'angiography': 12, 'antipsychotic': 12, 'bronchitis': 12, 'cartilage': 12, 'cholecystectomy': 12, 'colic': 12, 'crutches': 12, 'cyst': 12, 'dysfunction': 12, 'dysphonia': 12, 'fusion': 12, 'graft': 12, 'laryngeal': 12, 'pyelogram': 12, 'pyoderma': 12, 'retrograde': 12, 'rhinoplasty': 12, 'sinusitis': 12, 'spondylolisthesis': 12, 'stenosis': 12, 'thrombosis': 12, 'amnesia': 11, 'cerebral': 11, 'cervical': 11, 'circumcision': 11, 'concussion': 11, 'congestive': 11, 'dementia': 11, 'diverticulitis': 11, 'dyspepsia': 11, 'encephalitis': 11, 'lithium': 11, 'nodes': 11, 'pacemaker': 11, 'palsy': 11, 'scabies': 11, 'smear': 11, 'spasmodic': 11, 'sputum': 11, 'agoraphobia': 10, 'anaphylaxis': 10, 'appendicitis': 10, 'chlamydia': 10, 'dexamethasone': 10, 'dystonia': 10, 'epilepsy': 10, 'genital': 10, 'herniation': 10, 'imbalance': 10, 'outpatient': 10, 'quadriceps': 10, 'reconstructive': 10, 'schizophrenia': 10, 'scleroderma': 10, 'adenoids': 9, 'benign': 9, 'botox': 9, 'cirrhosis': 9, 'coma': 9, 'cystic': 9, 'emphysema': 9, 'fibrosis': 9, 'keratosis': 9, 'noninvasive': 9, 'occupational': 9, 'phobia': 9, 'somatic': 9, 'spondylitis': 9, 'sprain': 9, 'substance': 9, 'transfusion': 9, 'abrasion': 8, 'abuse': 8, 'amniocentesis': 8, 'augmentation': 8, 'bifida': 8, 'bunion': 8, 'bursitis': 8, 'cardiologist': 8, 'colitis': 8, 'colorectal': 8, 'counseling': 8, 'cystitis': 8, 'cystoscopy': 8, 'diastolic': 8, 'dysmenorrhea': 8, 'dysphagia': 8, 'ectopic': 8, 'endocarditis': 8, 'endocrinologist': 8, 'endometriosis': 8, 'epidural': 8, 'estrogen': 8, 'intraocular': 8, 'jaw': 8, 'mastectomy': 8, 'measles': 8, 'peripheral': 8, 'radical': 8, 'spina': 8, 'surfactant': 8, 'antacid': 7, 'bronchoscopy': 7, 'cellulitis': 7, 'contusion': 7, 'cosmetic': 7, 'delirium': 7, 'dentist': 7, 'dyspnea': 7, 'elbow': 7, 'femoral': 7, 'lupus': 7, 'osteoarthritis': 7, 'prostate': 7, 'reflexes': 7, 'sarcoidosis': 7, 'sciatica': 7, 'sensorineural': 7, 'shin': 7, 'shock': 7, 'somatoform': 7, 'splints': 7, 'sutures': 7, 'tolerance': 7, 'antiseptic': 6, 'aorta': 6, 'appendectomy': 6, 'atrophy': 6, 'bariatric': 6, 'basal': 6, 'calcitonin': 6, 'chiropractic': 6, 'enteritis': 6, 'epiphysis': 6, 'flu': 6, 'fungal': 6, 'herpes': 6, 'indigestion': 6, 'mammogram': 6, 'mass': 6, 'needle': 6, 'ophthalmologist': 6, 'pathology': 6, 'psoriasis': 6, 'psychiatrist': 6, 'scarlet': 6, 'sialadenitis': 6, 'sialolithiasis': 6, 'audiologist': 5, 'block': 5, 'cardiomyopathy': 5, 'contraceptive': 5, 'electroconvulsive': 5, 'epinephrine': 5, 'fracture': 5, 'gastric': 5, 'gastroesophageal': 5, 'hypothyroidism': 5, 'immunoglobulin': 5, 'involuntary': 5, 'laxative': 5, 'melanoma': 5, 'nebulizer': 5, 'obesity': 5, 'oncologist': 5, 'panic': 5, 'stethoscope': 5, 'circulatory': 4, 'congenital': 4, 'death': 4, 'directive': 4, 'electroencephalogram': 4, 'electromyography': 4, 'excision': 4, 'glaucoma': 4, 'hemodialysis': 4, 'hernia': 4, 'hyperthyroidism': 4, 'infertility': 4, 'insipidus': 4, 'intrauterine': 4, 'laparoscopy': 4, 'lumbar': 4, 'malignant': 4, 'metabolic': 4, 'migraine': 4, 'orthopedic': 4, 'ovarian': 4, 'puncture': 4, 'salmonella': 4, 'simplex': 4, 'antimicrobial': 3, 'caries': 3, 'cataract': 3, 'degeneration': 3, 'delta': 3, 'dermatologist': 3, 'feces': 3, 'fundus': 3, 'gestational': 3, 'gonorrhea': 3, 'miscarriage': 3, 'muscular': 3, 'myopia': 3, 'psychologist': 3, 'sonogram': 3, 'thalassemia': 3, 'analgesia': 2, 'antidiuretic': 2, 'aureus': 2, 'benzodiazepine': 2, 'cava': 2, 'chromosome': 2, 'coronavirus': 2, 'dietitian': 2, 'dilation': 2, 'drip': 2, 'duct': 2, 'fecal': 2, 'gene': 2, 'histamine': 2, 'human': 2, 'hyperglycemia': 2, 'hypotension': 2, 'influenza': 2, 'jaundice': 2, 'leukemia': 2, 'malabsorption': 2, 'mammography': 2, 'menopause': 2, 'mitral': 2, 'narcolepsy': 2, 'nephrologist': 2, 'neuralgia': 2, 'neuropathy': 2, 'nicotine': 2, 'overactive': 2, 'overweight': 2, 'phototherapy': 2, 'pituitary': 2, 'placebo': 2, 'progesterone': 2, 'prognosis': 2, 'psychosis': 2, 'strabismus': 2, 'syphilis': 2, 'tendinitis': 2, 'tennis': 2, 'ulcer': 2, 'vena': 2, 'ambulance': 1, 'anesthesiologist': 1, 'chiropractor': 1, 'curettage': 1, 'defibrillator': 1, 'doppler': 1, 'dystrophy': 1, 'endocrinology': 1, 'extracorporeal': 1, 'facelift': 1, 'gamma': 1, 'gastritis': 1, 'grand': 1, 'gynecologist': 1, 'gynecology': 1, 'hemorrhage': 1, 'hepatitis': 1, 'homeopathy': 1, 'hyperparathyroidism': 1, 'immunization': 1, 'immunosuppression': 1, 'infant': 1, 'infarction': 1, 'infectious': 1, 'intensive': 1, 'interstitial': 1, 'intubation': 1, 'irritable': 1, 'laminectomy': 1, 'ligament': 1, 'lithotripsy': 1, 'lymphoma': 1, 'malaria': 1, 'mania': 1, 'media': 1, 'meningitis': 1, 'metastasis': 1, 'myocardial': 1, 'nephrectomy': 1, 'nephrology': 1, 'neurologist': 1, 'neurosurgeon': 1, 'obstetrics': 1, 'occult': 1, 'outlet': 1, 'ovary': 1, 'pancreatitis': 1, 'paralysis': 1, 'partial': 1, 'patella': 1, 'pediatrician': 1, 'peptic': 1, 'periodontitis': 1, 'plastic': 1, 'polycystic': 1, 'polyps': 1, 'psoriatic': 1, 'pubis': 1, 'pulmonologist': 1, 'resonance': 1, 'rubeola': 1, 'stapedectomy': 1, 'subarachnoid': 1, 'symphysis': 1, 'syncope': 1, 'systemic': 1, 'tension': 1, 'testicular': 1, 'tetanus': 1, 'thoracic': 1, 'thrombocytopenia': 1, 'torsion': 1, 'trial': 1, 'zoster': 1, 'acromioclavicular joint': 0, 'advance directive': 0, \"alzheimer's\": 0, \"alzheimer's disease\": 0, 'anti-inflammatory': 0, 'atrial fibrillation': 0, 'autoimmune disease': 0, 'autoimmune disorder': 0, 'autopsy': 0, 'bariatric surgery': 0, 'basal cell carcinoma': 0, 'beta blocker': 0, 'bipolar disorder': 0, 'blood clot': 0, 'blood glucose': 0, 'blood pressure': 0, 'blood transfusion': 0, 'body mass index (bmi)': 0, 'bone density': 0, 'bone marrow': 0, 'brain tumor': 0, 'breast augmentation': 0, 'calcium channel blocker': 0, 'cancer therapy': 0, 'cancer treatment': 0, 'candidiasis': 0, 'capsule endoscopy': 0, 'carcinogen': 0, 'carinii': 0, 'celiac disease': 0, 'cerebral palsy': 0, 'cervical spine': 0, 'chronic fatigue syndrome': 0, 'circulatory system': 0, 'clinical trial': 0, 'cochlear implant': 0, 'colorectal cancer': 0, 'commitment': 0, 'congestive heart failure': 0, 'coronary artery bypass': 0, 'coronary artery disease': 0, 'cosmetic surgery': 0, \"crohn's\": 0, \"crohn's disease\": 0, 'ct': 0, 'ct scan': 0, \"cushing's\": 0, \"cushing's syndrome\": 0, 'cystic fibrosis': 0, 'cytology': 0, 'deep vein thrombosis (dvt)': 0, 'defiant': 0, 'delta wave': 0, 'dental caries': 0, 'dermatome': 0, 'diabetes insipidus': 0, 'diabetic retinopathy': 0, 'diagnostic imaging': 0, 'diastolic pressure': 0, 'dietetics': 0, 'digestive system': 0, 'dilation and curettage (d&c)': 0, 'disc herniation': 0, 'dislocate': 0, 'dissecans': 0, 'dna': 0, 'do-not-resuscitate': 0, 'do-not-resuscitate (dnr)': 0, 'down syndrome': 0, 'eating disorder': 0, 'ectopic pregnancy': 0, 'electrocardiogram (ecg)': 0, 'electroconvulsive therapy (ect)': 0, 'electroencephalogram (eeg)': 0, 'electrolyte imbalance': 0, 'electromyography (emg)': 0, 'epidemiology': 0, 'epiglottitis': 0, 'epistaxis': 0, 'erectile': 0, 'erectile dysfunction': 0, 'erythema': 0, 'erythematosus': 0, 'esophageal': 0, 'esophageal cancer': 0, 'esophageal reflux': 0, 'euthanasia': 0, 'experimental': 0, 'experimental drug': 0, 'experimental procedure': 0, 'experimental surgery': 0, 'experimental therapy': 0, 'externa': 0, 'extracorporeal shock wave lithotripsy (eswl)': 0, 'fallot': 0, 'fasciitis': 0, 'fecal occult blood test': 0, 'femur': 0, 'fertility': 0, 'fertilization': 0, 'fibromyalgia': 0, 'folate': 0, 'foley': 0, 'foley catheter': 0, 'forceps': 0, 'frostbite': 0, 'fungal infection': 0, 'gamma knife': 0, 'gangrene': 0, 'gastric bypass': 0, 'gastroenterologist': 0, 'gastroesophageal reflux disease (gerd)': 0, \"gehrig's\": 0, 'gene therapy': 0, 'generic': 0, 'generic drug': 0, 'genetic counseling': 0, 'genital herpes': 0, 'geriatric': 0, 'geriatric psychiatry': 0, 'geriatrics': 0, 'gestational diabetes': 0, 'gingivitis': 0, 'glioblastoma': 0, 'glioma': 0, 'glucose tolerance test': 0, 'gout': 0, 'graft-versus-host': 0, 'graft-versus-host disease': 0, 'grand mal seizure': 0, \"graves'\": 0, \"graves' disease\": 0, 'gravis': 0, 'guillain-barré': 0, 'guillain-barré syndrome': 0, 'gum disease': 0, 'gynecologic': 0, 'gynecologic oncology': 0, 'hallucination': 0, 'hay fever': 0, 'head and neck cancer': 0, 'heart attack': 0, 'heart block': 0, 'heart failure': 0, 'heart murmur': 0, 'heart valve': 0, 'heel spur': 0, 'helicobacter': 0, 'helicobacter pylori': 0, 'hemangioma': 0, 'hematologist': 0, 'hematoma': 0, 'hemochromatosis': 0, 'hemophilia': 0, 'hemorrhoidectomy': 0, 'hepatitis a': 0, 'hepatitis b': 0, 'hepatitis c': 0, 'herniated disc': 0, 'herpes simplex': 0, 'herpes zoster': 0, 'hiatal': 0, 'hiatal hernia': 0, 'hidradenitis': 0, 'hidradenitis suppurativa': 0, 'hip replacement': 0, \"hodgkin's\": 0, \"hodgkin's lymphoma\": 0, 'holistic': 0, 'holistic medicine': 0, 'holter': 0, 'holter monitor': 0, 'hormone replacement therapy': 0, 'hospice': 0, 'hospice care': 0, 'human papillomavirus (hpv)': 0, \"huntington's\": 0, \"huntington's disease\": 0, 'hydrocele': 0, 'hydrocephalus': 0, 'hyperbaric': 0, 'hyperbaric oxygen therapy': 0, 'hypercholesterolemia': 0, 'hyperhidrosis': 0, 'hyperkalemia': 0, 'hypersomnia': 0, 'hyperthermia': 0, 'hypoallergenic': 0, 'hypochondriasis': 0, 'hypodermic': 0, 'hypodermic needle': 0, 'hypoglycemia': 0, 'hypokalemia': 0, 'hyponatremia': 0, 'hypothermia': 0, 'hysterectomy': 0, 'hysteria': 0, 'icu': 0, 'immunodeficiency': 0, 'immunology': 0, 'imperfecta': 0, 'impetigo': 0, 'in vitro fertilization (ivf)': 0, 'inappropriate': 0, 'incontinence': 0, 'infectious mononucleosis': 0, 'ingrown': 0, 'ingrown toenail': 0, 'insulin pump': 0, 'intensive care unit': 0, 'intensive care unit (icu)': 0, 'internal medicine': 0, 'interstitial cystitis': 0, 'intracranial': 0, 'intracranial pressure': 0, 'intraocular lens': 0, 'intrauterine device (iud)': 0, 'intravenous (iv)': 0, 'involuntary commitment': 0, 'iritis': 0, 'irritable bowel syndrome (ibs)': 0, 'ischemia': 0, 'isotretinoin': 0, 'iv': 0, 'iv drip': 0, 'iv fluid': 0, 'iv therapy': 0, 'jaw pain': 0, 'joint replacement': 0, 'juvenile': 0, 'juvenile rheumatoid arthritis': 0, \"kaposi's\": 0, \"kaposi's sarcoma\": 0, 'kawasaki': 0, 'kawasaki disease': 0, 'keloid': 0, 'keratitis': 0, 'keratoconus': 0, 'kidney failure': 0, 'kidney stones': 0, 'kidney transplant': 0, 'kleptomania': 0, 'labyrinthitis': 0, 'laryngitis': 0, 'laser hair removal': 0, 'lead poisoning': 0, \"legionnaires'\": 0, \"legionnaires' disease\": 0, 'lens implant': 0, 'leprosy': 0, 'leptospirosis': 0, 'leukocytosis': 0, 'lice': 0, 'lichen': 0, 'lichen planus': 0, 'lipoma': 0, 'liposuction': 0, 'liver failure': 0, 'liver transplant': 0, \"lou gehrig's disease\": 0, 'lumbago': 0, 'lumbar puncture': 0, 'lung cancer': 0, 'lyme': 0, 'lyme disease': 0, 'lymph nodes': 0, 'lymphadenopathy': 0, 'lymphedema': 0, 'lymphocytic': 0, 'lymphocytic leukemia': 0, 'macular': 0, 'macular degeneration': 0, 'magnetic resonance angiography (mra)': 0, 'magnetic resonance imaging (mri)': 0, 'malpractice': 0, 'marfan': 0, 'marfan syndrome': 0, 'mastitis': 0, 'mastoiditis': 0, 'medical history': 0, 'meniscectomy': 0, 'menorrhagia': 0, 'mental retardation': 0, 'mesothelioma': 0, 'metabolic syndrome': 0, 'methicillin-resistant': 0, 'methicillin-resistant staphylococcus aureus (mrsa)': 0, 'micrographia': 0, 'microvascular': 0, 'microvascular surgery': 0, 'mitral valve prolapse': 0, 'mole': 0, 'mononucleosis': 0, 'morning sickness': 0, 'motion sickness': 0, 'mri': 0, 'multiple myeloma': 0, 'multiple sclerosis': 0, 'mumps': 0, 'murmur': 0, 'muscular dystrophy': 0, 'myasthenia': 0, 'myasthenia gravis': 0, 'myelitis': 0, 'myeloma': 0, 'myocardial infarction': 0, 'myocarditis': 0, 'myositis': 0, 'myringotomy': 0, 'myxedema': 0, 'nanogram, mammogram': 0, 'nasal polyps': 0, 'necrotizing': 0, 'necrotizing fasciitis': 0, 'needle biopsy': 0, 'neonatal': 0, 'neonatal intensive care unit (nicu)': 0, 'nephropathy': 0, 'neurofibromatosis': 0, 'neurology': 0, 'neuromuscular': 0, 'neurosyphilis': 0, 'neutropenia': 0, 'nicotine replacement therapy': 0, 'nocturia': 0, 'nonsteroidal anti-inflammatory drug (nsaid)': 0, 'nonsteroidal anti-inflammatory drugs (nsaids)': 0, 'norplant': 0, 'nose job': 0, 'nosocomial': 0, 'nosocomial infection': 0, 'obsessive-compulsive': 0, 'obsessive-compulsive disorder (ocd)': 0, 'obstetrics and gynecology (obgyn)': 0, 'occupational therapy': 0, 'oliguria': 0, 'oncology': 0, 'oophorectomy': 0, 'oppositional': 0, 'oppositional defiant disorder': 0, 'oral candidiasis': 0, 'orchiectomy': 0, 'orchitis': 0, 'organ transplant': 0, 'orthodontics': 0, 'orthopedic surgery': 0, 'orthopedics': 0, 'osgood-schlatter': 0, 'osgood-schlatter disease': 0, 'osteochondritis': 0, 'osteochondritis dissecans': 0, 'osteogenesis': 0, 'osteogenesis imperfecta': 0, 'osteomyelitis': 0, 'osteopenia': 0, 'osteopetrosis': 0, 'osteosarcoma': 0, 'otalgia': 0, 'otitis': 0, 'otitis externa': 0, 'otitis media': 0, 'otolaryngologist': 0, 'otolaryngology': 0, 'otoplasty': 0, 'ovarian cancer': 0, 'ovarian cyst': 0, 'overactive bladder': 0, 'overnight hospital stay': 0, \"paget's\": 0, \"paget's disease\": 0, 'palliative': 0, 'palliative care': 0, 'pancreatic': 0, 'pancreatic cancer': 0, 'panic attack': 0, 'pap smear': 0, 'papillomavirus': 0, 'paracentesis': 0, 'paranoia': 0, 'parasomnia': 0, 'parathyroidectomy': 0, \"parkinson's\": 0, \"parkinson's disease\": 0, 'paronychia': 0, 'partial seizure': 0, 'passive-aggressive': 0, 'pathogen': 0, 'patient-controlled': 0, 'patient-controlled analgesia (pca)': 0, 'pelvic exam': 0, 'pelvic inflammatory disease (pid)': 0, 'peptic ulcer': 0, 'pericarditis': 0, 'peripheral artery disease': 0, 'peripheral neuropathy': 0, 'peritonitis': 0, 'pertussis': 0, 'phaco': 0, 'pharyngitis': 0, 'phenylketonuria': 0, 'phenylketonuria (pku)': 0, 'phlebitis': 0, 'phlebotomy': 0, 'physical therapy': 0, 'pilonidal': 0, 'pilonidal cyst': 0, 'pituitary tumor': 0, 'placenta': 0, 'placenta previa': 0, 'plantar': 0, 'plantar fasciitis': 0, 'planus': 0, 'plastic surgery': 0, 'pleurisy': 0, 'pneumocystis': 0, 'pneumocystis carinii pneumonia (pcp)': 0, 'pneumonectomy': 0, 'pneumothorax': 0, 'podiatrist': 0, 'poisoning': 0, 'poliomyelitis': 0, 'polycystic ovary syndrome (pcos)': 0, 'polycythemia': 0, 'polycythemia vera': 0, 'polydipsia': 0, 'polymyalgia': 0, 'polymyalgia rheumatica': 0, 'polymyositis': 0, 'polyp': 0, 'polyuria': 0, 'postpartum': 0, 'postpartum depression': 0, 'posttraumatic': 0, 'posttraumatic stress disorder (ptsd)': 0, 'preeclampsia': 0, 'prenatal': 0, 'prenatal care': 0, 'presbyopia': 0, 'previa': 0, 'priapism': 0, 'prostatectomy': 0, 'prostatitis': 0, 'prosthesis': 0, 'pruritus': 0, 'psoriatic arthritis': 0, 'psychiatry': 0, 'puberty': 0, 'pulmonary edema': 0, 'pulmonary embolism': 0, 'pulmonary function test': 0, 'pylori': 0, 'pyogenic granuloma': 0, 'q fever': 0, 'qrs': 0, 'qrs complex': 0, 'qualitative': 0, 'qualitative research study': 0, 'quality adjusted life year': 0, 'quality of life': 0, 'quantitative research study': 0, 'radial keratotomy': 0, 'radiation sickness': 0, 'radiation therapy': 0, 'radical mastectomy': 0, 'reconstructive surgery': 0, 'rectal prolapse': 0, 'recurrent laryngeal nerve': 0, 'refractive surgery': 0, 'renal cell carcinoma': 0, 'renal colic': 0, 'renal failure': 0, 'renal transplant': 0, 'respiratory distress syndrome': 0, 'retardation': 0, 'retinal detachment': 0, 'retinitis pigmentosa': 0, 'retrograde pyelogram': 0, \"reye's\": 0, \"reye's syndrome\": 0, 'rheumatic fever': 0, 'rheumatic heart disease': 0, 'rheumatica': 0, 'rheumatoid arthritis': 0, 'rheumatoid factor': 0, 'rickettsia': 0, 'root canal': 0, 'root planing': 0, 'rotator cuff tear': 0, 'sacroiliac joint': 0, 'sarcoma': 0, 'scarlet fever': 0, 'sclerosis': 0, 'seborrheic dermatitis': 0, 'seborrheic keratosis': 0, 'seizure disorder': 0, 'sensorineural hearing loss': 0, 'septic arthritis': 0, 'septic shock': 0, 'serum sickness': 0, 'sexually transmitted disease (std)': 0, 'shigella': 0, 'shin splints': 0, 'sickle cell anemia': 0, 'sinus bradycardia': 0, 'sinus tachycardia': 0, \"sjogren's\": 0, \"sjogren's syndrome\": 0, 'skin graft': 0, 'sleep apnea': 0, 'slipped capital femoral epiphysis': 0, 'small bowel obstruction': 0, 'social phobia': 0, 'somatic symptom disorder': 0, 'somatoform disorder': 0, 'spasmodic dysphonia': 0, 'speech therapy': 0, 'spina bifida': 0, 'spinal cord injury': 0, 'spinal fusion': 0, 'spinal stenosis': 0, 'sports medicine': 0, 'spur': 0, 'squamous': 0, 'squamous cell carcinoma': 0, 'staphylococcal': 0, 'staphylococcal infection': 0, 'staphylococcus': 0, 'stem cell transplant': 0, 'sterilization': 0, 'strep throat': 0, 'streptococcal': 0, 'streptococcal infection': 0, 'stress fracture': 0, 'study drug': 0, 'subarachnoid hemorrhage': 0, 'subdural': 0, 'subdural hematoma': 0, 'substance abuse': 0, 'sudden infant death syndrome (sids)': 0, 'suicide': 0, 'superior vena cava syndrome': 0, 'suppurativa': 0, 'supraventricular': 0, 'supraventricular tachycardia': 0, 'symphysis pubis dysfunction': 0, 'syndrome of inappropriate antidiuretic hormone (siadh)': 0, 'synovitis': 0, 'systemic lupus erythematosus (sle)': 0, 'tarsal': 0, 'tarsal tunnel syndrome': 0, 'telangiectasia': 0, 'temporomandibular': 0, 'temporomandibular joint disorder (tmj)': 0, 'tennis elbow': 0, 'tenosynovitis': 0, 'tension headache': 0, 'test results': 0, 'testicular cancer': 0, 'testicular torsion': 0, 'tetralogy': 0, 'tetralogy of fallot': 0, 'thoracic outlet syndrome': 0, 'thrombophlebitis': 0, 'thyroglossal': 0, 'thyroglossal duct cyst': 0, 'thyroid cancer': 0, 'toenail': 0, 'vera': 0, 'vitro': 0}\n"
     ]
    }
   ],
   "source": [
    "# medical words freq\n",
    "medical_word_freq = {medical_word: freq_count[medical_word] if medical_word in freq_count.keys() else 0 for medical_word in medical_words}\n",
    "print(dict(sorted(medical_word_freq.items(), key=lambda item: item[1], reverse=True)))"
   ]
  },
  {
   "cell_type": "code",
   "execution_count": null,
   "metadata": {},
   "outputs": [],
   "source": []
  }
 ],
 "metadata": {
  "kernelspec": {
   "display_name": "base",
   "language": "python",
   "name": "python3"
  },
  "language_info": {
   "codemirror_mode": {
    "name": "ipython",
    "version": 3
   },
   "file_extension": ".py",
   "mimetype": "text/x-python",
   "name": "python",
   "nbconvert_exporter": "python",
   "pygments_lexer": "ipython3",
   "version": "3.11.7"
  }
 },
 "nbformat": 4,
 "nbformat_minor": 2
}
