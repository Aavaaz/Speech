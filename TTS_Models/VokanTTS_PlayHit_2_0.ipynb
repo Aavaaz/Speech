{
  "nbformat": 4,
  "nbformat_minor": 0,
  "metadata": {
    "colab": {
      "provenance": [],
      "toc_visible": true
    },
    "kernelspec": {
      "name": "python3",
      "display_name": "Python 3"
    },
    "language_info": {
      "name": "python"
    }
  },
  "cells": [
    {
      "cell_type": "code",
      "execution_count": null,
      "metadata": {
        "id": "pACGR317y1Xg"
      },
      "outputs": [],
      "source": []
    },
    {
      "cell_type": "markdown",
      "source": [
        "# Vokan TTS"
      ],
      "metadata": {
        "id": "w15kj-m65V8v"
      }
    },
    {
      "cell_type": "code",
      "source": [
        "import requests\n",
        "\n",
        "# Credentials\n",
        "api_key = \"YOUR_API_KEY\"\n",
        "voice_id = \"YOUR_VOICE_ID\"  #\n",
        "\n",
        "\n",
        "text = \"This is a test of Vokan TTS.\"\n",
        "\n",
        "\n",
        "endpoint = \"https://api.resemble.ai/v1/tts\"\n",
        "\n",
        "# Prepare the request data (this may vary based on the specific API)\n",
        "data = {\n",
        "    \"text\": text,\n",
        "    \"voice_id\": voice_id,\n",
        "\n",
        "}\n",
        "\n",
        "\n",
        "response = requests.post(endpoint, headers={\"Authorization\": f\"Bearer {api_key}\"}, json=data)\n",
        "\n",
        "# Check the response status code\n",
        "if response.status_code == 200:\n",
        "    # Success\n",
        "    audio_data = response.content\n",
        "    with open(\"output.wav\", \"wb\") as f:\n",
        "        f.write(audio_data)\n",
        "    print(\"Audio saved to output.wav\")\n",
        "else:\n",
        "    print(f\"Error: {response.status_code} - {response.text}\")"
      ],
      "metadata": {
        "id": "WZ6yyIQl5Y-8"
      },
      "execution_count": null,
      "outputs": []
    },
    {
      "cell_type": "code",
      "source": [
        "import requests\n",
        "\n",
        "# Replace with your Resemble AI API key\n",
        "api_key = \"rhrIlkgGaYmZuMwI4FFiygtt\"\n",
        "\n",
        "# The text you want to convert to speech\n",
        "text = \"This is a test of Vokan TTS.\"\n",
        "\n",
        "# Construct the API endpoint\n",
        "endpoint = \"https://api.resemble.ai/v1/tts\"\n",
        "\n",
        "# Prepare the request data. This will depend on the specific API, but generally you'll need to provide the text and the voice ID.\n",
        "data = {\n",
        "    \"text\": text,\n",
        "    # \"voice_id\": \"YOUR_VOICE_ID\" - If using a specific pre-defined voice, include the ID here\n",
        "}\n",
        "\n",
        "# Send the POST request to the API\n",
        "response = requests.post(endpoint, headers={\"Authorization\": f\"Bearer {api_key}\"}, json=data)\n",
        "\n",
        "# Check the response status code\n",
        "if response.status_code == 200:\n",
        "    # Success: Download the generated audio file\n",
        "    audio_data = response.content\n",
        "    with open(\"output.wav\", \"wb\") as f:\n",
        "        f.write(audio_data)\n",
        "    print(\"Audio saved to output.wav\")\n",
        "else:\n",
        "    print(f\"Error: {response.status_code} - {response.text}\")"
      ],
      "metadata": {
        "colab": {
          "base_uri": "https://localhost:8080/",
          "height": 686
        },
        "id": "nxvPcC4q6GY5",
        "outputId": "0daf0e76-ca46-485a-c736-c29252ddcd20"
      },
      "execution_count": 1,
      "outputs": [
        {
          "output_type": "error",
          "ename": "ConnectionError",
          "evalue": "HTTPSConnectionPool(host='api.resemble.ai', port=443): Max retries exceeded with url: /v1/tts (Caused by NameResolutionError(\"<urllib3.connection.HTTPSConnection object at 0x7f9877fdf9d0>: Failed to resolve 'api.resemble.ai' ([Errno -2] Name or service not known)\"))",
          "traceback": [
            "\u001b[0;31m---------------------------------------------------------------------------\u001b[0m",
            "\u001b[0;31mgaierror\u001b[0m                                  Traceback (most recent call last)",
            "\u001b[0;32m/usr/local/lib/python3.10/dist-packages/urllib3/connection.py\u001b[0m in \u001b[0;36m_new_conn\u001b[0;34m(self)\u001b[0m\n\u001b[1;32m    202\u001b[0m         \u001b[0;32mtry\u001b[0m\u001b[0;34m:\u001b[0m\u001b[0;34m\u001b[0m\u001b[0;34m\u001b[0m\u001b[0m\n\u001b[0;32m--> 203\u001b[0;31m             sock = connection.create_connection(\n\u001b[0m\u001b[1;32m    204\u001b[0m                 \u001b[0;34m(\u001b[0m\u001b[0mself\u001b[0m\u001b[0;34m.\u001b[0m\u001b[0m_dns_host\u001b[0m\u001b[0;34m,\u001b[0m \u001b[0mself\u001b[0m\u001b[0;34m.\u001b[0m\u001b[0mport\u001b[0m\u001b[0;34m)\u001b[0m\u001b[0;34m,\u001b[0m\u001b[0;34m\u001b[0m\u001b[0;34m\u001b[0m\u001b[0m\n",
            "\u001b[0;32m/usr/local/lib/python3.10/dist-packages/urllib3/util/connection.py\u001b[0m in \u001b[0;36mcreate_connection\u001b[0;34m(address, timeout, source_address, socket_options)\u001b[0m\n\u001b[1;32m     59\u001b[0m \u001b[0;34m\u001b[0m\u001b[0m\n\u001b[0;32m---> 60\u001b[0;31m     \u001b[0;32mfor\u001b[0m \u001b[0mres\u001b[0m \u001b[0;32min\u001b[0m \u001b[0msocket\u001b[0m\u001b[0;34m.\u001b[0m\u001b[0mgetaddrinfo\u001b[0m\u001b[0;34m(\u001b[0m\u001b[0mhost\u001b[0m\u001b[0;34m,\u001b[0m \u001b[0mport\u001b[0m\u001b[0;34m,\u001b[0m \u001b[0mfamily\u001b[0m\u001b[0;34m,\u001b[0m \u001b[0msocket\u001b[0m\u001b[0;34m.\u001b[0m\u001b[0mSOCK_STREAM\u001b[0m\u001b[0;34m)\u001b[0m\u001b[0;34m:\u001b[0m\u001b[0;34m\u001b[0m\u001b[0;34m\u001b[0m\u001b[0m\n\u001b[0m\u001b[1;32m     61\u001b[0m         \u001b[0maf\u001b[0m\u001b[0;34m,\u001b[0m \u001b[0msocktype\u001b[0m\u001b[0;34m,\u001b[0m \u001b[0mproto\u001b[0m\u001b[0;34m,\u001b[0m \u001b[0mcanonname\u001b[0m\u001b[0;34m,\u001b[0m \u001b[0msa\u001b[0m \u001b[0;34m=\u001b[0m \u001b[0mres\u001b[0m\u001b[0;34m\u001b[0m\u001b[0;34m\u001b[0m\u001b[0m\n",
            "\u001b[0;32m/usr/lib/python3.10/socket.py\u001b[0m in \u001b[0;36mgetaddrinfo\u001b[0;34m(host, port, family, type, proto, flags)\u001b[0m\n\u001b[1;32m    954\u001b[0m     \u001b[0maddrlist\u001b[0m \u001b[0;34m=\u001b[0m \u001b[0;34m[\u001b[0m\u001b[0;34m]\u001b[0m\u001b[0;34m\u001b[0m\u001b[0;34m\u001b[0m\u001b[0m\n\u001b[0;32m--> 955\u001b[0;31m     \u001b[0;32mfor\u001b[0m \u001b[0mres\u001b[0m \u001b[0;32min\u001b[0m \u001b[0m_socket\u001b[0m\u001b[0;34m.\u001b[0m\u001b[0mgetaddrinfo\u001b[0m\u001b[0;34m(\u001b[0m\u001b[0mhost\u001b[0m\u001b[0;34m,\u001b[0m \u001b[0mport\u001b[0m\u001b[0;34m,\u001b[0m \u001b[0mfamily\u001b[0m\u001b[0;34m,\u001b[0m \u001b[0mtype\u001b[0m\u001b[0;34m,\u001b[0m \u001b[0mproto\u001b[0m\u001b[0;34m,\u001b[0m \u001b[0mflags\u001b[0m\u001b[0;34m)\u001b[0m\u001b[0;34m:\u001b[0m\u001b[0;34m\u001b[0m\u001b[0;34m\u001b[0m\u001b[0m\n\u001b[0m\u001b[1;32m    956\u001b[0m         \u001b[0maf\u001b[0m\u001b[0;34m,\u001b[0m \u001b[0msocktype\u001b[0m\u001b[0;34m,\u001b[0m \u001b[0mproto\u001b[0m\u001b[0;34m,\u001b[0m \u001b[0mcanonname\u001b[0m\u001b[0;34m,\u001b[0m \u001b[0msa\u001b[0m \u001b[0;34m=\u001b[0m \u001b[0mres\u001b[0m\u001b[0;34m\u001b[0m\u001b[0;34m\u001b[0m\u001b[0m\n",
            "\u001b[0;31mgaierror\u001b[0m: [Errno -2] Name or service not known",
            "\nThe above exception was the direct cause of the following exception:\n",
            "\u001b[0;31mNameResolutionError\u001b[0m                       Traceback (most recent call last)",
            "\u001b[0;32m/usr/local/lib/python3.10/dist-packages/urllib3/connectionpool.py\u001b[0m in \u001b[0;36murlopen\u001b[0;34m(self, method, url, body, headers, retries, redirect, assert_same_host, timeout, pool_timeout, release_conn, chunked, body_pos, preload_content, decode_content, **response_kw)\u001b[0m\n\u001b[1;32m    790\u001b[0m             \u001b[0;31m# Make the request on the HTTPConnection object\u001b[0m\u001b[0;34m\u001b[0m\u001b[0;34m\u001b[0m\u001b[0m\n\u001b[0;32m--> 791\u001b[0;31m             response = self._make_request(\n\u001b[0m\u001b[1;32m    792\u001b[0m                 \u001b[0mconn\u001b[0m\u001b[0;34m,\u001b[0m\u001b[0;34m\u001b[0m\u001b[0;34m\u001b[0m\u001b[0m\n",
            "\u001b[0;32m/usr/local/lib/python3.10/dist-packages/urllib3/connectionpool.py\u001b[0m in \u001b[0;36m_make_request\u001b[0;34m(self, conn, method, url, body, headers, retries, timeout, chunked, response_conn, preload_content, decode_content, enforce_content_length)\u001b[0m\n\u001b[1;32m    491\u001b[0m                 \u001b[0mnew_e\u001b[0m \u001b[0;34m=\u001b[0m \u001b[0m_wrap_proxy_error\u001b[0m\u001b[0;34m(\u001b[0m\u001b[0mnew_e\u001b[0m\u001b[0;34m,\u001b[0m \u001b[0mconn\u001b[0m\u001b[0;34m.\u001b[0m\u001b[0mproxy\u001b[0m\u001b[0;34m.\u001b[0m\u001b[0mscheme\u001b[0m\u001b[0;34m)\u001b[0m\u001b[0;34m\u001b[0m\u001b[0;34m\u001b[0m\u001b[0m\n\u001b[0;32m--> 492\u001b[0;31m             \u001b[0;32mraise\u001b[0m \u001b[0mnew_e\u001b[0m\u001b[0;34m\u001b[0m\u001b[0;34m\u001b[0m\u001b[0m\n\u001b[0m\u001b[1;32m    493\u001b[0m \u001b[0;34m\u001b[0m\u001b[0m\n",
            "\u001b[0;32m/usr/local/lib/python3.10/dist-packages/urllib3/connectionpool.py\u001b[0m in \u001b[0;36m_make_request\u001b[0;34m(self, conn, method, url, body, headers, retries, timeout, chunked, response_conn, preload_content, decode_content, enforce_content_length)\u001b[0m\n\u001b[1;32m    467\u001b[0m             \u001b[0;32mtry\u001b[0m\u001b[0;34m:\u001b[0m\u001b[0;34m\u001b[0m\u001b[0;34m\u001b[0m\u001b[0m\n\u001b[0;32m--> 468\u001b[0;31m                 \u001b[0mself\u001b[0m\u001b[0;34m.\u001b[0m\u001b[0m_validate_conn\u001b[0m\u001b[0;34m(\u001b[0m\u001b[0mconn\u001b[0m\u001b[0;34m)\u001b[0m\u001b[0;34m\u001b[0m\u001b[0;34m\u001b[0m\u001b[0m\n\u001b[0m\u001b[1;32m    469\u001b[0m             \u001b[0;32mexcept\u001b[0m \u001b[0;34m(\u001b[0m\u001b[0mSocketTimeout\u001b[0m\u001b[0;34m,\u001b[0m \u001b[0mBaseSSLError\u001b[0m\u001b[0;34m)\u001b[0m \u001b[0;32mas\u001b[0m \u001b[0me\u001b[0m\u001b[0;34m:\u001b[0m\u001b[0;34m\u001b[0m\u001b[0;34m\u001b[0m\u001b[0m\n",
            "\u001b[0;32m/usr/local/lib/python3.10/dist-packages/urllib3/connectionpool.py\u001b[0m in \u001b[0;36m_validate_conn\u001b[0;34m(self, conn)\u001b[0m\n\u001b[1;32m   1096\u001b[0m         \u001b[0;32mif\u001b[0m \u001b[0mconn\u001b[0m\u001b[0;34m.\u001b[0m\u001b[0mis_closed\u001b[0m\u001b[0;34m:\u001b[0m\u001b[0;34m\u001b[0m\u001b[0;34m\u001b[0m\u001b[0m\n\u001b[0;32m-> 1097\u001b[0;31m             \u001b[0mconn\u001b[0m\u001b[0;34m.\u001b[0m\u001b[0mconnect\u001b[0m\u001b[0;34m(\u001b[0m\u001b[0;34m)\u001b[0m\u001b[0;34m\u001b[0m\u001b[0;34m\u001b[0m\u001b[0m\n\u001b[0m\u001b[1;32m   1098\u001b[0m \u001b[0;34m\u001b[0m\u001b[0m\n",
            "\u001b[0;32m/usr/local/lib/python3.10/dist-packages/urllib3/connection.py\u001b[0m in \u001b[0;36mconnect\u001b[0;34m(self)\u001b[0m\n\u001b[1;32m    610\u001b[0m         \u001b[0msock\u001b[0m\u001b[0;34m:\u001b[0m \u001b[0msocket\u001b[0m\u001b[0;34m.\u001b[0m\u001b[0msocket\u001b[0m \u001b[0;34m|\u001b[0m \u001b[0mssl\u001b[0m\u001b[0;34m.\u001b[0m\u001b[0mSSLSocket\u001b[0m\u001b[0;34m\u001b[0m\u001b[0;34m\u001b[0m\u001b[0m\n\u001b[0;32m--> 611\u001b[0;31m         \u001b[0mself\u001b[0m\u001b[0;34m.\u001b[0m\u001b[0msock\u001b[0m \u001b[0;34m=\u001b[0m \u001b[0msock\u001b[0m \u001b[0;34m=\u001b[0m \u001b[0mself\u001b[0m\u001b[0;34m.\u001b[0m\u001b[0m_new_conn\u001b[0m\u001b[0;34m(\u001b[0m\u001b[0;34m)\u001b[0m\u001b[0;34m\u001b[0m\u001b[0;34m\u001b[0m\u001b[0m\n\u001b[0m\u001b[1;32m    612\u001b[0m         \u001b[0mserver_hostname\u001b[0m\u001b[0;34m:\u001b[0m \u001b[0mstr\u001b[0m \u001b[0;34m=\u001b[0m \u001b[0mself\u001b[0m\u001b[0;34m.\u001b[0m\u001b[0mhost\u001b[0m\u001b[0;34m\u001b[0m\u001b[0;34m\u001b[0m\u001b[0m\n",
            "\u001b[0;32m/usr/local/lib/python3.10/dist-packages/urllib3/connection.py\u001b[0m in \u001b[0;36m_new_conn\u001b[0;34m(self)\u001b[0m\n\u001b[1;32m    209\u001b[0m         \u001b[0;32mexcept\u001b[0m \u001b[0msocket\u001b[0m\u001b[0;34m.\u001b[0m\u001b[0mgaierror\u001b[0m \u001b[0;32mas\u001b[0m \u001b[0me\u001b[0m\u001b[0;34m:\u001b[0m\u001b[0;34m\u001b[0m\u001b[0;34m\u001b[0m\u001b[0m\n\u001b[0;32m--> 210\u001b[0;31m             \u001b[0;32mraise\u001b[0m \u001b[0mNameResolutionError\u001b[0m\u001b[0;34m(\u001b[0m\u001b[0mself\u001b[0m\u001b[0;34m.\u001b[0m\u001b[0mhost\u001b[0m\u001b[0;34m,\u001b[0m \u001b[0mself\u001b[0m\u001b[0;34m,\u001b[0m \u001b[0me\u001b[0m\u001b[0;34m)\u001b[0m \u001b[0;32mfrom\u001b[0m \u001b[0me\u001b[0m\u001b[0;34m\u001b[0m\u001b[0;34m\u001b[0m\u001b[0m\n\u001b[0m\u001b[1;32m    211\u001b[0m         \u001b[0;32mexcept\u001b[0m \u001b[0mSocketTimeout\u001b[0m \u001b[0;32mas\u001b[0m \u001b[0me\u001b[0m\u001b[0;34m:\u001b[0m\u001b[0;34m\u001b[0m\u001b[0;34m\u001b[0m\u001b[0m\n",
            "\u001b[0;31mNameResolutionError\u001b[0m: <urllib3.connection.HTTPSConnection object at 0x7f9877fdf9d0>: Failed to resolve 'api.resemble.ai' ([Errno -2] Name or service not known)",
            "\nThe above exception was the direct cause of the following exception:\n",
            "\u001b[0;31mMaxRetryError\u001b[0m                             Traceback (most recent call last)",
            "\u001b[0;32m/usr/local/lib/python3.10/dist-packages/requests/adapters.py\u001b[0m in \u001b[0;36msend\u001b[0;34m(self, request, stream, timeout, verify, cert, proxies)\u001b[0m\n\u001b[1;32m    485\u001b[0m         \u001b[0;32mtry\u001b[0m\u001b[0;34m:\u001b[0m\u001b[0;34m\u001b[0m\u001b[0;34m\u001b[0m\u001b[0m\n\u001b[0;32m--> 486\u001b[0;31m             resp = conn.urlopen(\n\u001b[0m\u001b[1;32m    487\u001b[0m                 \u001b[0mmethod\u001b[0m\u001b[0;34m=\u001b[0m\u001b[0mrequest\u001b[0m\u001b[0;34m.\u001b[0m\u001b[0mmethod\u001b[0m\u001b[0;34m,\u001b[0m\u001b[0;34m\u001b[0m\u001b[0;34m\u001b[0m\u001b[0m\n",
            "\u001b[0;32m/usr/local/lib/python3.10/dist-packages/urllib3/connectionpool.py\u001b[0m in \u001b[0;36murlopen\u001b[0;34m(self, method, url, body, headers, retries, redirect, assert_same_host, timeout, pool_timeout, release_conn, chunked, body_pos, preload_content, decode_content, **response_kw)\u001b[0m\n\u001b[1;32m    844\u001b[0m \u001b[0;34m\u001b[0m\u001b[0m\n\u001b[0;32m--> 845\u001b[0;31m             retries = retries.increment(\n\u001b[0m\u001b[1;32m    846\u001b[0m                 \u001b[0mmethod\u001b[0m\u001b[0;34m,\u001b[0m \u001b[0murl\u001b[0m\u001b[0;34m,\u001b[0m \u001b[0merror\u001b[0m\u001b[0;34m=\u001b[0m\u001b[0mnew_e\u001b[0m\u001b[0;34m,\u001b[0m \u001b[0m_pool\u001b[0m\u001b[0;34m=\u001b[0m\u001b[0mself\u001b[0m\u001b[0;34m,\u001b[0m \u001b[0m_stacktrace\u001b[0m\u001b[0;34m=\u001b[0m\u001b[0msys\u001b[0m\u001b[0;34m.\u001b[0m\u001b[0mexc_info\u001b[0m\u001b[0;34m(\u001b[0m\u001b[0;34m)\u001b[0m\u001b[0;34m[\u001b[0m\u001b[0;36m2\u001b[0m\u001b[0;34m]\u001b[0m\u001b[0;34m\u001b[0m\u001b[0;34m\u001b[0m\u001b[0m\n",
            "\u001b[0;32m/usr/local/lib/python3.10/dist-packages/urllib3/util/retry.py\u001b[0m in \u001b[0;36mincrement\u001b[0;34m(self, method, url, response, error, _pool, _stacktrace)\u001b[0m\n\u001b[1;32m    514\u001b[0m             \u001b[0mreason\u001b[0m \u001b[0;34m=\u001b[0m \u001b[0merror\u001b[0m \u001b[0;32mor\u001b[0m \u001b[0mResponseError\u001b[0m\u001b[0;34m(\u001b[0m\u001b[0mcause\u001b[0m\u001b[0;34m)\u001b[0m\u001b[0;34m\u001b[0m\u001b[0;34m\u001b[0m\u001b[0m\n\u001b[0;32m--> 515\u001b[0;31m             \u001b[0;32mraise\u001b[0m \u001b[0mMaxRetryError\u001b[0m\u001b[0;34m(\u001b[0m\u001b[0m_pool\u001b[0m\u001b[0;34m,\u001b[0m \u001b[0murl\u001b[0m\u001b[0;34m,\u001b[0m \u001b[0mreason\u001b[0m\u001b[0;34m)\u001b[0m \u001b[0;32mfrom\u001b[0m \u001b[0mreason\u001b[0m  \u001b[0;31m# type: ignore[arg-type]\u001b[0m\u001b[0;34m\u001b[0m\u001b[0;34m\u001b[0m\u001b[0m\n\u001b[0m\u001b[1;32m    516\u001b[0m \u001b[0;34m\u001b[0m\u001b[0m\n",
            "\u001b[0;31mMaxRetryError\u001b[0m: HTTPSConnectionPool(host='api.resemble.ai', port=443): Max retries exceeded with url: /v1/tts (Caused by NameResolutionError(\"<urllib3.connection.HTTPSConnection object at 0x7f9877fdf9d0>: Failed to resolve 'api.resemble.ai' ([Errno -2] Name or service not known)\"))",
            "\nDuring handling of the above exception, another exception occurred:\n",
            "\u001b[0;31mConnectionError\u001b[0m                           Traceback (most recent call last)",
            "\u001b[0;32m<ipython-input-1-40d45bcc676f>\u001b[0m in \u001b[0;36m<cell line: 19>\u001b[0;34m()\u001b[0m\n\u001b[1;32m     17\u001b[0m \u001b[0;34m\u001b[0m\u001b[0m\n\u001b[1;32m     18\u001b[0m \u001b[0;31m# Send the POST request to the API\u001b[0m\u001b[0;34m\u001b[0m\u001b[0;34m\u001b[0m\u001b[0m\n\u001b[0;32m---> 19\u001b[0;31m \u001b[0mresponse\u001b[0m \u001b[0;34m=\u001b[0m \u001b[0mrequests\u001b[0m\u001b[0;34m.\u001b[0m\u001b[0mpost\u001b[0m\u001b[0;34m(\u001b[0m\u001b[0mendpoint\u001b[0m\u001b[0;34m,\u001b[0m \u001b[0mheaders\u001b[0m\u001b[0;34m=\u001b[0m\u001b[0;34m{\u001b[0m\u001b[0;34m\"Authorization\"\u001b[0m\u001b[0;34m:\u001b[0m \u001b[0;34mf\"Bearer {api_key}\"\u001b[0m\u001b[0;34m}\u001b[0m\u001b[0;34m,\u001b[0m \u001b[0mjson\u001b[0m\u001b[0;34m=\u001b[0m\u001b[0mdata\u001b[0m\u001b[0;34m)\u001b[0m\u001b[0;34m\u001b[0m\u001b[0;34m\u001b[0m\u001b[0m\n\u001b[0m\u001b[1;32m     20\u001b[0m \u001b[0;34m\u001b[0m\u001b[0m\n\u001b[1;32m     21\u001b[0m \u001b[0;31m# Check the response status code\u001b[0m\u001b[0;34m\u001b[0m\u001b[0;34m\u001b[0m\u001b[0m\n",
            "\u001b[0;32m/usr/local/lib/python3.10/dist-packages/requests/api.py\u001b[0m in \u001b[0;36mpost\u001b[0;34m(url, data, json, **kwargs)\u001b[0m\n\u001b[1;32m    113\u001b[0m     \"\"\"\n\u001b[1;32m    114\u001b[0m \u001b[0;34m\u001b[0m\u001b[0m\n\u001b[0;32m--> 115\u001b[0;31m     \u001b[0;32mreturn\u001b[0m \u001b[0mrequest\u001b[0m\u001b[0;34m(\u001b[0m\u001b[0;34m\"post\"\u001b[0m\u001b[0;34m,\u001b[0m \u001b[0murl\u001b[0m\u001b[0;34m,\u001b[0m \u001b[0mdata\u001b[0m\u001b[0;34m=\u001b[0m\u001b[0mdata\u001b[0m\u001b[0;34m,\u001b[0m \u001b[0mjson\u001b[0m\u001b[0;34m=\u001b[0m\u001b[0mjson\u001b[0m\u001b[0;34m,\u001b[0m \u001b[0;34m**\u001b[0m\u001b[0mkwargs\u001b[0m\u001b[0;34m)\u001b[0m\u001b[0;34m\u001b[0m\u001b[0;34m\u001b[0m\u001b[0m\n\u001b[0m\u001b[1;32m    116\u001b[0m \u001b[0;34m\u001b[0m\u001b[0m\n\u001b[1;32m    117\u001b[0m \u001b[0;34m\u001b[0m\u001b[0m\n",
            "\u001b[0;32m/usr/local/lib/python3.10/dist-packages/requests/api.py\u001b[0m in \u001b[0;36mrequest\u001b[0;34m(method, url, **kwargs)\u001b[0m\n\u001b[1;32m     57\u001b[0m     \u001b[0;31m# cases, and look like a memory leak in others.\u001b[0m\u001b[0;34m\u001b[0m\u001b[0;34m\u001b[0m\u001b[0m\n\u001b[1;32m     58\u001b[0m     \u001b[0;32mwith\u001b[0m \u001b[0msessions\u001b[0m\u001b[0;34m.\u001b[0m\u001b[0mSession\u001b[0m\u001b[0;34m(\u001b[0m\u001b[0;34m)\u001b[0m \u001b[0;32mas\u001b[0m \u001b[0msession\u001b[0m\u001b[0;34m:\u001b[0m\u001b[0;34m\u001b[0m\u001b[0;34m\u001b[0m\u001b[0m\n\u001b[0;32m---> 59\u001b[0;31m         \u001b[0;32mreturn\u001b[0m \u001b[0msession\u001b[0m\u001b[0;34m.\u001b[0m\u001b[0mrequest\u001b[0m\u001b[0;34m(\u001b[0m\u001b[0mmethod\u001b[0m\u001b[0;34m=\u001b[0m\u001b[0mmethod\u001b[0m\u001b[0;34m,\u001b[0m \u001b[0murl\u001b[0m\u001b[0;34m=\u001b[0m\u001b[0murl\u001b[0m\u001b[0;34m,\u001b[0m \u001b[0;34m**\u001b[0m\u001b[0mkwargs\u001b[0m\u001b[0;34m)\u001b[0m\u001b[0;34m\u001b[0m\u001b[0;34m\u001b[0m\u001b[0m\n\u001b[0m\u001b[1;32m     60\u001b[0m \u001b[0;34m\u001b[0m\u001b[0m\n\u001b[1;32m     61\u001b[0m \u001b[0;34m\u001b[0m\u001b[0m\n",
            "\u001b[0;32m/usr/local/lib/python3.10/dist-packages/requests/sessions.py\u001b[0m in \u001b[0;36mrequest\u001b[0;34m(self, method, url, params, data, headers, cookies, files, auth, timeout, allow_redirects, proxies, hooks, stream, verify, cert, json)\u001b[0m\n\u001b[1;32m    587\u001b[0m         }\n\u001b[1;32m    588\u001b[0m         \u001b[0msend_kwargs\u001b[0m\u001b[0;34m.\u001b[0m\u001b[0mupdate\u001b[0m\u001b[0;34m(\u001b[0m\u001b[0msettings\u001b[0m\u001b[0;34m)\u001b[0m\u001b[0;34m\u001b[0m\u001b[0;34m\u001b[0m\u001b[0m\n\u001b[0;32m--> 589\u001b[0;31m         \u001b[0mresp\u001b[0m \u001b[0;34m=\u001b[0m \u001b[0mself\u001b[0m\u001b[0;34m.\u001b[0m\u001b[0msend\u001b[0m\u001b[0;34m(\u001b[0m\u001b[0mprep\u001b[0m\u001b[0;34m,\u001b[0m \u001b[0;34m**\u001b[0m\u001b[0msend_kwargs\u001b[0m\u001b[0;34m)\u001b[0m\u001b[0;34m\u001b[0m\u001b[0;34m\u001b[0m\u001b[0m\n\u001b[0m\u001b[1;32m    590\u001b[0m \u001b[0;34m\u001b[0m\u001b[0m\n\u001b[1;32m    591\u001b[0m         \u001b[0;32mreturn\u001b[0m \u001b[0mresp\u001b[0m\u001b[0;34m\u001b[0m\u001b[0;34m\u001b[0m\u001b[0m\n",
            "\u001b[0;32m/usr/local/lib/python3.10/dist-packages/requests/sessions.py\u001b[0m in \u001b[0;36msend\u001b[0;34m(self, request, **kwargs)\u001b[0m\n\u001b[1;32m    701\u001b[0m \u001b[0;34m\u001b[0m\u001b[0m\n\u001b[1;32m    702\u001b[0m         \u001b[0;31m# Send the request\u001b[0m\u001b[0;34m\u001b[0m\u001b[0;34m\u001b[0m\u001b[0m\n\u001b[0;32m--> 703\u001b[0;31m         \u001b[0mr\u001b[0m \u001b[0;34m=\u001b[0m \u001b[0madapter\u001b[0m\u001b[0;34m.\u001b[0m\u001b[0msend\u001b[0m\u001b[0;34m(\u001b[0m\u001b[0mrequest\u001b[0m\u001b[0;34m,\u001b[0m \u001b[0;34m**\u001b[0m\u001b[0mkwargs\u001b[0m\u001b[0;34m)\u001b[0m\u001b[0;34m\u001b[0m\u001b[0;34m\u001b[0m\u001b[0m\n\u001b[0m\u001b[1;32m    704\u001b[0m \u001b[0;34m\u001b[0m\u001b[0m\n\u001b[1;32m    705\u001b[0m         \u001b[0;31m# Total elapsed time of the request (approximately)\u001b[0m\u001b[0;34m\u001b[0m\u001b[0;34m\u001b[0m\u001b[0m\n",
            "\u001b[0;32m/usr/local/lib/python3.10/dist-packages/requests/adapters.py\u001b[0m in \u001b[0;36msend\u001b[0;34m(self, request, stream, timeout, verify, cert, proxies)\u001b[0m\n\u001b[1;32m    517\u001b[0m                 \u001b[0;32mraise\u001b[0m \u001b[0mSSLError\u001b[0m\u001b[0;34m(\u001b[0m\u001b[0me\u001b[0m\u001b[0;34m,\u001b[0m \u001b[0mrequest\u001b[0m\u001b[0;34m=\u001b[0m\u001b[0mrequest\u001b[0m\u001b[0;34m)\u001b[0m\u001b[0;34m\u001b[0m\u001b[0;34m\u001b[0m\u001b[0m\n\u001b[1;32m    518\u001b[0m \u001b[0;34m\u001b[0m\u001b[0m\n\u001b[0;32m--> 519\u001b[0;31m             \u001b[0;32mraise\u001b[0m \u001b[0mConnectionError\u001b[0m\u001b[0;34m(\u001b[0m\u001b[0me\u001b[0m\u001b[0;34m,\u001b[0m \u001b[0mrequest\u001b[0m\u001b[0;34m=\u001b[0m\u001b[0mrequest\u001b[0m\u001b[0;34m)\u001b[0m\u001b[0;34m\u001b[0m\u001b[0;34m\u001b[0m\u001b[0m\n\u001b[0m\u001b[1;32m    520\u001b[0m \u001b[0;34m\u001b[0m\u001b[0m\n\u001b[1;32m    521\u001b[0m         \u001b[0;32mexcept\u001b[0m \u001b[0mClosedPoolError\u001b[0m \u001b[0;32mas\u001b[0m \u001b[0me\u001b[0m\u001b[0;34m:\u001b[0m\u001b[0;34m\u001b[0m\u001b[0;34m\u001b[0m\u001b[0m\n",
            "\u001b[0;31mConnectionError\u001b[0m: HTTPSConnectionPool(host='api.resemble.ai', port=443): Max retries exceeded with url: /v1/tts (Caused by NameResolutionError(\"<urllib3.connection.HTTPSConnection object at 0x7f9877fdf9d0>: Failed to resolve 'api.resemble.ai' ([Errno -2] Name or service not known)\"))"
          ]
        }
      ]
    },
    {
      "cell_type": "code",
      "source": [
        "!pip install resemble"
      ],
      "metadata": {
        "colab": {
          "base_uri": "https://localhost:8080/"
        },
        "id": "9MnGgtSt6dK5",
        "outputId": "f81e209e-ecbf-4f8e-9c36-52ea157efb6f"
      },
      "execution_count": 2,
      "outputs": [
        {
          "output_type": "stream",
          "name": "stdout",
          "text": [
            "Collecting resemble\n",
            "  Downloading resemble-1.4.3-py3-none-any.whl (7.2 kB)\n",
            "Requirement already satisfied: requests<3,>2 in /usr/local/lib/python3.10/dist-packages (from resemble) (2.31.0)\n",
            "Requirement already satisfied: charset-normalizer<4,>=2 in /usr/local/lib/python3.10/dist-packages (from requests<3,>2->resemble) (3.3.2)\n",
            "Requirement already satisfied: idna<4,>=2.5 in /usr/local/lib/python3.10/dist-packages (from requests<3,>2->resemble) (3.7)\n",
            "Requirement already satisfied: urllib3<3,>=1.21.1 in /usr/local/lib/python3.10/dist-packages (from requests<3,>2->resemble) (2.0.7)\n",
            "Requirement already satisfied: certifi>=2017.4.17 in /usr/local/lib/python3.10/dist-packages (from requests<3,>2->resemble) (2024.6.2)\n",
            "Installing collected packages: resemble\n",
            "Successfully installed resemble-1.4.3\n"
          ]
        }
      ]
    },
    {
      "cell_type": "code",
      "source": [
        "from resemble import Resemble\n",
        "import requests\n",
        "\n",
        "Resemble.api_key('rhrIlkgGaYmZuMwI4FFiygtt')\n",
        "\n",
        "# Get the first project UUID (assuming you have at least one project)\n",
        "projects = Resemble.v2.projects.all(1, 10)  # Fetch up to 10 projects\n",
        "if projects['items']:\n",
        "    project_uuid = projects['items'][0]['uuid']\n",
        "else:\n",
        "    print(\"No projects found.\")\n",
        "    exit()  # Or handle this error appropriately\n",
        "\n",
        "# Get the first voice UUID (assuming you have at least one voice)\n",
        "voices = Resemble.v2.voices.all(1, 10)  # Fetch up to 10 voices\n",
        "if voices['items']:\n",
        "    voice_uuid = voices['items'][0]['uuid']\n",
        "else:\n",
        "    print(\"No voices found.\")\n",
        "    exit()  # Or handle this error appropriately\n",
        "\n",
        "# Let's create a clip!\n",
        "body = 'This is a test'\n",
        "clip = Resemble.v2.clips.create_sync(project_uuid,\n",
        "                                     voice_uuid,\n",
        "                                     body,\n",
        "                                     title=None,\n",
        "                                     sample_rate=None,\n",
        "                                     output_format='mp3',  # Optional: Set output format\n",
        "                                     precision=None,\n",
        "                                     include_timestamps=None,\n",
        "                                     is_archived=None,\n",
        "                                     raw=None)\n",
        "\n",
        "print(clip)\n",
        "audio_url = clip['item']['audio_src']\n",
        "\n",
        "response = requests.get(audio_url)\n",
        "with open('output.mp3', 'wb') as f:\n",
        "    f.write(response.content)\n",
        "\n",
        "print(\"Audio saved as output.mp3\")\n",
        "'''\n",
        "Get the clip details (including the URL)\n",
        "clip_details = Resemble.v2.clips.get(clip['uuid'])\n",
        "audio_url = clip_details['url']\n",
        "\n",
        "#response = requests.get(audio_url)\n",
        "response = requests.get(audio_url)\n",
        "with open('output.mp3', 'wb') as f:\n",
        "    f.write(response.content)\n",
        "\n",
        "print(\"Audio saved as output.mp3\")\n",
        "'''"
      ],
      "metadata": {
        "colab": {
          "base_uri": "https://localhost:8080/",
          "height": 125
        },
        "id": "z8AG_nMQ8lAU",
        "outputId": "bcd864bb-1246-44cd-8e88-212d584650a2"
      },
      "execution_count": 9,
      "outputs": [
        {
          "output_type": "stream",
          "name": "stdout",
          "text": [
            "{'success': True, 'item': {'uuid': '647bb863', 'body': 'This is a test', 'voice_uuid': '79eb7953', 'is_archived': False, 'created_at': '2024-07-06T12:12:54.922Z', 'updated_at': '2024-07-06T12:12:55.482Z', 'audio_src': 'https://app.resemble.ai/rails/active_storage/blobs/redirect/eyJfcmFpbHMiOnsibWVzc2FnZSI6IkJBaHBCUE1ORmc0PSIsImV4cCI6bnVsbCwicHVyIjoiYmxvYl9pZCJ9fQ==--02ce7ff0ed2f61361d85d56c11df868e35558b43/result.mp3', 'last_generated_at': '2024-07-06T12:12:55.171Z', 'timestamps': {'phon_chars': ['ð', 'ɪ', 's', ' ', 'ɪ', 'z', ' ', 'ɐ', ' ', 't', 'ˈɛ', 's', 't'], 'phon_times': [[0.04, 0.11], [0.07, 0.13], [0.1, 0.16], [0.13, 0.23], [0.19, 0.26], [0.23, 0.3], [0.27, 0.37], [0.33, 0.39], [0.35, 0.46], [0.44, 0.54], [0.53, 0.64], [0.62, 0.71], [0.68, 0.77]], 'graph_chars': ['T', 'h', 'i', 's', ' ', 'i', 's', ' ', 'a', ' ', 't', 'e', 's', 't'], 'graph_times': [[0.04, 0.11], [0.04, 0.11], [0.07, 0.13], [0.1, 0.16], [0.13, 0.23], [0.19, 0.26], [0.23, 0.3], [0.27, 0.37], [0.33, 0.39], [0.35, 0.46], [0.44, 0.54], [0.53, 0.64], [0.62, 0.71], [0.68, 0.77]]}}}\n",
            "Audio saved as output.mp3\n"
          ]
        },
        {
          "output_type": "execute_result",
          "data": {
            "text/plain": [
              "'\\nGet the clip details (including the URL)\\nclip_details = Resemble.v2.clips.get(clip[\\'uuid\\'])\\naudio_url = clip_details[\\'url\\']\\n\\n#response = requests.get(audio_url)\\nresponse = requests.get(audio_url)\\nwith open(\\'output.mp3\\', \\'wb\\') as f:\\n    f.write(response.content)\\n\\nprint(\"Audio saved as output.mp3\")\\n'"
            ],
            "application/vnd.google.colaboratory.intrinsic+json": {
              "type": "string"
            }
          },
          "metadata": {},
          "execution_count": 9
        }
      ]
    },
    {
      "cell_type": "code",
      "source": [
        "from resemble import Resemble\n",
        "import requests\n",
        "\n",
        "Resemble.api_key('rhrIlkgGaYmZuMwI4FFiygtt')\n",
        "\n",
        "# Get the first project UUID (assuming you have at least one project)\n",
        "projects = Resemble.v2.projects.all(1, 10)  # Fetch up to 10 projects\n",
        "if projects['items']:\n",
        "    project_uuid = projects['items'][0]['uuid']\n",
        "else:\n",
        "    print(\"No projects found.\")\n",
        "    exit()  # Or handle this error appropriately\n",
        "\n",
        "# Get the first voice UUID (assuming you have at least one voice)\n",
        "voices = Resemble.v2.voices.all(1, 10)  # Fetch up to 10 voices\n",
        "if voices['items']:\n",
        "    voice_uuid = voices['items'][0]['uuid']\n",
        "else:\n",
        "    print(\"No voices found.\")\n",
        "    exit()  # Or handle this error appropriately\n",
        "\n",
        "# Let's create a clip!\n",
        "body = 'मैं बीमार हूं'\n",
        "clip = Resemble.v2.clips.create_sync(project_uuid,\n",
        "                                     voice_uuid,\n",
        "                                     body,\n",
        "                                     title=None,\n",
        "                                     sample_rate=None,\n",
        "                                     output_format='mp3',  # Optional: Set output format\n",
        "                                     precision=None,\n",
        "                                     include_timestamps=None,\n",
        "                                     is_archived=None,\n",
        "                                     raw=None)\n",
        "\n",
        "print(clip)\n",
        "audio_url = clip['item']['audio_src']\n",
        "\n",
        "response = requests.get(audio_url)\n",
        "with open('output.mp3', 'wb') as f:\n",
        "    f.write(response.content)\n",
        "\n",
        "print(\"Audio saved as output.mp3\")\n",
        "'''\n",
        "Get the clip details (including the URL)\n",
        "clip_details = Resemble.v2.clips.get(clip['uuid'])\n",
        "audio_url = clip_details['url']\n",
        "\n",
        "#response = requests.get(audio_url)\n",
        "response = requests.get(audio_url)\n",
        "with open('output.mp3', 'wb') as f:\n",
        "    f.write(response.content)\n",
        "\n",
        "print(\"Audio saved as output.mp3\")\n",
        "'''"
      ],
      "metadata": {
        "id": "y1OPNQXQRtTT"
      },
      "execution_count": null,
      "outputs": []
    },
    {
      "cell_type": "markdown",
      "source": [
        "# PlayHit 2.0"
      ],
      "metadata": {
        "id": "Lpkx4AvwBNrK"
      }
    },
    {
      "cell_type": "code",
      "source": [
        "!pip install pyht"
      ],
      "metadata": {
        "colab": {
          "base_uri": "https://localhost:8080/"
        },
        "id": "N37EeQCJBq-7",
        "outputId": "7b306567-fa5d-48ea-c113-d77553067733"
      },
      "execution_count": 11,
      "outputs": [
        {
          "output_type": "stream",
          "name": "stdout",
          "text": [
            "Collecting pyht\n",
            "  Downloading pyht-0.0.28-py3-none-any.whl (23 kB)\n",
            "Requirement already satisfied: filelock<4.0.0,>=3.12.4 in /usr/local/lib/python3.10/dist-packages (from pyht) (3.15.4)\n",
            "Requirement already satisfied: grpcio<2.0.0,>=1.58.0 in /usr/local/lib/python3.10/dist-packages (from pyht) (1.64.1)\n",
            "Collecting protobuf<5.0.0,>=4.24.3 (from pyht)\n",
            "  Downloading protobuf-4.25.3-cp37-abi3-manylinux2014_x86_64.whl (294 kB)\n",
            "\u001b[2K     \u001b[90m━━━━━━━━━━━━━━━━━━━━━━━━━━━━━━━━━━━━━━━━\u001b[0m \u001b[32m294.6/294.6 kB\u001b[0m \u001b[31m10.9 MB/s\u001b[0m eta \u001b[36m0:00:00\u001b[0m\n",
            "\u001b[?25hRequirement already satisfied: requests<3.0.0,>=2.31.0 in /usr/local/lib/python3.10/dist-packages (from pyht) (2.31.0)\n",
            "Requirement already satisfied: charset-normalizer<4,>=2 in /usr/local/lib/python3.10/dist-packages (from requests<3.0.0,>=2.31.0->pyht) (3.3.2)\n",
            "Requirement already satisfied: idna<4,>=2.5 in /usr/local/lib/python3.10/dist-packages (from requests<3.0.0,>=2.31.0->pyht) (3.7)\n",
            "Requirement already satisfied: urllib3<3,>=1.21.1 in /usr/local/lib/python3.10/dist-packages (from requests<3.0.0,>=2.31.0->pyht) (2.0.7)\n",
            "Requirement already satisfied: certifi>=2017.4.17 in /usr/local/lib/python3.10/dist-packages (from requests<3.0.0,>=2.31.0->pyht) (2024.6.2)\n",
            "Installing collected packages: protobuf, pyht\n",
            "  Attempting uninstall: protobuf\n",
            "    Found existing installation: protobuf 3.20.3\n",
            "    Uninstalling protobuf-3.20.3:\n",
            "      Successfully uninstalled protobuf-3.20.3\n",
            "\u001b[31mERROR: pip's dependency resolver does not currently take into account all the packages that are installed. This behaviour is the source of the following dependency conflicts.\n",
            "tensorflow-metadata 1.15.0 requires protobuf<4.21,>=3.20.3; python_version < \"3.11\", but you have protobuf 4.25.3 which is incompatible.\u001b[0m\u001b[31m\n",
            "\u001b[0mSuccessfully installed protobuf-4.25.3 pyht-0.0.28\n"
          ]
        }
      ]
    },
    {
      "cell_type": "code",
      "source": [
        "from pyht import Client\n",
        "\n",
        "client = Client(\n",
        "   user_id=\"8KgO5NGR1vUk8zalMt0eypXzngf1\",\n",
        "   api_key=\"bc511257fcb24062bece0b4cb9f83ca7\",\n",
        ")"
      ],
      "metadata": {
        "id": "C7zrwwU4BfLK"
      },
      "execution_count": 12,
      "outputs": []
    },
    {
      "cell_type": "code",
      "source": [
        "import requests\n",
        "\n",
        "url = \"https://api.play.ht/api/v2/tts\"\n",
        "\n",
        "payload = {\n",
        "    \"text\": \"My name is Suraj\",\n",
        "    \"voice\": \"s3://voice-cloning-zero-shot/d9ff78ba-d016-47f6-b0ef-dd630f59414e/female-cs/manifest.json\",\n",
        "    \"output_format\": \"mp3\",\n",
        "    \"voice_engine\": \"PlayHT2.0\"\n",
        "}\n",
        "headers = {\n",
        "    \"accept\": \"text/event-stream\",\n",
        "    \"content-type\": \"application/json\",\n",
        "    \"Authorization\": \"bc511257fcb24062bece0b4cb9f83ca7\",\n",
        "    \"X-User-Id\": \"8KgO5NGR1vUk8zalMt0eypXzngf1\"\n",
        "}\n",
        "\n",
        "response = requests.post(url, json=payload, headers=headers)\n",
        "\n",
        "print(response.text)\n"
      ],
      "metadata": {
        "colab": {
          "base_uri": "https://localhost:8080/"
        },
        "id": "N2XEKkDA83B6",
        "outputId": "85aa225d-f030-4205-d583-4f6a1393b8b5"
      },
      "execution_count": 18,
      "outputs": [
        {
          "output_type": "stream",
          "name": "stdout",
          "text": [
            "event: generating\r\n",
            "data: {\"id\":\"O02X5BCyTgqBn8Uaau\",\"progress\":0,\"stage\":\"queued\"}\r\n",
            "\r\n",
            "event: generating\r\n",
            "data: {\"id\":\"O02X5BCyTgqBn8Uaau\",\"progress\":0.01,\"stage\":\"active\"}\r\n",
            "\r\n",
            "event: generating\r\n",
            "data: {\"id\":\"O02X5BCyTgqBn8Uaau\",\"progress\":0.01,\"stage\":\"preload\",\"stage_progress\":0}\r\n",
            "\r\n",
            "event: generating\r\n",
            "data: {\"id\":\"O02X5BCyTgqBn8Uaau\",\"progress\":0.11,\"stage\":\"preload\",\"stage_progress\":0.5}\r\n",
            "\r\n",
            "event: generating\r\n",
            "data: {\"id\":\"O02X5BCyTgqBn8Uaau\",\"progress\":0.21,\"stage\":\"preload\",\"stage_progress\":1}\r\n",
            "\r\n",
            "event: ping\r\n",
            "data: 2024-07-06T12:44:40.434Z\r\n",
            "\r\n",
            "event: ping\r\n",
            "data: 2024-07-06T12:44:55.435Z\r\n",
            "\r\n",
            "event: ping\r\n",
            "data: 2024-07-06T12:45:10.435Z\r\n",
            "\r\n",
            "event: ping\r\n",
            "data: 2024-07-06T12:45:25.436Z\r\n",
            "\r\n",
            "event: ping\r\n",
            "data: 2024-07-06T12:45:40.438Z\r\n",
            "\r\n",
            "event: ping\r\n",
            "data: 2024-07-06T12:45:55.439Z\r\n",
            "\r\n",
            "event: ping\r\n",
            "data: 2024-07-06T12:46:10.439Z\r\n",
            "\r\n",
            "event: ping\r\n",
            "data: 2024-07-06T12:46:25.440Z\r\n",
            "\r\n",
            "event: ping\r\n",
            "data: 2024-07-06T12:46:40.441Z\r\n",
            "\r\n",
            "event: generating\r\n",
            "data: {\"id\":\"O02X5BCyTgqBn8Uaau\",\"progress\":0.21,\"stage\":\"generate\",\"stage_progress\":0}\r\n",
            "\r\n",
            "event: generating\r\n",
            "data: {\"id\":\"O02X5BCyTgqBn8Uaau\",\"progress\":0.32,\"stage\":\"generate\",\"stage_progress\":0.2}\r\n",
            "\r\n",
            "event: generating\r\n",
            "data: {\"id\":\"O02X5BCyTgqBn8Uaau\",\"progress\":0.74,\"stage\":\"postprocessing\",\"stage_progress\":0}\r\n",
            "\r\n",
            "event: generating\r\n",
            "data: {\"id\":\"O02X5BCyTgqBn8Uaau\",\"progress\":0.82,\"stage\":\"postprocessing\",\"stage_progress\":0.33}\r\n",
            "\r\n",
            "event: generating\r\n",
            "data: {\"id\":\"O02X5BCyTgqBn8Uaau\",\"progress\":0.91,\"stage\":\"postprocessing\",\"stage_progress\":0.67}\r\n",
            "\r\n",
            "event: generating\r\n",
            "data: {\"id\":\"O02X5BCyTgqBn8Uaau\",\"progress\":0.99,\"stage\":\"postprocessing\",\"stage_progress\":1}\r\n",
            "\r\n",
            "event: completed\r\n",
            "data: {\"id\":\"O02X5BCyTgqBn8Uaau\",\"progress\":1,\"stage\":\"complete\",\"url\":\"https://peregrine-results.s3.amazonaws.com/pigeon/O02X5BCyTgqBn8Uaau_0.mp3\",\"duration\":1.9413,\"size\":40365}\r\n",
            "\r\n",
            "\n"
          ]
        }
      ]
    },
    {
      "cell_type": "code",
      "source": [
        "import requests\n",
        "\n",
        "url = \"https://api.play.ht/api/v2/tts\"\n",
        "\n",
        "payload = {\n",
        "    \"text\": \"मैं बीमार हूं\",\n",
        "    \"voice\": \"s3://voice-cloning-zero-shot/d9ff78ba-d016-47f6-b0ef-dd630f59414e/female-cs/manifest.json\",\n",
        "    \"output_format\": \"mp3\",\n",
        "    \"voice_engine\": \"PlayHT2.0\"\n",
        "}\n",
        "headers = {\n",
        "    \"accept\": \"text/event-stream\",\n",
        "    \"content-type\": \"application/json\",\n",
        "    \"Authorization\": \"bc511257fcb24062bece0b4cb9f83ca7\",\n",
        "    \"X-User-Id\": \"8KgO5NGR1vUk8zalMt0eypXzngf1\"\n",
        "}\n",
        "\n",
        "response = requests.post(url, json=payload, headers=headers)\n",
        "\n",
        "print(response.text)\n"
      ],
      "metadata": {
        "colab": {
          "base_uri": "https://localhost:8080/"
        },
        "id": "qz1UVKynGOFZ",
        "outputId": "750c8d00-c46c-4745-b080-65fa81f097c0"
      },
      "execution_count": 19,
      "outputs": [
        {
          "output_type": "stream",
          "name": "stdout",
          "text": [
            "event: generating\r\n",
            "data: {\"id\":\"DoOeUFXaESiZjHr0mB\",\"progress\":0,\"stage\":\"queued\"}\r\n",
            "\r\n",
            "event: generating\r\n",
            "data: {\"id\":\"DoOeUFXaESiZjHr0mB\",\"progress\":0.01,\"stage\":\"active\"}\r\n",
            "\r\n",
            "event: generating\r\n",
            "data: {\"id\":\"DoOeUFXaESiZjHr0mB\",\"progress\":0.01,\"stage\":\"preload\",\"stage_progress\":0}\r\n",
            "\r\n",
            "event: generating\r\n",
            "data: {\"id\":\"DoOeUFXaESiZjHr0mB\",\"progress\":0.11,\"stage\":\"preload\",\"stage_progress\":0.5}\r\n",
            "\r\n",
            "event: generating\r\n",
            "data: {\"id\":\"DoOeUFXaESiZjHr0mB\",\"progress\":0.21,\"stage\":\"preload\",\"stage_progress\":1}\r\n",
            "\r\n",
            "event: ping\r\n",
            "data: 2024-07-06T12:51:22.372Z\r\n",
            "\r\n",
            "event: ping\r\n",
            "data: 2024-07-06T12:51:37.372Z\r\n",
            "\r\n",
            "event: ping\r\n",
            "data: 2024-07-06T12:51:52.373Z\r\n",
            "\r\n",
            "event: ping\r\n",
            "data: 2024-07-06T12:52:07.374Z\r\n",
            "\r\n",
            "event: ping\r\n",
            "data: 2024-07-06T12:52:22.375Z\r\n",
            "\r\n",
            "event: generating\r\n",
            "data: {\"id\":\"DoOeUFXaESiZjHr0mB\",\"progress\":0,\"stage\":\"queued\"}\r\n",
            "\r\n",
            "event: ping\r\n",
            "data: 2024-07-06T12:52:37.377Z\r\n",
            "\r\n",
            "event: generating\r\n",
            "data: {\"id\":\"DoOeUFXaESiZjHr0mB\",\"progress\":0.01,\"stage\":\"active\"}\r\n",
            "\r\n",
            "event: generating\r\n",
            "data: {\"id\":\"DoOeUFXaESiZjHr0mB\",\"progress\":0.01,\"stage\":\"preload\",\"stage_progress\":0}\r\n",
            "\r\n",
            "event: generating\r\n",
            "data: {\"id\":\"DoOeUFXaESiZjHr0mB\",\"progress\":0.11,\"stage\":\"preload\",\"stage_progress\":0.5}\r\n",
            "\r\n",
            "event: generating\r\n",
            "data: {\"id\":\"DoOeUFXaESiZjHr0mB\",\"progress\":0.21,\"stage\":\"preload\",\"stage_progress\":1}\r\n",
            "\r\n",
            "event: generating\r\n",
            "data: {\"id\":\"DoOeUFXaESiZjHr0mB\",\"progress\":0.21,\"stage\":\"generate\",\"stage_progress\":0}\r\n",
            "\r\n",
            "event: generating\r\n",
            "data: {\"id\":\"DoOeUFXaESiZjHr0mB\",\"progress\":0.32,\"stage\":\"generate\",\"stage_progress\":0.2}\r\n",
            "\r\n",
            "event: generating\r\n",
            "data: {\"id\":\"DoOeUFXaESiZjHr0mB\",\"progress\":0.74,\"stage\":\"postprocessing\",\"stage_progress\":0}\r\n",
            "\r\n",
            "event: generating\r\n",
            "data: {\"id\":\"DoOeUFXaESiZjHr0mB\",\"progress\":0.82,\"stage\":\"postprocessing\",\"stage_progress\":0.33}\r\n",
            "\r\n",
            "event: generating\r\n",
            "data: {\"id\":\"DoOeUFXaESiZjHr0mB\",\"progress\":0.91,\"stage\":\"postprocessing\",\"stage_progress\":0.67}\r\n",
            "\r\n",
            "event: generating\r\n",
            "data: {\"id\":\"DoOeUFXaESiZjHr0mB\",\"progress\":0.99,\"stage\":\"postprocessing\",\"stage_progress\":1}\r\n",
            "\r\n",
            "event: completed\r\n",
            "data: {\"id\":\"DoOeUFXaESiZjHr0mB\",\"progress\":1,\"stage\":\"complete\",\"url\":\"https://peregrine-results.s3.amazonaws.com/pigeon/DoOeUFXaESiZjHr0mB_0.mp3\",\"duration\":1.664,\"size\":35085}\r\n",
            "\r\n",
            "\n"
          ]
        }
      ]
    },
    {
      "cell_type": "code",
      "source": [
        "import requests\n",
        "\n",
        "url = \"https://api.play.ht/api/v2/tts\"\n",
        "\n",
        "payload = {\n",
        "    \"text\": \"Hello from a realistic voice.\",\n",
        "    \"voice\": \"s3://voice-cloning-zero-shot/d9ff78ba-d016-47f6-b0ef-dd630f59414e/female-cs/manifest.json\",\n",
        "    \"output_format\": \"mp3\",\n",
        "    \"voice_engine\": \"PlayHT2.0\"\n",
        "}\n",
        "headers = {\n",
        "    \"accept\": \"text/event-stream\",\n",
        "    \"content-type\": \"application/json\",\n",
        "    \"Authorization\": \"bc511257fcb24062bece0b4cb9f83ca7\",\n",
        "    \"X-User-Id\": \"8KgO5NGR1vUk8zalMt0eypXzngf1\"\n",
        "}\n",
        "\n",
        "response = requests.post(url, json=payload, headers=headers)\n",
        "\n",
        "audio_url = None\n",
        "\n",
        "for line in response.iter_lines():\n",
        "    if line:\n",
        "        line_str = line.decode('utf-8')\n",
        "        if 'event: completed' in line_str:\n",
        "            audio_url = line_str.split('url:')[1].strip()\n",
        "            break\n",
        "\n",
        "if audio_url:\n",
        "    audio_response = requests.get(audio_url)\n",
        "    with open('output.mp3', 'wb') as f:\n",
        "        f.write(audio_response.content)\n",
        "    print(\"Audio file downloaded successfully!\")\n",
        "else:\n",
        "    print(\"Error: Could not find audio URL in the response.\")"
      ],
      "metadata": {
        "colab": {
          "base_uri": "https://localhost:8080/",
          "height": 211
        },
        "id": "J76wwJcNCjYe",
        "outputId": "2f107856-39c6-4f89-b3b5-46b393c538d1"
      },
      "execution_count": 16,
      "outputs": [
        {
          "output_type": "error",
          "ename": "IndexError",
          "evalue": "list index out of range",
          "traceback": [
            "\u001b[0;31m---------------------------------------------------------------------------\u001b[0m",
            "\u001b[0;31mIndexError\u001b[0m                                Traceback (most recent call last)",
            "\u001b[0;32m<ipython-input-16-f269a115ded8>\u001b[0m in \u001b[0;36m<cell line: 22>\u001b[0;34m()\u001b[0m\n\u001b[1;32m     24\u001b[0m         \u001b[0mline_str\u001b[0m \u001b[0;34m=\u001b[0m \u001b[0mline\u001b[0m\u001b[0;34m.\u001b[0m\u001b[0mdecode\u001b[0m\u001b[0;34m(\u001b[0m\u001b[0;34m'utf-8'\u001b[0m\u001b[0;34m)\u001b[0m\u001b[0;34m\u001b[0m\u001b[0;34m\u001b[0m\u001b[0m\n\u001b[1;32m     25\u001b[0m         \u001b[0;32mif\u001b[0m \u001b[0;34m'event: completed'\u001b[0m \u001b[0;32min\u001b[0m \u001b[0mline_str\u001b[0m\u001b[0;34m:\u001b[0m\u001b[0;34m\u001b[0m\u001b[0;34m\u001b[0m\u001b[0m\n\u001b[0;32m---> 26\u001b[0;31m             \u001b[0maudio_url\u001b[0m \u001b[0;34m=\u001b[0m \u001b[0mline_str\u001b[0m\u001b[0;34m.\u001b[0m\u001b[0msplit\u001b[0m\u001b[0;34m(\u001b[0m\u001b[0;34m'url:'\u001b[0m\u001b[0;34m)\u001b[0m\u001b[0;34m[\u001b[0m\u001b[0;36m1\u001b[0m\u001b[0;34m]\u001b[0m\u001b[0;34m.\u001b[0m\u001b[0mstrip\u001b[0m\u001b[0;34m(\u001b[0m\u001b[0;34m)\u001b[0m\u001b[0;34m\u001b[0m\u001b[0;34m\u001b[0m\u001b[0m\n\u001b[0m\u001b[1;32m     27\u001b[0m             \u001b[0;32mbreak\u001b[0m\u001b[0;34m\u001b[0m\u001b[0;34m\u001b[0m\u001b[0m\n\u001b[1;32m     28\u001b[0m \u001b[0;34m\u001b[0m\u001b[0m\n",
            "\u001b[0;31mIndexError\u001b[0m: list index out of range"
          ]
        }
      ]
    }
  ]
}