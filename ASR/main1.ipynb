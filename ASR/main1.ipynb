{
 "cells": [
  {
   "cell_type": "code",
   "execution_count": null,
   "metadata": {},
   "outputs": [],
   "source": [
    "import gradio as gr\n",
    "from transformers import pipeline\n",
    "import numpy as np"
   ]
  },
  {
   "cell_type": "code",
   "execution_count": null,
   "metadata": {},
   "outputs": [],
   "source": [
    "import torch\n",
    "device = \"cuda:0\" if torch.cuda.is_available() else 'cpu'\n",
    "device"
   ]
  },
  {
   "cell_type": "code",
   "execution_count": null,
   "metadata": {},
   "outputs": [],
   "source": [
    "# model = \"facebook/hubert-large-ls960-ft\" # for all languages\n",
    "# model = \"openai/whisper-base.en\" # for english\n",
    "# model = \"ai4bharat/indicwav2vec-hindi\" # for hindi, gujarati\n",
    "# model = \"facebook/wav2vec2-large-960h-lv60-self\" # for deu, eng, fra, pol\n",
    "\n",
    "# TODO: implement language adapters load_adapter() function  \n",
    "# model = \"facebook/mms-1b-fl102\" # ara, cmn-script_simplified, deu, eng, fra, guj, hin, jpn, pol, tam, tgl, urd-script_arabic, yue-script_traditional\n",
    "\n"
   ]
  },
  {
   "cell_type": "code",
   "execution_count": null,
   "metadata": {},
   "outputs": [],
   "source": [
    "language = 'hin'\n",
    "transcriber = pipeline(\"automatic-speech-recognition\", model=model,model_kwargs={\"target_lang\": language, \"ignore_mismatched_sizes\": True}, device=device)"
   ]
  },
  {
   "cell_type": "code",
   "execution_count": null,
   "metadata": {},
   "outputs": [],
   "source": [
    "# def transcribe(audio):\n",
    "#     sr, y = audio\n",
    "#     y = (y.astype(np.float32))/np.max(np.abs(y))\n",
    "#     return transcriber({\"sampling_rate\": sr, \"raw\": y})[\"text\"]\n",
    "\n",
    "# demo = gr.Interface(transcribe, gr.Audio(sources=[\"microphone\"]), \"text\")\n",
    "\n",
    "# demo.launch()"
   ]
  },
  {
   "cell_type": "code",
   "execution_count": null,
   "metadata": {},
   "outputs": [],
   "source": [
    "def transcribe_with_stream(stream, new_chunk):\n",
    "    sr, y = new_chunk\n",
    "    y = y.astype(np.float32)\n",
    "    y /= np.max(np.abs(y))\n",
    "\n",
    "    if stream is not None:\n",
    "        stream = np.concatenate([stream, y])\n",
    "    else:\n",
    "        stream = y\n",
    "\n",
    "    transcribed = transcriber({\"sampling_rate\": sr, \"raw\": stream})\n",
    "    print(transcribed)\n",
    "    text = transcribed[\"text\"]\n",
    "    return stream, text\n",
    "\n",
    "demo = gr.Interface(\n",
    "    transcribe_with_stream,\n",
    "    [\"state\", gr.Audio(sources=[\"microphone\"], streaming=True)],\n",
    "    [\"state\", \"text\"],\n",
    "    live=True,\n",
    ")\n",
    "\n",
    "demo.launch()\n"
   ]
  },
  {
   "cell_type": "code",
   "execution_count": null,
   "metadata": {},
   "outputs": [],
   "source": []
  }
 ],
 "metadata": {
  "kernelspec": {
   "display_name": "base",
   "language": "python",
   "name": "python3"
  },
  "language_info": {
   "codemirror_mode": {
    "name": "ipython",
    "version": 3
   },
   "file_extension": ".py",
   "mimetype": "text/x-python",
   "name": "python",
   "nbconvert_exporter": "python",
   "pygments_lexer": "ipython3",
   "version": "3.11.7"
  }
 },
 "nbformat": 4,
 "nbformat_minor": 2
}
